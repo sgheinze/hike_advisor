{
 "cells": [
  {
   "cell_type": "code",
   "execution_count": 1,
   "metadata": {},
   "outputs": [],
   "source": [
    "import random\n",
    "import csv\n",
    "import bs4\n",
    "import pandas as pd\n",
    "import numpy as np\n",
    "import time\n",
    "import concurrent.futures\n",
    "from concurrent.futures import ProcessPoolExecutor\n",
    "from datetime import datetime\n",
    "from selenium import webdriver\n",
    "from IPython.display import clear_output, display\n",
    "from selenium.webdriver.common.by import By \n",
    "from selenium.webdriver.support.ui import WebDriverWait \n",
    "from selenium.webdriver.support import expected_conditions as EC \n",
    "from selenium.common.exceptions import TimeoutException"
   ]
  },
  {
   "cell_type": "markdown",
   "metadata": {},
   "source": [
    "<font color='black' size=6><u> **Navigate AllTrails.com and extract all CA hikes** </u></font>"
   ]
  },
  {
   "cell_type": "markdown",
   "metadata": {},
   "source": [
    "Implement code to  <font color='green'> **extract all hike urls in CA**</font> from AllTrails.com."
   ]
  },
  {
   "cell_type": "code",
   "execution_count": 5,
   "metadata": {},
   "outputs": [],
   "source": [
    "agent_list = []\n",
    "with open('agent_list.csv', 'r') as f:\n",
    "    reader = csv.reader(f, delimiter=',')\n",
    "    for r in reader:\n",
    "        for agent in r:\n",
    "            agent_list.append(agent)\n",
    "\n",
    "def open_chrome():\n",
    "    option = webdriver.ChromeOptions()\n",
    "    option.add_argument(' — incognito')\n",
    "    user_agent = random.choice(agent_list)\n",
    "    option.add_argument(f'user-agent={user_agent}')\n",
    "    browser = webdriver.Chrome(executable_path='/Users/stefanheinze/Desktop/chromedriver', options=option)\n",
    "    \n",
    "    return browser"
   ]
  },
  {
   "cell_type": "code",
   "execution_count": 6,
   "metadata": {},
   "outputs": [],
   "source": [
    "def progress_display(current_value, iterable, start_time):\n",
    "    current_index = iterable.index(current_value)\n",
    "    current_time = datetime.now()\n",
    "    delta_time = (current_time - start_time).total_seconds()\n",
    "    clear_output(wait=True)\n",
    "    print(str(current_index) + '/' + str(len(iterable)) + ' (' + str(round(current_index/len(iterable)*100, 1)) + '%)')  # use display(f) if you encounter performance issues\n",
    "    print(str(int(delta_time)) + ' seconds have elapsed.')\n",
    "    print('Expected time remaining is ' + str(int((len(iterable) - current_index) * (delta_time / current_index))) + ' seconds.')"
   ]
  },
  {
   "cell_type": "code",
   "execution_count": 7,
   "metadata": {},
   "outputs": [],
   "source": [
    "def load_all_hikes():\n",
    "    '''Loads the California section of AllTrails.com and clicks through\n",
    "    the \"Load More Hikes\" button until it no longer appears (i.e. all\n",
    "    hikes are loaded.\n",
    "    \n",
    "    Returns HTML soup.'''\n",
    "    \n",
    "    browser = open_chrome()\n",
    "    browser.get('https://www.alltrails.com/us/california')\n",
    "    \n",
    "    # Wait 20 seconds for page to load\n",
    "    timeout = 20\n",
    "    try:\n",
    "        WebDriverWait(browser, timeout).until(EC.visibility_of_element_located((By.XPATH, '//*[@id=\"load_more\"]/a/div/h3')))\n",
    "    except TimeoutException:\n",
    "        print('Timed out waiting for page to load')\n",
    "        browser.quit()\n",
    "    \n",
    "    count = 0\n",
    "    start_time = datetime.now()\n",
    "    while True:\n",
    "        try:\n",
    "            WebDriverWait(browser, timeout).until(EC.visibility_of_element_located((By.XPATH,'//*[@id=\"load_more\"]/a/div/h3')))\n",
    "            load_more_button = browser.find_element_by_xpath('//*[@id=\"load_more\"]/a/div/h3')\n",
    "            browser.execute_script(\"arguments[0].scrollIntoView()\", load_more_button)\n",
    "            time.sleep(1)\n",
    "            load_more_button.click()\n",
    "            count += 24\n",
    "            progress_display(count, range(8200), start_time=start_time)\n",
    "            time.sleep(random.uniform(0,2))\n",
    "        except Exception as e:\n",
    "            print(e)\n",
    "            break\n",
    "\n",
    "    soup = bs4.BeautifulSoup(browser.page_source)\n",
    "    \n",
    "    return soup"
   ]
  },
  {
   "cell_type": "code",
   "execution_count": 8,
   "metadata": {},
   "outputs": [],
   "source": [
    "def extract_hike_urls(soup):\n",
    "    '''Extracts hike links from the fully loaded AllTrails.com California webpage.\n",
    "    \n",
    "    Returns hike urls in a list.'''\n",
    "    \n",
    "    hikes_html = soup.find_all('h3', class_='name xlate-none short')\n",
    "    #hike_names = [ hike.text for hike in hikes_html ]\n",
    "    hike_hrefs = [ hike.find('a')['href'] for hike in hikes_html ]\n",
    "    hike_urls = [ 'https://www.alltrails.com' + href for href in hike_hrefs ]\n",
    "    \n",
    "    return hike_urls"
   ]
  },
  {
   "cell_type": "code",
   "execution_count": 9,
   "metadata": {},
   "outputs": [],
   "source": [
    "def save_list(listname, filename):\n",
    "    '''Saves list to csv, with each item in the same row separated by a comma.'''\n",
    "    \n",
    "    with open(filename, 'w') as f:\n",
    "        writer = csv.writer(f)\n",
    "        for item in listname:\n",
    "            writer.writerow([str(item)])"
   ]
  },
  {
   "cell_type": "code",
   "execution_count": 139,
   "metadata": {},
   "outputs": [
    {
     "name": "stdout",
     "output_type": "stream",
     "text": [
      "8184/8200 (99.8%)\n",
      "3629 seconds have elapsed.\n",
      "Expected time remaining is 7 seconds.\n",
      "8208 is not in range\n"
     ]
    }
   ],
   "source": [
    "soup = load_all_hikes()\n",
    "hike_urls = extract_hike_urls(soup)\n",
    "save_list(hike_urls, 'hike_urls.csv')"
   ]
  },
  {
   "cell_type": "markdown",
   "metadata": {},
   "source": [
    "# Extract data from hike"
   ]
  },
  {
   "cell_type": "markdown",
   "metadata": {},
   "source": [
    "Implement code to  <font color='green'> **extract hike data from hike urls**</font>."
   ]
  },
  {
   "cell_type": "code",
   "execution_count": 2,
   "metadata": {},
   "outputs": [],
   "source": [
    "def load_hike_page(hike_link):\n",
    "    '''\n",
    "    Loads webpage for a given hike on AllTrails.com and loads all reviews by \n",
    "    clicking through the \"Load More Reviews\" button.\n",
    "    \n",
    "    Returns HTML of webpage.\n",
    "    '''\n",
    "    \n",
    "    browser = open_chrome()\n",
    "    browser.get(hike_link)\n",
    "\n",
    "    # Wait 20 seconds for page to load\n",
    "    timeout = 30\n",
    "    try:\n",
    "        WebDriverWait(browser, timeout).until(EC.visibility_of_element_located((By.XPATH, '//*[@id=\"main-photo\"]/div[1]')))\n",
    "    except TimeoutException:\n",
    "        print('Timed out waiting for page to load')\n",
    "        browser.quit()\n",
    "\n",
    "    # Load all reviews\n",
    "    while True:\n",
    "        try:\n",
    "            WebDriverWait(browser, 5).until(EC.visibility_of_element_located((By.XPATH,'//*[@id=\"load_more\"]/div[2]/h3')))\n",
    "            load_more_button = browser.find_element_by_xpath('//*[@id=\"load_more\"]/div[2]/h3')\n",
    "            browser.execute_script(\"arguments[0].scrollIntoView()\", load_more_button)\n",
    "            time.sleep(1)\n",
    "            load_more_button.click()\n",
    "            time.sleep(random.uniform(0,1))\n",
    "        except:\n",
    "            break\n",
    "\n",
    "    soup = bs4.BeautifulSoup(browser.page_source)\n",
    "    browser.close()\n",
    "\n",
    "    return soup"
   ]
  },
  {
   "cell_type": "code",
   "execution_count": 10,
   "metadata": {},
   "outputs": [],
   "source": [
    "def extract_hike_data(soup):\n",
    "    '''\n",
    "    Extract the following data for a single hike on AllTrails.com:\n",
    "    \n",
    "       Variable (type)\n",
    "     - hike_name (str)\n",
    "     - hike_difficulty (str)\n",
    "     - hike_distance (str)\n",
    "     - hike_elevation (str)\n",
    "     - hike_type (str)\n",
    "     - hike_tags (list of str)\n",
    "     - hike_description (str)\n",
    "     - user_names (list of str)\n",
    "     - user_hrefs (list of str)\n",
    "     - user_texts (list of str)\n",
    "     - user_ratings (list of int)\n",
    "     - user_dates (list of datetimes)\n",
    "     \n",
    "     Returns a dict with the above keys.\n",
    "    '''\n",
    "    \n",
    "    # Get hike name\n",
    "    try:\n",
    "        hike_name = soup.find('title').text\n",
    "    except:\n",
    "        hike_name = None\n",
    "    \n",
    "    # Get hike difficulty\n",
    "    try:\n",
    "        hike_difficulty = soup.find('div', id='difficulty-and-rating').find('span').text\n",
    "    except:\n",
    "        hike_difficulty = None\n",
    "    \n",
    "    # Get hike distance, elevation, and type\n",
    "    try:\n",
    "        dist_elev_type = soup.find_all('div', class_='detail-data')\n",
    "        hike_distance = dist_elev_type[0].text\n",
    "        hike_elevation = dist_elev_type[1].text\n",
    "        hike_type = dist_elev_type[2].text\n",
    "    except:\n",
    "        hike_distance = None\n",
    "        hike_elevation = None\n",
    "        hike_type = None\n",
    "    \n",
    "    # Get tags associated with hike\n",
    "    try:\n",
    "        tag_data = soup.find_all('span', class_='big rounded active')\n",
    "        hike_tags = []\n",
    "        for tag in tag_data:\n",
    "            hike_tags.append(tag.text)\n",
    "    except:\n",
    "        hike_tags = None\n",
    "    \n",
    "    # Get hike description\n",
    "    try:\n",
    "        hike_description = soup.find('p', class_='xlate-google').text\n",
    "    except:\n",
    "        hike_description = None\n",
    "    \n",
    "    # Get user names and hrefs (which serve as unique ID)\n",
    "    try:\n",
    "        reviewer_info = soup.find_all('span', itemprop='author')\n",
    "        user_names = [ item.text for item in reviewer_info ]\n",
    "        user_hrefs = []\n",
    "        for item in reviewer_info:\n",
    "            # Some users don't have an ID\n",
    "            try:\n",
    "                user_hrefs.append(item.parent['href'])\n",
    "            except:\n",
    "                user_hrefs.append(None)\n",
    "    except:\n",
    "        user_names = None\n",
    "        user_hrefs = None\n",
    "    \n",
    "    # Get user ratings\n",
    "    try:\n",
    "        reviews_html = soup.find_all('meta', itemprop='ratingValue')\n",
    "        user_ratings = [ int(item['content']) for item in reviews_html[1:] ]\n",
    "    except:\n",
    "        user_ratings = None\n",
    "    \n",
    "    # Get user review publish dates\n",
    "    try:\n",
    "        publish_html = soup.find_all('meta', itemprop='datePublished')\n",
    "        user_dates = [ datetime.strptime(item['content'], '%Y-%m-%d') for item in publish_html ]\n",
    "    except:\n",
    "        user_dates = None\n",
    "    \n",
    "    # Get user review text\n",
    "    try:\n",
    "        text_html = soup.find_all('p', itemprop='reviewBody')\n",
    "        user_texts = [ item.text for item in text_html ]\n",
    "    except: user_texts = None\n",
    "    \n",
    "    # Create dictionary with all scraped information\n",
    "    hike_info_dict = {}\n",
    "    hike_info_dict['hike_name'] = hike_name\n",
    "    hike_info_dict['hike_difficulty'] = hike_difficulty\n",
    "    hike_info_dict['hike_distance'] = hike_distance\n",
    "    hike_info_dict['hike_elevation'] = hike_elevation\n",
    "    hike_info_dict['hike_type'] = hike_type\n",
    "    hike_info_dict['hike_tags'] = hike_tags\n",
    "    hike_info_dict['hike_description'] = hike_description\n",
    "    hike_info_dict['user_names'] = user_names\n",
    "    hike_info_dict['user_hrefs'] = user_hrefs\n",
    "    hike_info_dict['user_texts'] = user_texts\n",
    "    hike_info_dict['user_ratings'] = user_ratings\n",
    "    hike_info_dict['user_dates'] = user_dates\n",
    "\n",
    "    return hike_info_dict"
   ]
  },
  {
   "cell_type": "code",
   "execution_count": 13,
   "metadata": {},
   "outputs": [],
   "source": [
    "def save_progress(hike_info_dict, filename):\n",
    "    '''\n",
    "    Saves scraped dictionary (hike_info_dict) to a csv file (filename) using pandas\n",
    "    '''\n",
    "    \n",
    "    try:\n",
    "        hike_df = pd.read_pickle(filename)\n",
    "        hike_df = hike_df.append(pd.DataFrame([hike_info_dict], columns=hike_info_dict.keys()))\n",
    "        hike_df.to_pickle(filename)\n",
    "    except FileNotFoundError: # first write to file\n",
    "        hike_df = pd.DataFrame([hike_info_dict], columns=hike_info_dict.keys())\n",
    "        hike_df.to_pickle(filename)"
   ]
  },
  {
   "cell_type": "code",
   "execution_count": 16,
   "metadata": {},
   "outputs": [],
   "source": [
    "def executor_func(url, filename):\n",
    "    soup = load_hike_page(url)\n",
    "    hike_info_dict = extract_hike_data(soup)\n",
    "    save_progress(hike_info_dict, filename)"
   ]
  },
  {
   "cell_type": "code",
   "execution_count": null,
   "metadata": {},
   "outputs": [
    {
     "name": "stdout",
     "output_type": "stream",
     "text": [
      "Timed out waiting for page to load\n",
      "Timed out waiting for page to load\n",
      "Timed out waiting for page to load\n",
      "Timed out waiting for page to load\n",
      "Timed out waiting for page to load\n",
      "Timed out waiting for page to load\n",
      "Timed out waiting for page to load\n",
      "Timed out waiting for page to load\n",
      "Timed out waiting for page to load\n",
      "Timed out waiting for page to load\n",
      "Timed out waiting for page to load\n",
      "Timed out waiting for page to load\n",
      "Timed out waiting for page to load\n",
      "Timed out waiting for page to load\n",
      "Timed out waiting for page to load\n",
      "Timed out waiting for page to load\n",
      "Timed out waiting for page to load\n",
      "Timed out waiting for page to load\n",
      "Timed out waiting for page to load\n",
      "Timed out waiting for page to load\n",
      "Timed out waiting for page to load\n",
      "Timed out waiting for page to load\n",
      "Timed out waiting for page to load\n",
      "Timed out waiting for page to load\n",
      "Timed out waiting for page to load\n",
      "Timed out waiting for page to load\n",
      "Timed out waiting for page to load\n",
      "Timed out waiting for page to load\n",
      "Timed out waiting for page to load\n",
      "Timed out waiting for page to load\n",
      "Timed out waiting for page to load\n",
      "Timed out waiting for page to load\n",
      "Timed out waiting for page to load\n",
      "Timed out waiting for page to load\n",
      "Timed out waiting for page to load\n",
      "Timed out waiting for page to load\n",
      "Timed out waiting for page to load\n",
      "Timed out waiting for page to load\n",
      "Timed out waiting for page to load\n",
      "Timed out waiting for page to load\n",
      "Timed out waiting for page to load\n",
      "Timed out waiting for page to load\n",
      "Timed out waiting for page to load\n",
      "Timed out waiting for page to load\n",
      "Timed out waiting for page to load\n",
      "Timed out waiting for page to load\n",
      "Timed out waiting for page to load\n",
      "Timed out waiting for page to load\n",
      "Timed out waiting for page to load\n",
      "Timed out waiting for page to load\n",
      "Timed out waiting for page to load\n",
      "Timed out waiting for page to load\n",
      "Timed out waiting for page to load\n",
      "Timed out waiting for page to load\n",
      "Timed out waiting for page to load\n",
      "Timed out waiting for page to load\n",
      "Timed out waiting for page to load\n",
      "Timed out waiting for page to load\n",
      "Timed out waiting for page to load\n",
      "Timed out waiting for page to load\n",
      "Timed out waiting for page to load\n",
      "Timed out waiting for page to load\n",
      "Timed out waiting for page to load\n",
      "Timed out waiting for page to load\n",
      "Timed out waiting for page to load\n",
      "Timed out waiting for page to load\n",
      "Timed out waiting for page to load\n",
      "Timed out waiting for page to load\n",
      "Timed out waiting for page to load\n",
      "Timed out waiting for page to load\n",
      "Timed out waiting for page to load\n",
      "Timed out waiting for page to load\n",
      "Timed out waiting for page to load\n",
      "Timed out waiting for page to load\n",
      "Timed out waiting for page to load\n",
      "Timed out waiting for page to load\n",
      "Timed out waiting for page to load\n",
      "Timed out waiting for page to load\n",
      "Timed out waiting for page to load\n",
      "Timed out waiting for page to load\n",
      "Timed out waiting for page to load\n",
      "Timed out waiting for page to load\n",
      "Timed out waiting for page to load\n",
      "Timed out waiting for page to load\n",
      "Timed out waiting for page to load\n",
      "Timed out waiting for page to load\n",
      "Timed out waiting for page to load\n",
      "Timed out waiting for page to load\n",
      "Timed out waiting for page to load\n",
      "Timed out waiting for page to load\n",
      "Timed out waiting for page to load\n",
      "Timed out waiting for page to load\n",
      "Timed out waiting for page to load\n",
      "Timed out waiting for page to load\n",
      "Timed out waiting for page to load\n",
      "Timed out waiting for page to load\n",
      "Timed out waiting for page to load\n",
      "Timed out waiting for page to load\n",
      "Timed out waiting for page to load\n",
      "Timed out waiting for page to load\n"
     ]
    }
   ],
   "source": [
    "with ProcessPoolExecutor(max_workers=6) as executor:\n",
    "    future_results = {executor.submit(executor_func, url=url, filename='hike_data_pickle'): url for url in hike_urls[203:]}"
   ]
  },
  {
   "cell_type": "markdown",
   "metadata": {},
   "source": [
    "## Read hike_urls"
   ]
  },
  {
   "cell_type": "code",
   "execution_count": 18,
   "metadata": {},
   "outputs": [],
   "source": [
    "urls_df = pd.read_csv('hike_urls.csv')\n",
    "hike_urls = [ url[0] for url in urls_df.values ]"
   ]
  },
  {
   "cell_type": "markdown",
   "metadata": {},
   "source": [
    "## Make agent list"
   ]
  },
  {
   "cell_type": "code",
   "execution_count": 711,
   "metadata": {},
   "outputs": [],
   "source": [
    "browser = webdriver.Chrome(executable_path='/Users/stefanheinze/Desktop/chromedriver', options=option)\n",
    "browser.get('http://useragentstring.com/pages/useragentstring.php?name=All')"
   ]
  },
  {
   "cell_type": "code",
   "execution_count": 716,
   "metadata": {},
   "outputs": [],
   "source": [
    "soup = bs4.BeautifulSoup(browser.page_source)\n",
    "user_agents = [ agent.text for agent in soup.find_all('a') ][5:]"
   ]
  },
  {
   "cell_type": "code",
   "execution_count": 767,
   "metadata": {},
   "outputs": [],
   "source": [
    "save_list(user_agents, 'agent_list.csv')"
   ]
  },
  {
   "cell_type": "markdown",
   "metadata": {},
   "source": [
    "<font size=4 color='green'><u>Many Tests</u></font>  \n",
    "This is a **test!**  \n",
    "This is *another* test!  \n",
    "And ***another!***\n",
    "\n",
    "Question: This markdown is a...?  \n",
    "(a) test  \n",
    "(b) *test*  \n",
    "(c) **test**  \n",
    "(d) ***test***\n",
    "\n",
    "It's obviously an ~~exam~~\n",
    "\n",
    "...one last test...\n",
    "\n",
    "`Test == Test`"
   ]
  },
  {
   "cell_type": "code",
   "execution_count": 110,
   "metadata": {},
   "outputs": [],
   "source": [
    "hike_data = pd.read_pickle('all_hike_data')"
   ]
  },
  {
   "cell_type": "code",
   "execution_count": 111,
   "metadata": {},
   "outputs": [],
   "source": [
    "num_ratings = {}\n",
    "for num in range(0,1000):\n",
    "    num_ratings[num] = (hike_data['user_ratings'].apply(len) == num).sum()"
   ]
  },
  {
   "cell_type": "code",
   "execution_count": 112,
   "metadata": {},
   "outputs": [],
   "source": [
    "import matplotlib.pyplot as plt"
   ]
  },
  {
   "cell_type": "code",
   "execution_count": 113,
   "metadata": {},
   "outputs": [
    {
     "data": {
      "image/png": "[encoded data removed]",
      "text/plain": [
       "<Figure size 576x288 with 1 Axes>"
      ]
     },
     "metadata": {
      "needs_background": "light"
     },
     "output_type": "display_data"
    }
   ],
   "source": [
    "bins=np.arange(1,1010,10)\n",
    "fig = plt.figure(figsize=(8,4))\n",
    "plt.hist(num_ratings.values(), bins=bins);"
   ]
  },
  {
   "cell_type": "code",
   "execution_count": 114,
   "metadata": {},
   "outputs": [],
   "source": [
    "hrefs = pd.Series(test['user_hrefs'].sum())"
   ]
  },
  {
   "cell_type": "code",
   "execution_count": 115,
   "metadata": {},
   "outputs": [
    {
     "name": "stdout",
     "output_type": "stream",
     "text": [
      "5367 hikes\n",
      "105535 unique users\n",
      "226618 text reviews.\n",
      "sparsity = 0.0400097919100818\n"
     ]
    }
   ],
   "source": [
    "print(str(test.shape[0]) + ' hikes')\n",
    "print(str(len(hrefs.unique())) + ' unique users')\n",
    "print(str((hrefs.isnull() == False).sum()) + ' text reviews.')\n",
    "\n",
    "sparsity = 226618 / (5367*105535) * 100\n",
    "print('sparsity = ' + str(sparsity))"
   ]
  },
  {
   "cell_type": "code",
   "execution_count": 116,
   "metadata": {},
   "outputs": [],
   "source": [
    "test_dict = {'a': {'1': 'this', '2': 'is'}, 'b': {'2': 'a', '3': 'test.'}}"
   ]
  },
  {
   "cell_type": "code",
   "execution_count": 117,
   "metadata": {},
   "outputs": [
    {
     "data": {
      "text/html": [
       "<div>\n",
       "<style scoped>\n",
       "    .dataframe tbody tr th:only-of-type {\n",
       "        vertical-align: middle;\n",
       "    }\n",
       "\n",
       "    .dataframe tbody tr th {\n",
       "        vertical-align: top;\n",
       "    }\n",
       "\n",
       "    .dataframe thead th {\n",
       "        text-align: right;\n",
       "    }\n",
       "</style>\n",
       "<table border=\"1\" class=\"dataframe\">\n",
       "  <thead>\n",
       "    <tr style=\"text-align: right;\">\n",
       "      <th></th>\n",
       "      <th>a</th>\n",
       "      <th>b</th>\n",
       "    </tr>\n",
       "  </thead>\n",
       "  <tbody>\n",
       "    <tr>\n",
       "      <th>1</th>\n",
       "      <td>this</td>\n",
       "      <td>NaN</td>\n",
       "    </tr>\n",
       "    <tr>\n",
       "      <th>2</th>\n",
       "      <td>is</td>\n",
       "      <td>a</td>\n",
       "    </tr>\n",
       "    <tr>\n",
       "      <th>3</th>\n",
       "      <td>NaN</td>\n",
       "      <td>test.</td>\n",
       "    </tr>\n",
       "  </tbody>\n",
       "</table>\n",
       "</div>"
      ],
      "text/plain": [
       "      a      b\n",
       "1  this    NaN\n",
       "2    is      a\n",
       "3   NaN  test."
      ]
     },
     "execution_count": 117,
     "metadata": {},
     "output_type": "execute_result"
    }
   ],
   "source": [
    "pd.DataFrame(test_dict)"
   ]
  },
  {
   "cell_type": "code",
   "execution_count": null,
   "metadata": {},
   "outputs": [],
   "source": []
  }
 ],
 "metadata": {
  "kernelspec": {
   "display_name": "Python 3",
   "language": "python",
   "name": "python3"
  },
  "language_info": {
   "codemirror_mode": {
    "name": "ipython",
    "version": 3
   },
   "file_extension": ".py",
   "mimetype": "text/x-python",
   "name": "python",
   "nbconvert_exporter": "python",
   "pygments_lexer": "ipython3",
   "version": "3.7.1"
  }
 },
 "nbformat": 4,
 "nbformat_minor": 2
}
