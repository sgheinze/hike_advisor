{
 "cells": [
  {
   "cell_type": "code",
   "execution_count": 509,
   "metadata": {},
   "outputs": [],
   "source": [
    "import pandas as pd\n",
    "import numpy as np\n",
    "import matplotlib.pyplot as plt\n",
    "import seaborn as sns\n",
    "from lightfm import LightFM\n",
    "from scipy.sparse import coo_matrix\n",
    "from scipy import sparse"
   ]
  },
  {
   "cell_type": "markdown",
   "metadata": {},
   "source": [
    "# Read data and basic facts about df"
   ]
  },
  {
   "cell_type": "code",
   "execution_count": 167,
   "metadata": {},
   "outputs": [],
   "source": [
    "hike_data = pd.read_pickle('../data/all_hike_data')"
   ]
  },
  {
   "cell_type": "code",
   "execution_count": 5,
   "metadata": {},
   "outputs": [
    {
     "data": {
      "text/html": [
       "<div>\n",
       "<style scoped>\n",
       "    .dataframe tbody tr th:only-of-type {\n",
       "        vertical-align: middle;\n",
       "    }\n",
       "\n",
       "    .dataframe tbody tr th {\n",
       "        vertical-align: top;\n",
       "    }\n",
       "\n",
       "    .dataframe thead th {\n",
       "        text-align: right;\n",
       "    }\n",
       "</style>\n",
       "<table border=\"1\" class=\"dataframe\">\n",
       "  <thead>\n",
       "    <tr style=\"text-align: right;\">\n",
       "      <th></th>\n",
       "      <th>hike_name</th>\n",
       "      <th>hike_difficulty</th>\n",
       "      <th>hike_distance</th>\n",
       "      <th>hike_elevation</th>\n",
       "      <th>hike_type</th>\n",
       "      <th>hike_tags</th>\n",
       "      <th>hike_description</th>\n",
       "      <th>user_names</th>\n",
       "      <th>user_hrefs</th>\n",
       "      <th>user_texts</th>\n",
       "      <th>user_ratings</th>\n",
       "      <th>user_dates</th>\n",
       "    </tr>\n",
       "  </thead>\n",
       "  <tbody>\n",
       "    <tr>\n",
       "      <th>0</th>\n",
       "      <td>Taft Point and The Fissures - California\\n |...</td>\n",
       "      <td>EASY</td>\n",
       "      <td>2.3 miles</td>\n",
       "      <td>374 feet</td>\n",
       "      <td>Out &amp; Back</td>\n",
       "      <td>[kid friendly, birding, hiking, horseback ridi...</td>\n",
       "      <td>Taft Point and The Fissures is a 2.3 mile mode...</td>\n",
       "      <td>[Soua Lee, Jeff Allen, Nicole Edmonds, Marie K...</td>\n",
       "      <td>[/members/soua-lee-3, /members/jeff-allen-41, ...</td>\n",
       "      <td>[Incredible hike! I would do this again althou...</td>\n",
       "      <td>[5, 4, 5, 4, 1, 5, 5, 4, 5, 5, 5, 5, 5, 5, 5, ...</td>\n",
       "      <td>[2018-11-13 00:00:00, 2018-11-05 00:00:00, 201...</td>\n",
       "    </tr>\n",
       "  </tbody>\n",
       "</table>\n",
       "</div>"
      ],
      "text/plain": [
       "                                           hike_name hike_difficulty  \\\n",
       "0    Taft Point and The Fissures - California\\n |...            EASY   \n",
       "\n",
       "  hike_distance hike_elevation   hike_type  \\\n",
       "0     2.3 miles       374 feet  Out & Back   \n",
       "\n",
       "                                           hike_tags  \\\n",
       "0  [kid friendly, birding, hiking, horseback ridi...   \n",
       "\n",
       "                                    hike_description  \\\n",
       "0  Taft Point and The Fissures is a 2.3 mile mode...   \n",
       "\n",
       "                                          user_names  \\\n",
       "0  [Soua Lee, Jeff Allen, Nicole Edmonds, Marie K...   \n",
       "\n",
       "                                          user_hrefs  \\\n",
       "0  [/members/soua-lee-3, /members/jeff-allen-41, ...   \n",
       "\n",
       "                                          user_texts  \\\n",
       "0  [Incredible hike! I would do this again althou...   \n",
       "\n",
       "                                        user_ratings  \\\n",
       "0  [5, 4, 5, 4, 1, 5, 5, 4, 5, 5, 5, 5, 5, 5, 5, ...   \n",
       "\n",
       "                                          user_dates  \n",
       "0  [2018-11-13 00:00:00, 2018-11-05 00:00:00, 201...  "
      ]
     },
     "execution_count": 5,
     "metadata": {},
     "output_type": "execute_result"
    }
   ],
   "source": [
    "hike_data.head(1)"
   ]
  },
  {
   "cell_type": "code",
   "execution_count": 7,
   "metadata": {},
   "outputs": [],
   "source": [
    "hrefs = pd.Series(hike_data['user_hrefs'].sum())"
   ]
  },
  {
   "cell_type": "code",
   "execution_count": 58,
   "metadata": {},
   "outputs": [
    {
     "name": "stdout",
     "output_type": "stream",
     "text": [
      "5367 hikes\n",
      "105535 unique users\n",
      "226618 text reviews.\n",
      "sparsity = 0.0400097919100818\n"
     ]
    }
   ],
   "source": [
    "print(str(hike_data.shape[0]) + ' hikes')\n",
    "print(str(len(hrefs.unique())) + ' unique users')\n",
    "print(str((hrefs.isnull() == False).sum()) + ' text reviews.')\n",
    "\n",
    "sparsity = 226618 / (5367*105535) * 100\n",
    "print('sparsity = ' + str(sparsity))"
   ]
  },
  {
   "cell_type": "code",
   "execution_count": 451,
   "metadata": {},
   "outputs": [
    {
     "data": {
      "text/plain": [
       "240346"
      ]
     },
     "execution_count": 451,
     "metadata": {},
     "output_type": "execute_result"
    }
   ],
   "source": [
    "len(hrefs)"
   ]
  },
  {
   "cell_type": "markdown",
   "metadata": {},
   "source": [
    "# Correct hike names"
   ]
  },
  {
   "cell_type": "code",
   "execution_count": 46,
   "metadata": {},
   "outputs": [],
   "source": [
    "def correct_hike_names(df):\n",
    "    df['hike_name'] = df['hike_name'].str.replace('\\n', '').str.replace('- California \\| AllTrails', '').str.strip()"
   ]
  },
  {
   "cell_type": "code",
   "execution_count": 168,
   "metadata": {},
   "outputs": [],
   "source": [
    "correct_hike_names(hike_data)"
   ]
  },
  {
   "cell_type": "code",
   "execution_count": 169,
   "metadata": {},
   "outputs": [
    {
     "data": {
      "text/html": [
       "<div>\n",
       "<style scoped>\n",
       "    .dataframe tbody tr th:only-of-type {\n",
       "        vertical-align: middle;\n",
       "    }\n",
       "\n",
       "    .dataframe tbody tr th {\n",
       "        vertical-align: top;\n",
       "    }\n",
       "\n",
       "    .dataframe thead th {\n",
       "        text-align: right;\n",
       "    }\n",
       "</style>\n",
       "<table border=\"1\" class=\"dataframe\">\n",
       "  <thead>\n",
       "    <tr style=\"text-align: right;\">\n",
       "      <th></th>\n",
       "      <th>hike_name</th>\n",
       "      <th>hike_difficulty</th>\n",
       "      <th>hike_distance</th>\n",
       "      <th>hike_elevation</th>\n",
       "      <th>hike_type</th>\n",
       "      <th>hike_tags</th>\n",
       "      <th>hike_description</th>\n",
       "      <th>user_names</th>\n",
       "      <th>user_hrefs</th>\n",
       "      <th>user_texts</th>\n",
       "      <th>user_ratings</th>\n",
       "      <th>user_dates</th>\n",
       "    </tr>\n",
       "  </thead>\n",
       "  <tbody>\n",
       "    <tr>\n",
       "      <th>0</th>\n",
       "      <td>Taft Point and The Fissures</td>\n",
       "      <td>EASY</td>\n",
       "      <td>2.3 miles</td>\n",
       "      <td>374 feet</td>\n",
       "      <td>Out &amp; Back</td>\n",
       "      <td>[kid friendly, birding, hiking, horseback ridi...</td>\n",
       "      <td>Taft Point and The Fissures is a 2.3 mile mode...</td>\n",
       "      <td>[Soua Lee, Jeff Allen, Nicole Edmonds, Marie K...</td>\n",
       "      <td>[/members/soua-lee-3, /members/jeff-allen-41, ...</td>\n",
       "      <td>[Incredible hike! I would do this again althou...</td>\n",
       "      <td>[5, 4, 5, 4, 1, 5, 5, 4, 5, 5, 5, 5, 5, 5, 5, ...</td>\n",
       "      <td>[2018-11-13 00:00:00, 2018-11-05 00:00:00, 201...</td>\n",
       "    </tr>\n",
       "  </tbody>\n",
       "</table>\n",
       "</div>"
      ],
      "text/plain": [
       "                     hike_name hike_difficulty hike_distance hike_elevation  \\\n",
       "0  Taft Point and The Fissures            EASY     2.3 miles       374 feet   \n",
       "\n",
       "    hike_type                                          hike_tags  \\\n",
       "0  Out & Back  [kid friendly, birding, hiking, horseback ridi...   \n",
       "\n",
       "                                    hike_description  \\\n",
       "0  Taft Point and The Fissures is a 2.3 mile mode...   \n",
       "\n",
       "                                          user_names  \\\n",
       "0  [Soua Lee, Jeff Allen, Nicole Edmonds, Marie K...   \n",
       "\n",
       "                                          user_hrefs  \\\n",
       "0  [/members/soua-lee-3, /members/jeff-allen-41, ...   \n",
       "\n",
       "                                          user_texts  \\\n",
       "0  [Incredible hike! I would do this again althou...   \n",
       "\n",
       "                                        user_ratings  \\\n",
       "0  [5, 4, 5, 4, 1, 5, 5, 4, 5, 5, 5, 5, 5, 5, 5, ...   \n",
       "\n",
       "                                          user_dates  \n",
       "0  [2018-11-13 00:00:00, 2018-11-05 00:00:00, 201...  "
      ]
     },
     "execution_count": 169,
     "metadata": {},
     "output_type": "execute_result"
    }
   ],
   "source": [
    "hike_data.head(1)"
   ]
  },
  {
   "cell_type": "markdown",
   "metadata": {},
   "source": [
    "# Get features of each hike"
   ]
  },
  {
   "cell_type": "code",
   "execution_count": 1004,
   "metadata": {},
   "outputs": [],
   "source": [
    "unique_difficulties = hike_data['hike_difficulty'].unique() # unique hike difficulties\n",
    "test_dist.str.extract('(\\d+.\\d)'); # extract distance\n",
    "test_elev.str.replace(',', '').str.extract('(\\d+)'); # extract elevation\n",
    "unique_types = hike_data['hike_type'].unique() # unique hike_types\n",
    "unique_tags = set(hike_data['hike_tags'].sum())"
   ]
  },
  {
   "cell_type": "code",
   "execution_count": 1077,
   "metadata": {},
   "outputs": [],
   "source": [
    "hike_feature_df = hike_data.copy()\n",
    "hike_feature_df['hike_distance'] = hike_feature_df['hike_distance'].str.extract('(\\d+.\\d)'); # extract distance\n",
    "hike_feature_df['hike_elevation'] = hike_feature_df['hike_elevation'].str.replace(',', '').str.extract('(\\d+)')"
   ]
  },
  {
   "cell_type": "code",
   "execution_count": 1091,
   "metadata": {},
   "outputs": [],
   "source": [
    "def get_hike_features(df, index):\n",
    "\n",
    "    hike_features_dict = {}\n",
    "    easy = 0\n",
    "    moderate = 0\n",
    "    hard = 0\n",
    "    out_and_back = 0\n",
    "    loop = 0\n",
    "    point_to_point = 0\n",
    "\n",
    "    if df.iloc[index]['hike_difficulty'] == 'EASY':\n",
    "        easy = 1\n",
    "    elif df.iloc[index]['hike_difficulty'] == 'MODERATE':\n",
    "        moderate = 1\n",
    "    else:\n",
    "        hard = 1\n",
    "\n",
    "    if df.iloc[index]['hike_type'] == 'Out & Back':\n",
    "        out_and_back = 1\n",
    "    elif df.iloc[index]['hike_type'] == 'Loop':\n",
    "        loop = 1\n",
    "    else:\n",
    "        point_to_point = 1\n",
    "        \n",
    "    hike_distance = df.iloc[index]['hike_distance']\n",
    "    hike_elevation = df.iloc[index]['hike_elevation']\n",
    "        \n",
    "    hike_features_dict['easy'] = easy\n",
    "    hike_features_dict['moderate'] = moderate\n",
    "    hike_features_dict['hard'] = hard\n",
    "    hike_features_dict['out_and_back'] = out_and_back\n",
    "    hike_features_dict['loop'] = loop\n",
    "    hike_features_dict['point_to_point'] = point_to_point\n",
    "    hike_features_dict['hike_distance'] = float(hike_distance)\n",
    "    hike_features_dict['hike_elevation'] = float(hike_elevation)\n",
    "    \n",
    "    return hike_features_dict"
   ]
  },
  {
   "cell_type": "code",
   "execution_count": 1093,
   "metadata": {},
   "outputs": [],
   "source": [
    "hikes_features = {}\n",
    "for index in hike_feature_df.index:\n",
    "    hike_features_dict = get_hike_features(hike_feature_df, index)\n",
    "    hikes_features[hike_feature_df.iloc[index]['hike_name']] = hike_features_dict"
   ]
  },
  {
   "cell_type": "code",
   "execution_count": 1098,
   "metadata": {},
   "outputs": [
    {
     "data": {
      "text/html": [
       "<div>\n",
       "<style scoped>\n",
       "    .dataframe tbody tr th:only-of-type {\n",
       "        vertical-align: middle;\n",
       "    }\n",
       "\n",
       "    .dataframe tbody tr th {\n",
       "        vertical-align: top;\n",
       "    }\n",
       "\n",
       "    .dataframe thead th {\n",
       "        text-align: right;\n",
       "    }\n",
       "</style>\n",
       "<table border=\"1\" class=\"dataframe\">\n",
       "  <thead>\n",
       "    <tr style=\"text-align: right;\">\n",
       "      <th></th>\n",
       "      <th>easy</th>\n",
       "      <th>hard</th>\n",
       "      <th>hike_distance</th>\n",
       "      <th>hike_elevation</th>\n",
       "      <th>loop</th>\n",
       "      <th>moderate</th>\n",
       "      <th>out_and_back</th>\n",
       "      <th>point_to_point</th>\n",
       "    </tr>\n",
       "  </thead>\n",
       "  <tbody>\n",
       "    <tr>\n",
       "      <th>Taft Point and The Fissures</th>\n",
       "      <td>1.0</td>\n",
       "      <td>0.0</td>\n",
       "      <td>2.3</td>\n",
       "      <td>374.0</td>\n",
       "      <td>0.0</td>\n",
       "      <td>0.0</td>\n",
       "      <td>1.0</td>\n",
       "      <td>0.0</td>\n",
       "    </tr>\n",
       "    <tr>\n",
       "      <th>Aliso Creek and Wood Canyon Loop Trail</th>\n",
       "      <td>0.0</td>\n",
       "      <td>0.0</td>\n",
       "      <td>10.5</td>\n",
       "      <td>971.0</td>\n",
       "      <td>1.0</td>\n",
       "      <td>1.0</td>\n",
       "      <td>0.0</td>\n",
       "      <td>0.0</td>\n",
       "    </tr>\n",
       "    <tr>\n",
       "      <th>Upper Natural Bridge Trail</th>\n",
       "      <td>1.0</td>\n",
       "      <td>0.0</td>\n",
       "      <td>2.1</td>\n",
       "      <td>380.0</td>\n",
       "      <td>0.0</td>\n",
       "      <td>0.0</td>\n",
       "      <td>1.0</td>\n",
       "      <td>0.0</td>\n",
       "    </tr>\n",
       "    <tr>\n",
       "      <th>Lake Miramar Trail</th>\n",
       "      <td>1.0</td>\n",
       "      <td>0.0</td>\n",
       "      <td>4.9</td>\n",
       "      <td>98.0</td>\n",
       "      <td>1.0</td>\n",
       "      <td>0.0</td>\n",
       "      <td>0.0</td>\n",
       "      <td>0.0</td>\n",
       "    </tr>\n",
       "    <tr>\n",
       "      <th>McGinty Mountain Trail</th>\n",
       "      <td>0.0</td>\n",
       "      <td>1.0</td>\n",
       "      <td>4.3</td>\n",
       "      <td>1371.0</td>\n",
       "      <td>1.0</td>\n",
       "      <td>0.0</td>\n",
       "      <td>0.0</td>\n",
       "      <td>0.0</td>\n",
       "    </tr>\n",
       "  </tbody>\n",
       "</table>\n",
       "</div>"
      ],
      "text/plain": [
       "                                        easy  hard  hike_distance  \\\n",
       "Taft Point and The Fissures              1.0   0.0            2.3   \n",
       "Aliso Creek and Wood Canyon Loop Trail   0.0   0.0           10.5   \n",
       "Upper Natural Bridge Trail               1.0   0.0            2.1   \n",
       "Lake Miramar Trail                       1.0   0.0            4.9   \n",
       "McGinty Mountain Trail                   0.0   1.0            4.3   \n",
       "\n",
       "                                        hike_elevation  loop  moderate  \\\n",
       "Taft Point and The Fissures                      374.0   0.0       0.0   \n",
       "Aliso Creek and Wood Canyon Loop Trail           971.0   1.0       1.0   \n",
       "Upper Natural Bridge Trail                       380.0   0.0       0.0   \n",
       "Lake Miramar Trail                                98.0   1.0       0.0   \n",
       "McGinty Mountain Trail                          1371.0   1.0       0.0   \n",
       "\n",
       "                                        out_and_back  point_to_point  \n",
       "Taft Point and The Fissures                      1.0             0.0  \n",
       "Aliso Creek and Wood Canyon Loop Trail           0.0             0.0  \n",
       "Upper Natural Bridge Trail                       1.0             0.0  \n",
       "Lake Miramar Trail                               0.0             0.0  \n",
       "McGinty Mountain Trail                           0.0             0.0  "
      ]
     },
     "execution_count": 1098,
     "metadata": {},
     "output_type": "execute_result"
    }
   ],
   "source": [
    "hikes_features_df = pd.DataFrame(hikes_features).T\n",
    "hikes_features_df.head(5)"
   ]
  },
  {
   "cell_type": "markdown",
   "metadata": {},
   "source": [
    "# Make matrix for collab filt"
   ]
  },
  {
   "cell_type": "code",
   "execution_count": 172,
   "metadata": {},
   "outputs": [],
   "source": [
    "def gen_collabfilt_matrix(df):\n",
    "\n",
    "    hike_user_rating_dict = {}\n",
    "    for hike_index in range(df.shape[0]):\n",
    "        hike_name = df.loc[hike_index, 'hike_name']\n",
    "        user_names = df.loc[hike_index, 'user_names']\n",
    "        user_ratings = df.loc[hike_index, 'user_ratings']\n",
    "        \n",
    "        user_rating_dict = {}\n",
    "        for user_index in range(len(user_names)):\n",
    "            user_rating_dict[user_names[user_index]] = user_ratings[user_index]\n",
    "        \n",
    "        hike_user_rating_dict[hike_name] = user_rating_dict\n",
    "    \n",
    "    return pd.DataFrame(hike_user_rating_dict, dtype='int')"
   ]
  },
  {
   "cell_type": "code",
   "execution_count": 173,
   "metadata": {},
   "outputs": [],
   "source": [
    "hike_user_rating_matrix = gen_collabfilt_matrix(hike_data)"
   ]
  },
  {
   "cell_type": "code",
   "execution_count": 189,
   "metadata": {},
   "outputs": [],
   "source": [
    "def convert_to_binary(df, cutoff):\n",
    "    df = df.fillna(0)\n",
    "    df[df < cutoff] = 0\n",
    "    df[df > cutoff] = 1\n",
    "    \n",
    "    return df"
   ]
  },
  {
   "cell_type": "code",
   "execution_count": 204,
   "metadata": {},
   "outputs": [],
   "source": [
    "hike_user_rating_matrix_bool = convert_to_binary(hike_user_rating_matrix, 3.5)"
   ]
  },
  {
   "cell_type": "code",
   "execution_count": 208,
   "metadata": {},
   "outputs": [],
   "source": [
    "# filter if user has less than 10 reviews\n",
    "hike_user_rating_matrix_bool_filtered = hike_user_rating_matrix_bool[hike_user_rating_matrix_bool.apply(np.sum, axis=1) > 10]"
   ]
  },
  {
   "cell_type": "code",
   "execution_count": 278,
   "metadata": {},
   "outputs": [],
   "source": [
    "def get_basic_stats(df):\n",
    "\n",
    "    num_users = df.shape[0]\n",
    "    num_hikes = df.shape[1]\n",
    "    num_ratings = df.values.sum()\n",
    "    sparsity = num_ratings / (num_hikes * num_users) * 100\n",
    "\n",
    "    print('Number of hikes: ' + str(num_hikes))\n",
    "    print('Number of users: ' + str(num_users))\n",
    "    print('Number of ratings: {:.0f}'.format(num_ratings))\n",
    "    print('Sparsity = {:4.2f}%'.format(sparsity))"
   ]
  },
  {
   "cell_type": "code",
   "execution_count": 279,
   "metadata": {},
   "outputs": [
    {
     "name": "stdout",
     "output_type": "stream",
     "text": [
      "Number of hikes: 5295\n",
      "Number of users: 1374\n",
      "Number of ratings: 24485\n",
      "Sparsity = 0.34%\n"
     ]
    }
   ],
   "source": [
    "get_basic_stats(hike_user_rating_matrix_bool_filtered)"
   ]
  },
  {
   "cell_type": "code",
   "execution_count": 449,
   "metadata": {},
   "outputs": [
    {
     "data": {
      "text/plain": [
       "'10.80%'"
      ]
     },
     "execution_count": 449,
     "metadata": {},
     "output_type": "execute_result"
    }
   ],
   "source": [
    "'{:.2f}%'.format(24485 / 226618 * 100)"
   ]
  },
  {
   "cell_type": "code",
   "execution_count": 228,
   "metadata": {},
   "outputs": [],
   "source": [
    "# filter if hike has no ratings\n",
    "hike_user_rating_matrix_bool_filtered2 = hike_user_rating_matrix_bool_filtered.loc[:, (hike_user_rating_matrix_bool_filtered != 0).any(axis=0)]"
   ]
  },
  {
   "cell_type": "code",
   "execution_count": 280,
   "metadata": {},
   "outputs": [
    {
     "name": "stdout",
     "output_type": "stream",
     "text": [
      "Number of hikes: 3606\n",
      "Number of users: 1374\n",
      "Number of ratings: 24485\n",
      "Sparsity = 0.49%\n"
     ]
    }
   ],
   "source": [
    "get_basic_stats(hike_user_rating_matrix_bool_filtered2)"
   ]
  },
  {
   "cell_type": "code",
   "execution_count": 448,
   "metadata": {},
   "outputs": [
    {
     "data": {
      "text/plain": [
       "'10.80%'"
      ]
     },
     "execution_count": 448,
     "metadata": {},
     "output_type": "execute_result"
    }
   ],
   "source": [
    "'{:.2f}%'.format(24485 / 226618 * 100)"
   ]
  },
  {
   "cell_type": "code",
   "execution_count": null,
   "metadata": {},
   "outputs": [],
   "source": [
    "# filter if hike has less than 10 ratings"
   ]
  },
  {
   "cell_type": "code",
   "execution_count": 238,
   "metadata": {},
   "outputs": [],
   "source": [
    "hike_user_rating_matrix_bool_filtered3 = hike_user_rating_matrix_bool_filtered2.loc[:, hike_user_rating_matrix_bool_filtered2.apply(np.sum, axis=0) > 10]"
   ]
  },
  {
   "cell_type": "code",
   "execution_count": 281,
   "metadata": {},
   "outputs": [
    {
     "name": "stdout",
     "output_type": "stream",
     "text": [
      "Number of hikes: 616\n",
      "Number of users: 1374\n",
      "Number of ratings: 15288\n",
      "Sparsity = 1.81%\n"
     ]
    }
   ],
   "source": [
    "get_basic_stats(hike_user_rating_matrix_bool_filtered3)"
   ]
  },
  {
   "cell_type": "code",
   "execution_count": 447,
   "metadata": {},
   "outputs": [
    {
     "data": {
      "text/plain": [
       "'6.75%'"
      ]
     },
     "execution_count": 447,
     "metadata": {},
     "output_type": "execute_result"
    }
   ],
   "source": [
    "'{:.2f}%'.format(15288 / 226618 * 100)"
   ]
  },
  {
   "cell_type": "code",
   "execution_count": 452,
   "metadata": {},
   "outputs": [
    {
     "data": {
      "text/html": [
       "<div>\n",
       "<style scoped>\n",
       "    .dataframe tbody tr th:only-of-type {\n",
       "        vertical-align: middle;\n",
       "    }\n",
       "\n",
       "    .dataframe tbody tr th {\n",
       "        vertical-align: top;\n",
       "    }\n",
       "\n",
       "    .dataframe thead th {\n",
       "        text-align: right;\n",
       "    }\n",
       "</style>\n",
       "<table border=\"1\" class=\"dataframe\">\n",
       "  <thead>\n",
       "    <tr style=\"text-align: right;\">\n",
       "      <th></th>\n",
       "      <th>Taft Point and The Fissures</th>\n",
       "      <th>Aliso Creek and Wood Canyon Loop Trail</th>\n",
       "      <th>Upper Natural Bridge Trail</th>\n",
       "      <th>Lake Miramar Trail</th>\n",
       "      <th>San Antonio Falls Trail</th>\n",
       "      <th>The Slot</th>\n",
       "      <th>Panoramic Hill - Chaparral Peak - Strawberry Canyon Loop</th>\n",
       "      <th>Lafayette Reservoir Nature Area Rim Trail</th>\n",
       "      <th>Cleo's Bath Trail via Pinecrest Lake Loop</th>\n",
       "      <th>Devil's Slide to Saddle Junction Trail</th>\n",
       "      <th>...</th>\n",
       "      <th>Rae Lakes Trail</th>\n",
       "      <th>Congress Trail</th>\n",
       "      <th>Strawberry Canyon Fire Trail</th>\n",
       "      <th>Annie's Canyon via North Rios Trail</th>\n",
       "      <th>Lake Margaret Trail</th>\n",
       "      <th>Deep Creek Hot Springs Trail</th>\n",
       "      <th>Cougar Crest Trail</th>\n",
       "      <th>Abalone Cove Trail</th>\n",
       "      <th>Torrey Pines - Red Butte, Yucca Point, and Razor Point</th>\n",
       "      <th>Soberanes Canyon Trail</th>\n",
       "    </tr>\n",
       "  </thead>\n",
       "  <tbody>\n",
       "    <tr>\n",
       "      <th>Bill Friedman</th>\n",
       "      <td>0.0</td>\n",
       "      <td>0.0</td>\n",
       "      <td>0.0</td>\n",
       "      <td>0.0</td>\n",
       "      <td>0.0</td>\n",
       "      <td>0.0</td>\n",
       "      <td>0.0</td>\n",
       "      <td>0.0</td>\n",
       "      <td>0.0</td>\n",
       "      <td>0.0</td>\n",
       "      <td>...</td>\n",
       "      <td>0.0</td>\n",
       "      <td>0.0</td>\n",
       "      <td>0.0</td>\n",
       "      <td>0.0</td>\n",
       "      <td>0.0</td>\n",
       "      <td>0.0</td>\n",
       "      <td>0.0</td>\n",
       "      <td>0.0</td>\n",
       "      <td>0.0</td>\n",
       "      <td>0.0</td>\n",
       "    </tr>\n",
       "    <tr>\n",
       "      <th>$15 $40</th>\n",
       "      <td>0.0</td>\n",
       "      <td>0.0</td>\n",
       "      <td>0.0</td>\n",
       "      <td>0.0</td>\n",
       "      <td>0.0</td>\n",
       "      <td>0.0</td>\n",
       "      <td>0.0</td>\n",
       "      <td>0.0</td>\n",
       "      <td>0.0</td>\n",
       "      <td>0.0</td>\n",
       "      <td>...</td>\n",
       "      <td>0.0</td>\n",
       "      <td>0.0</td>\n",
       "      <td>0.0</td>\n",
       "      <td>0.0</td>\n",
       "      <td>0.0</td>\n",
       "      <td>0.0</td>\n",
       "      <td>0.0</td>\n",
       "      <td>0.0</td>\n",
       "      <td>0.0</td>\n",
       "      <td>0.0</td>\n",
       "    </tr>\n",
       "    <tr>\n",
       "      <th>** watson **</th>\n",
       "      <td>0.0</td>\n",
       "      <td>0.0</td>\n",
       "      <td>0.0</td>\n",
       "      <td>0.0</td>\n",
       "      <td>0.0</td>\n",
       "      <td>0.0</td>\n",
       "      <td>0.0</td>\n",
       "      <td>0.0</td>\n",
       "      <td>0.0</td>\n",
       "      <td>0.0</td>\n",
       "      <td>...</td>\n",
       "      <td>0.0</td>\n",
       "      <td>0.0</td>\n",
       "      <td>0.0</td>\n",
       "      <td>0.0</td>\n",
       "      <td>0.0</td>\n",
       "      <td>0.0</td>\n",
       "      <td>0.0</td>\n",
       "      <td>0.0</td>\n",
       "      <td>0.0</td>\n",
       "      <td>0.0</td>\n",
       "    </tr>\n",
       "    <tr>\n",
       "      <th>3IrinaAmira D.</th>\n",
       "      <td>0.0</td>\n",
       "      <td>0.0</td>\n",
       "      <td>0.0</td>\n",
       "      <td>0.0</td>\n",
       "      <td>0.0</td>\n",
       "      <td>0.0</td>\n",
       "      <td>0.0</td>\n",
       "      <td>0.0</td>\n",
       "      <td>0.0</td>\n",
       "      <td>0.0</td>\n",
       "      <td>...</td>\n",
       "      <td>0.0</td>\n",
       "      <td>0.0</td>\n",
       "      <td>0.0</td>\n",
       "      <td>0.0</td>\n",
       "      <td>0.0</td>\n",
       "      <td>0.0</td>\n",
       "      <td>0.0</td>\n",
       "      <td>0.0</td>\n",
       "      <td>0.0</td>\n",
       "      <td>0.0</td>\n",
       "    </tr>\n",
       "    <tr>\n",
       "      <th>@rafiky _resiii</th>\n",
       "      <td>0.0</td>\n",
       "      <td>0.0</td>\n",
       "      <td>0.0</td>\n",
       "      <td>0.0</td>\n",
       "      <td>1.0</td>\n",
       "      <td>0.0</td>\n",
       "      <td>0.0</td>\n",
       "      <td>0.0</td>\n",
       "      <td>0.0</td>\n",
       "      <td>0.0</td>\n",
       "      <td>...</td>\n",
       "      <td>0.0</td>\n",
       "      <td>0.0</td>\n",
       "      <td>0.0</td>\n",
       "      <td>0.0</td>\n",
       "      <td>0.0</td>\n",
       "      <td>0.0</td>\n",
       "      <td>0.0</td>\n",
       "      <td>0.0</td>\n",
       "      <td>0.0</td>\n",
       "      <td>0.0</td>\n",
       "    </tr>\n",
       "  </tbody>\n",
       "</table>\n",
       "<p>5 rows × 616 columns</p>\n",
       "</div>"
      ],
      "text/plain": [
       "                 Taft Point and The Fissures  \\\n",
       " Bill Friedman                           0.0   \n",
       "$15 $40                                  0.0   \n",
       "** watson **                             0.0   \n",
       "3IrinaAmira D.                           0.0   \n",
       "@rafiky _resiii                          0.0   \n",
       "\n",
       "                 Aliso Creek and Wood Canyon Loop Trail  \\\n",
       " Bill Friedman                                      0.0   \n",
       "$15 $40                                             0.0   \n",
       "** watson **                                        0.0   \n",
       "3IrinaAmira D.                                      0.0   \n",
       "@rafiky _resiii                                     0.0   \n",
       "\n",
       "                 Upper Natural Bridge Trail  Lake Miramar Trail  \\\n",
       " Bill Friedman                          0.0                 0.0   \n",
       "$15 $40                                 0.0                 0.0   \n",
       "** watson **                            0.0                 0.0   \n",
       "3IrinaAmira D.                          0.0                 0.0   \n",
       "@rafiky _resiii                         0.0                 0.0   \n",
       "\n",
       "                 San Antonio Falls Trail  The Slot  \\\n",
       " Bill Friedman                       0.0       0.0   \n",
       "$15 $40                              0.0       0.0   \n",
       "** watson **                         0.0       0.0   \n",
       "3IrinaAmira D.                       0.0       0.0   \n",
       "@rafiky _resiii                      1.0       0.0   \n",
       "\n",
       "                 Panoramic Hill - Chaparral Peak - Strawberry Canyon Loop  \\\n",
       " Bill Friedman                                                 0.0          \n",
       "$15 $40                                                        0.0          \n",
       "** watson **                                                   0.0          \n",
       "3IrinaAmira D.                                                 0.0          \n",
       "@rafiky _resiii                                                0.0          \n",
       "\n",
       "                 Lafayette Reservoir Nature Area Rim Trail  \\\n",
       " Bill Friedman                                         0.0   \n",
       "$15 $40                                                0.0   \n",
       "** watson **                                           0.0   \n",
       "3IrinaAmira D.                                         0.0   \n",
       "@rafiky _resiii                                        0.0   \n",
       "\n",
       "                 Cleo's Bath Trail via Pinecrest Lake Loop  \\\n",
       " Bill Friedman                                         0.0   \n",
       "$15 $40                                                0.0   \n",
       "** watson **                                           0.0   \n",
       "3IrinaAmira D.                                         0.0   \n",
       "@rafiky _resiii                                        0.0   \n",
       "\n",
       "                 Devil's Slide to Saddle Junction Trail  \\\n",
       " Bill Friedman                                      0.0   \n",
       "$15 $40                                             0.0   \n",
       "** watson **                                        0.0   \n",
       "3IrinaAmira D.                                      0.0   \n",
       "@rafiky _resiii                                     0.0   \n",
       "\n",
       "                          ...            Rae Lakes Trail  Congress Trail  \\\n",
       " Bill Friedman            ...                        0.0             0.0   \n",
       "$15 $40                   ...                        0.0             0.0   \n",
       "** watson **              ...                        0.0             0.0   \n",
       "3IrinaAmira D.            ...                        0.0             0.0   \n",
       "@rafiky _resiii           ...                        0.0             0.0   \n",
       "\n",
       "                 Strawberry Canyon Fire Trail  \\\n",
       " Bill Friedman                            0.0   \n",
       "$15 $40                                   0.0   \n",
       "** watson **                              0.0   \n",
       "3IrinaAmira D.                            0.0   \n",
       "@rafiky _resiii                           0.0   \n",
       "\n",
       "                 Annie's Canyon via North Rios Trail  Lake Margaret Trail  \\\n",
       " Bill Friedman                                   0.0                  0.0   \n",
       "$15 $40                                          0.0                  0.0   \n",
       "** watson **                                     0.0                  0.0   \n",
       "3IrinaAmira D.                                   0.0                  0.0   \n",
       "@rafiky _resiii                                  0.0                  0.0   \n",
       "\n",
       "                 Deep Creek Hot Springs Trail  Cougar Crest Trail  \\\n",
       " Bill Friedman                            0.0                 0.0   \n",
       "$15 $40                                   0.0                 0.0   \n",
       "** watson **                              0.0                 0.0   \n",
       "3IrinaAmira D.                            0.0                 0.0   \n",
       "@rafiky _resiii                           0.0                 0.0   \n",
       "\n",
       "                 Abalone Cove Trail  \\\n",
       " Bill Friedman                  0.0   \n",
       "$15 $40                         0.0   \n",
       "** watson **                    0.0   \n",
       "3IrinaAmira D.                  0.0   \n",
       "@rafiky _resiii                 0.0   \n",
       "\n",
       "                 Torrey Pines - Red Butte, Yucca Point, and Razor Point  \\\n",
       " Bill Friedman                                                 0.0        \n",
       "$15 $40                                                        0.0        \n",
       "** watson **                                                   0.0        \n",
       "3IrinaAmira D.                                                 0.0        \n",
       "@rafiky _resiii                                                0.0        \n",
       "\n",
       "                 Soberanes Canyon Trail  \n",
       " Bill Friedman                      0.0  \n",
       "$15 $40                             0.0  \n",
       "** watson **                        0.0  \n",
       "3IrinaAmira D.                      0.0  \n",
       "@rafiky _resiii                     0.0  \n",
       "\n",
       "[5 rows x 616 columns]"
      ]
     },
     "execution_count": 452,
     "metadata": {},
     "output_type": "execute_result"
    }
   ],
   "source": [
    "hike_user_rating_matrix_bool_filtered3.head(5)"
   ]
  },
  {
   "cell_type": "code",
   "execution_count": 927,
   "metadata": {},
   "outputs": [],
   "source": [
    "pd.Series(hike_user_rating_matrix_bool_filtered3.columns).to_pickle('column_names')"
   ]
  },
  {
   "cell_type": "code",
   "execution_count": 942,
   "metadata": {},
   "outputs": [],
   "source": [
    "hike_list = list(hike_user_rating_matrix_bool_filtered3.columns)"
   ]
  },
  {
   "cell_type": "markdown",
   "metadata": {},
   "source": [
    "# Fit model using LightFM"
   ]
  },
  {
   "cell_type": "markdown",
   "metadata": {},
   "source": [
    "## Automatic"
   ]
  },
  {
   "cell_type": "code",
   "execution_count": 1175,
   "metadata": {},
   "outputs": [],
   "source": [
    "from lightfm import data\n",
    "from lightfm import cross_validation\n",
    "from lightfm.cross_validation import random_train_test_split\n",
    "from lightfm.evaluation import auc_score\n",
    "from lightfm.evaluation import precision_at_k"
   ]
  },
  {
   "cell_type": "code",
   "execution_count": 1383,
   "metadata": {},
   "outputs": [],
   "source": [
    "def lightfm_implicit_matrix(df):\n",
    "    dataset = data.Dataset() # Instantiate class\n",
    "    dataset.fit((user for user in df.index),\n",
    "                (feature for feature in df.columns)) # Create users and items from df\n",
    "    num_users, num_items = dataset.interactions_shape() # Get shape\n",
    "    interaction_list = list(df[df > 0].stack().index) # Get interaction pairs\n",
    "    interactions, weights = dataset.build_interactions((x[0], x[1]) for x in interaction_list) # Build interactions\n",
    "    \n",
    "    return dataset, interactions\n",
    "\n",
    "def lightfm_train(train, num_components, num_epochs):\n",
    "    NUM_THREADS = 1\n",
    "    NUM_COMPONENTS = num_components\n",
    "    NUM_EPOCHS = num_epochs\n",
    "    ITEM_ALPHA = 1e-6\n",
    "\n",
    "    # Let's fit a WARP model: these generally have the best performance.\n",
    "    model = LightFM(loss='warp',\n",
    "                    item_alpha=ITEM_ALPHA,\n",
    "                   no_components=NUM_COMPONENTS)\n",
    "\n",
    "    # Run 3 epochs and time it.\n",
    "    model = model.fit(train, epochs=NUM_EPOCHS, num_threads=NUM_THREADS)\n",
    "    \n",
    "    return model\n",
    "\n",
    "def find_item(lfm_map, lfm_index):\n",
    "    return [ key for key in lfm_map.keys() if lfm_map[key] == lfm_index ][0]\n",
    "\n",
    "def return_top_10_new_user(interactions, model, item_map):\n",
    "    predictions = model.predict(interactions._shape[0]-1, np.arange(interactions._shape[1]))\n",
    "    sorted_by_index = (-1*predictions).argsort()\n",
    "    names = []\n",
    "    \n",
    "    for pred_num in range(10):\n",
    "        name = find_item(item_map, sorted_by_index[pred_num])\n",
    "        print('Prediction {} is {}.'.format(pred_num+1, name))\n",
    "        names.append(name)\n",
    "        \n",
    "    return names"
   ]
  },
  {
   "cell_type": "code",
   "execution_count": 1440,
   "metadata": {},
   "outputs": [
    {
     "name": "stdout",
     "output_type": "stream",
     "text": [
      "Prediction 1 is Whittemore Gulch and Harkins Ridge Loop Trail.\n",
      "Prediction 2 is Round Top Loop Trail to Volcanic Trail to Skyline Trail Loop.\n",
      "Prediction 3 is Alamere Falls via Coast Trail from Palomarin Trailhead.\n",
      "Prediction 4 is Baltimore Canyon Via Dawn Falls Trail Loop.\n",
      "Prediction 5 is Mount Sutro Loop.\n",
      "Prediction 6 is Dunn, Graham and West Ridge Trail Loop.\n",
      "Prediction 7 is Seaview and Big Springs Trails Loop.\n",
      "Prediction 8 is Lands End Trail.\n",
      "Prediction 9 is Panoramic Hill - Chaparral Peak - Strawberry Canyon Loop.\n",
      "Prediction 10 is Hamms Gulch to Spring Ridge Trail Loop.\n"
     ]
    }
   ],
   "source": [
    "# Code to quickly instantiate class and train model\n",
    "\n",
    "dataset, interactions = lightfm_implicit_matrix(hike_user_rating_matrix_bool_filtered3)\n",
    "train, test = cross_validation.random_train_test_split(interactions, test_percentage=0.2, random_state=np.random.RandomState(seed=1))\n",
    "model = lightfm_train(train, 30, 30)\n",
    "\n",
    "item_map = dataset.mapping()[2]\n",
    "test_set.append(return_top_10_new_user(interactions, model, item_mapping))"
   ]
  },
  {
   "cell_type": "code",
   "execution_count": 1377,
   "metadata": {},
   "outputs": [],
   "source": [
    "def time_func():\n",
    "\n",
    "    dataset, interactions = lightfm_implicit_matrix(hike_user_rating_matrix_bool_filtered3)\n",
    "    lighfm_train = lightfm_train(interactions, 30, 5)\n",
    "\n",
    "    item_mapping = dataset.mapping()[2]\n",
    "    return_top_10_new_user(interactions, item_mapping)"
   ]
  },
  {
   "cell_type": "code",
   "execution_count": 1378,
   "metadata": {},
   "outputs": [
    {
     "name": "stdout",
     "output_type": "stream",
     "text": [
      "28.1 ns ± 0.448 ns per loop (mean ± std. dev. of 7 runs, 10000000 loops each)\n"
     ]
    }
   ],
   "source": [
    "%timeit time_func"
   ]
  },
  {
   "cell_type": "code",
   "execution_count": 1295,
   "metadata": {},
   "outputs": [
    {
     "data": {
      "text/plain": [
       "(616, 30)"
      ]
     },
     "execution_count": 1295,
     "metadata": {},
     "output_type": "execute_result"
    }
   ],
   "source": [
    "model.get_item_representations()[1].shape # item embeddings"
   ]
  },
  {
   "cell_type": "code",
   "execution_count": 1472,
   "metadata": {},
   "outputs": [],
   "source": [
    "from numpy import dot\n",
    "from numpy.linalg import norm\n",
    "\n",
    "def cos_sim(a, b):\n",
    "    cos_sim = dot(a, b)/(norm(a)*norm(b))\n",
    "    return cos_sim\n",
    "\n",
    "def calculate_similarities(model, hike_index_of_interest):\n",
    "    item_embeddings = model.get_item_representations()[1]\n",
    "    sim_scores = []\n",
    "    for item_index in range(item_embeddings.shape[0]):\n",
    "        sim_scores.append(cos_sim(item_embeddings[item_index, :], item_embeddings[hike_index_of_interest, :]))\n",
    "        \n",
    "    return sim_scores\n",
    "\n",
    "def get_top_hikes_by_similarity(sim_score, item_map):\n",
    "    top_items = (-1*np.array(sim_scores)).argsort()\n",
    "    names = []\n",
    "    for pred_num in range(10):\n",
    "        name = find_item(item_map, top_items[pred_num])\n",
    "        names.append(name)\n",
    "    \n",
    "    return names"
   ]
  },
  {
   "cell_type": "code",
   "execution_count": 1476,
   "metadata": {},
   "outputs": [
    {
     "data": {
      "text/plain": [
       "['Klondike and Portuguese Canyon Trails',\n",
       " 'La Canada Teepee via Crosstown Trail',\n",
       " 'Paintbrush Trail to Portugese Bend',\n",
       " 'Falls Trail to Monrovia Canyon Park Trail',\n",
       " 'Ferndell to the West Observatory Loop Trail to Griffith Observatory',\n",
       " 'Rancho Palos Verdes Coastal Trail',\n",
       " 'Murphy Ranch Trail',\n",
       " 'Venice Canals Trail',\n",
       " 'Vasquez Rocks Trail',\n",
       " 'Fossil Falls Trail']"
      ]
     },
     "execution_count": 1476,
     "metadata": {},
     "output_type": "execute_result"
    }
   ],
   "source": [
    "sim_scores = calculate_similarities(model, 100)\n",
    "top_hikes = get_top_hikes_by_similarity(sim_scores, item_map)\n",
    "top_hikes"
   ]
  },
  {
   "cell_type": "markdown",
   "metadata": {},
   "source": [
    "## Single model validation"
   ]
  },
  {
   "cell_type": "markdown",
   "metadata": {},
   "source": [
    "Without the function, first try to validate model"
   ]
  },
  {
   "cell_type": "code",
   "execution_count": 1179,
   "metadata": {},
   "outputs": [],
   "source": [
    "test_dataset = data.Dataset()"
   ]
  },
  {
   "cell_type": "code",
   "execution_count": 1180,
   "metadata": {},
   "outputs": [],
   "source": [
    "test_dataset.fit((user for user in hike_user_rating_matrix_bool_filtered3.index),\n",
    "                 (feature for feature in hike_user_rating_matrix_bool_filtered3.columns))"
   ]
  },
  {
   "cell_type": "code",
   "execution_count": 1181,
   "metadata": {},
   "outputs": [],
   "source": [
    "num_users, num_items = test_dataset.interactions_shape()"
   ]
  },
  {
   "cell_type": "code",
   "execution_count": 1182,
   "metadata": {},
   "outputs": [],
   "source": [
    "interaction_list = list(hike_user_rating_matrix_bool_filtered3[hike_user_rating_matrix_bool_filtered3 > 0].stack().index)"
   ]
  },
  {
   "cell_type": "code",
   "execution_count": 1183,
   "metadata": {},
   "outputs": [],
   "source": [
    "interactions, weights = test_dataset.build_interactions((x[0], x[1]) for x in interaction_list)"
   ]
  },
  {
   "cell_type": "code",
   "execution_count": 1184,
   "metadata": {},
   "outputs": [
    {
     "name": "stdout",
     "output_type": "stream",
     "text": [
      "<1374x616 sparse matrix of type '<class 'numpy.int32'>'\n",
      "\twith 15288 stored elements in COOrdinate format>\n"
     ]
    }
   ],
   "source": [
    "print(repr(interactions))"
   ]
  },
  {
   "cell_type": "code",
   "execution_count": 1194,
   "metadata": {},
   "outputs": [],
   "source": [
    "train, test = cross_validation.random_train_test_split(interactions, test_percentage=0.2)"
   ]
  },
  {
   "cell_type": "code",
   "execution_count": 1195,
   "metadata": {},
   "outputs": [
    {
     "name": "stdout",
     "output_type": "stream",
     "text": [
      "CPU times: user 149 ms, sys: 3.75 ms, total: 153 ms\n",
      "Wall time: 153 ms\n"
     ]
    }
   ],
   "source": [
    "# Set the number of threads; you can increase this\n",
    "# ify you have more physical cores available.\n",
    "NUM_THREADS = 1\n",
    "NUM_COMPONENTS = 30\n",
    "NUM_EPOCHS = 5\n",
    "ITEM_ALPHA = 1e-6\n",
    "\n",
    "# Let's fit a WARP model: these generally have the best performance.\n",
    "model = LightFM(loss='warp',\n",
    "                item_alpha=ITEM_ALPHA,\n",
    "               no_components=NUM_COMPONENTS)\n",
    "\n",
    "# Run 3 epochs and time it.\n",
    "%time model = model.fit(train, epochs=NUM_EPOCHS, num_threads=NUM_THREADS)"
   ]
  },
  {
   "cell_type": "code",
   "execution_count": 1196,
   "metadata": {},
   "outputs": [
    {
     "name": "stdout",
     "output_type": "stream",
     "text": [
      "Collaborative filtering train AUC: 0.89639276\n"
     ]
    }
   ],
   "source": [
    "# Compute and print the AUC score\n",
    "train_auc = auc_score(model, train, num_threads=NUM_THREADS).mean()\n",
    "print('Collaborative filtering train AUC: %s' % train_auc)"
   ]
  },
  {
   "cell_type": "code",
   "execution_count": 1197,
   "metadata": {},
   "outputs": [
    {
     "name": "stdout",
     "output_type": "stream",
     "text": [
      "Collaborative filtering test AUC: 0.82041705\n"
     ]
    }
   ],
   "source": [
    "# We pass in the train interactions to exclude them from predictions.\n",
    "# This is to simulate a recommender system where we do not\n",
    "# re-recommend things the user has already interacted with in the train\n",
    "# set.\n",
    "test_auc = auc_score(model, test, train_interactions=train, num_threads=NUM_THREADS).mean()\n",
    "print('Collaborative filtering test AUC: %s' % test_auc)"
   ]
  },
  {
   "cell_type": "code",
   "execution_count": 1198,
   "metadata": {},
   "outputs": [
    {
     "name": "stdout",
     "output_type": "stream",
     "text": [
      "Precision at k = 1 is 0.09\n",
      "Precision at k = 2 is 0.08\n",
      "Precision at k = 3 is 0.07\n",
      "Precision at k = 4 is 0.07\n",
      "Precision at k = 5 is 0.06\n",
      "Precision at k = 6 is 0.06\n",
      "Precision at k = 7 is 0.06\n",
      "Precision at k = 8 is 0.05\n",
      "Precision at k = 9 is 0.05\n",
      "Precision at k = 10 is 0.05\n"
     ]
    }
   ],
   "source": [
    "for k in range(1,11):\n",
    "    precision = precision_at_k(model, test, train_interactions=train, k=k).mean()\n",
    "    print('Precision at k = {} is {:.2f}'.format(k, precision))"
   ]
  },
  {
   "cell_type": "code",
   "execution_count": 1200,
   "metadata": {},
   "outputs": [
    {
     "name": "stdout",
     "output_type": "stream",
     "text": [
      "Prediction 1 is Upper Rustic Garapito Loop Trail.\n",
      "Prediction 2 is Los Penasquitos Canyon Trail.\n",
      "Prediction 3 is Homestead-Blue Ridge Trail.\n",
      "Prediction 4 is Sierra Buttes Lookout Trail.\n",
      "Prediction 5 is Weaver Lake Trail.\n",
      "Prediction 6 is Golden Gate Bridge from Baker Beach Trail.\n",
      "Prediction 7 is Montara Mountain Trail.\n",
      "Prediction 8 is Sage Trail to Cougar Ridge Trail to Boulder Loop.\n",
      "Prediction 9 is Smith Mountain Trail.\n",
      "Prediction 10 is Stout Memorial Grove Trail.\n"
     ]
    }
   ],
   "source": [
    "return_top_10_new_user(interactions, model, item_mapping)"
   ]
  },
  {
   "cell_type": "markdown",
   "metadata": {},
   "source": [
    "# Appending new user to dataframe"
   ]
  },
  {
   "cell_type": "markdown",
   "metadata": {},
   "source": [
    "Appending new item to dataframe"
   ]
  },
  {
   "cell_type": "code",
   "execution_count": 611,
   "metadata": {},
   "outputs": [],
   "source": [
    "def csr_vappend(a,b):\n",
    "    \"\"\" Takes in 2 csr_matrices and appends the second one to the bottom of the first one. \n",
    "    Much faster than scipy.sparse.vstack but assumes the type to be csr and overwrites\n",
    "    the first matrix instead of copying it. The data, indices, and indptr still get copied.\"\"\"\n",
    "\n",
    "    a.data = np.hstack((a.data,b.data))\n",
    "    a.indices = np.hstack((a.indices,b.indices))\n",
    "    a.indptr = np.hstack((a.indptr,(b.indptr + a.nnz)[1:]))\n",
    "    a._shape = (a.shape[0]+b.shape[0],b.shape[1])\n",
    "    return a"
   ]
  },
  {
   "cell_type": "code",
   "execution_count": 631,
   "metadata": {},
   "outputs": [],
   "source": [
    "new_user_hike_dict = {}\n",
    "for hike in hike_user_rating_matrix_bool_filtered3.columns:\n",
    "    new_user_hike_dict[hike] = 0\n",
    "\n",
    "new_user_hike_dict['Taft Point and The Fissures'] = 1.0\n",
    "insert_dict = {'new user': new_user_hike_dict}"
   ]
  },
  {
   "cell_type": "code",
   "execution_count": 716,
   "metadata": {},
   "outputs": [],
   "source": [
    "initial_matrix = sparse.csr_matrix(hike_user_rating_matrix_bool_filtered3)\n",
    "insert_matrix = sparse.csr_matrix(pd.DataFrame(insert_dict).T)"
   ]
  },
  {
   "cell_type": "code",
   "execution_count": 717,
   "metadata": {},
   "outputs": [],
   "source": [
    "test_stack = csr_vappend(initial_matrix, insert_matrix)"
   ]
  },
  {
   "cell_type": "markdown",
   "metadata": {},
   "source": [
    "Note: new_user will have user_index = initial_matrix._shape + 1"
   ]
  },
  {
   "cell_type": "markdown",
   "metadata": {},
   "source": [
    "# Get user features based on hikes rated"
   ]
  },
  {
   "cell_type": "code",
   "execution_count": 1144,
   "metadata": {},
   "outputs": [],
   "source": [
    "nz_entries = hike_user_rating_matrix_bool_filtered3[hike_user_rating_matrix_bool_filtered3>0].stack()"
   ]
  },
  {
   "cell_type": "code",
   "execution_count": null,
   "metadata": {},
   "outputs": [],
   "source": [
    "for user in nz_entries.index.get_level_values(0).unique(): # each unique user\n",
    "    rated_hikes = hikes_features_df.loc[user] # dataframe containing rated hikes\n",
    "        "
   ]
  },
  {
   "cell_type": "code",
   "execution_count": 1156,
   "metadata": {},
   "outputs": [
    {
     "data": {
      "text/html": [
       "<div>\n",
       "<style scoped>\n",
       "    .dataframe tbody tr th:only-of-type {\n",
       "        vertical-align: middle;\n",
       "    }\n",
       "\n",
       "    .dataframe tbody tr th {\n",
       "        vertical-align: top;\n",
       "    }\n",
       "\n",
       "    .dataframe thead th {\n",
       "        text-align: right;\n",
       "    }\n",
       "</style>\n",
       "<table border=\"1\" class=\"dataframe\">\n",
       "  <thead>\n",
       "    <tr style=\"text-align: right;\">\n",
       "      <th></th>\n",
       "      <th>easy</th>\n",
       "      <th>hard</th>\n",
       "      <th>hike_distance</th>\n",
       "      <th>hike_elevation</th>\n",
       "      <th>loop</th>\n",
       "      <th>moderate</th>\n",
       "      <th>out_and_back</th>\n",
       "      <th>point_to_point</th>\n",
       "    </tr>\n",
       "  </thead>\n",
       "  <tbody>\n",
       "    <tr>\n",
       "      <th>Woods, Winnemucca, and Round Top Lakes</th>\n",
       "      <td>0.0</td>\n",
       "      <td>0.0</td>\n",
       "      <td>4.9</td>\n",
       "      <td>1272.0</td>\n",
       "      <td>1.0</td>\n",
       "      <td>1.0</td>\n",
       "      <td>0.0</td>\n",
       "      <td>0.0</td>\n",
       "    </tr>\n",
       "    <tr>\n",
       "      <th>Canyon View Loop Trail</th>\n",
       "      <td>0.0</td>\n",
       "      <td>0.0</td>\n",
       "      <td>3.6</td>\n",
       "      <td>623.0</td>\n",
       "      <td>1.0</td>\n",
       "      <td>1.0</td>\n",
       "      <td>0.0</td>\n",
       "      <td>0.0</td>\n",
       "    </tr>\n",
       "    <tr>\n",
       "      <th>Big Meadow to Dardanelles Lake via Tahoe Rim Trail</th>\n",
       "      <td>0.0</td>\n",
       "      <td>0.0</td>\n",
       "      <td>7.3</td>\n",
       "      <td>1358.0</td>\n",
       "      <td>0.0</td>\n",
       "      <td>1.0</td>\n",
       "      <td>1.0</td>\n",
       "      <td>0.0</td>\n",
       "    </tr>\n",
       "    <tr>\n",
       "      <th>Bayview Trail to Velma Lakes</th>\n",
       "      <td>0.0</td>\n",
       "      <td>0.0</td>\n",
       "      <td>9.9</td>\n",
       "      <td>2378.0</td>\n",
       "      <td>0.0</td>\n",
       "      <td>1.0</td>\n",
       "      <td>1.0</td>\n",
       "      <td>0.0</td>\n",
       "    </tr>\n",
       "    <tr>\n",
       "      <th>Bump and Grind Trail</th>\n",
       "      <td>0.0</td>\n",
       "      <td>0.0</td>\n",
       "      <td>3.9</td>\n",
       "      <td>1108.0</td>\n",
       "      <td>1.0</td>\n",
       "      <td>1.0</td>\n",
       "      <td>0.0</td>\n",
       "      <td>0.0</td>\n",
       "    </tr>\n",
       "    <tr>\n",
       "      <th>Lost Palms Oasis</th>\n",
       "      <td>0.0</td>\n",
       "      <td>0.0</td>\n",
       "      <td>7.2</td>\n",
       "      <td>1026.0</td>\n",
       "      <td>0.0</td>\n",
       "      <td>1.0</td>\n",
       "      <td>1.0</td>\n",
       "      <td>0.0</td>\n",
       "    </tr>\n",
       "  </tbody>\n",
       "</table>\n",
       "</div>"
      ],
      "text/plain": [
       "                                                    easy  hard  hike_distance  \\\n",
       "Woods, Winnemucca, and Round Top Lakes               0.0   0.0            4.9   \n",
       "Canyon View Loop Trail                               0.0   0.0            3.6   \n",
       "Big Meadow to Dardanelles Lake via Tahoe Rim Trail   0.0   0.0            7.3   \n",
       "Bayview Trail to Velma Lakes                         0.0   0.0            9.9   \n",
       "Bump and Grind Trail                                 0.0   0.0            3.9   \n",
       "Lost Palms Oasis                                     0.0   0.0            7.2   \n",
       "\n",
       "                                                    hike_elevation  loop  \\\n",
       "Woods, Winnemucca, and Round Top Lakes                      1272.0   1.0   \n",
       "Canyon View Loop Trail                                       623.0   1.0   \n",
       "Big Meadow to Dardanelles Lake via Tahoe Rim Trail          1358.0   0.0   \n",
       "Bayview Trail to Velma Lakes                                2378.0   0.0   \n",
       "Bump and Grind Trail                                        1108.0   1.0   \n",
       "Lost Palms Oasis                                            1026.0   0.0   \n",
       "\n",
       "                                                    moderate  out_and_back  \\\n",
       "Woods, Winnemucca, and Round Top Lakes                   1.0           0.0   \n",
       "Canyon View Loop Trail                                   1.0           0.0   \n",
       "Big Meadow to Dardanelles Lake via Tahoe Rim Trail       1.0           1.0   \n",
       "Bayview Trail to Velma Lakes                             1.0           1.0   \n",
       "Bump and Grind Trail                                     1.0           0.0   \n",
       "Lost Palms Oasis                                         1.0           1.0   \n",
       "\n",
       "                                                    point_to_point  \n",
       "Woods, Winnemucca, and Round Top Lakes                         0.0  \n",
       "Canyon View Loop Trail                                         0.0  \n",
       "Big Meadow to Dardanelles Lake via Tahoe Rim Trail             0.0  \n",
       "Bayview Trail to Velma Lakes                                   0.0  \n",
       "Bump and Grind Trail                                           0.0  \n",
       "Lost Palms Oasis                                               0.0  "
      ]
     },
     "execution_count": 1156,
     "metadata": {},
     "output_type": "execute_result"
    }
   ],
   "source": [
    "hikes_features_df.loc[nz_entries[' Bill Friedman'].index]"
   ]
  },
  {
   "cell_type": "code",
   "execution_count": 1284,
   "metadata": {},
   "outputs": [],
   "source": [
    "median_dist = hikes_features_df.loc[nz_entries[' Bill Friedman'].index, 'hike_distance'].median()\n",
    "median_elev = hikes_features_df.loc[nz_entries[' Bill Friedman'].index, 'hike_elevation'].median()"
   ]
  },
  {
   "cell_type": "code",
   "execution_count": null,
   "metadata": {},
   "outputs": [],
   "source": []
  },
  {
   "cell_type": "code",
   "execution_count": null,
   "metadata": {},
   "outputs": [],
   "source": []
  },
  {
   "cell_type": "code",
   "execution_count": null,
   "metadata": {},
   "outputs": [],
   "source": []
  },
  {
   "cell_type": "code",
   "execution_count": null,
   "metadata": {},
   "outputs": [],
   "source": []
  },
  {
   "cell_type": "markdown",
   "metadata": {},
   "source": [
    "# Visualizations"
   ]
  },
  {
   "cell_type": "markdown",
   "metadata": {},
   "source": [
    "Distribution of Ratings"
   ]
  },
  {
   "cell_type": "code",
   "execution_count": 252,
   "metadata": {},
   "outputs": [],
   "source": [
    "from collections import Counter"
   ]
  },
  {
   "cell_type": "code",
   "execution_count": 248,
   "metadata": {},
   "outputs": [],
   "source": [
    "rating_list = hike_data['user_ratings'].sum()"
   ]
  },
  {
   "cell_type": "code",
   "execution_count": 257,
   "metadata": {},
   "outputs": [],
   "source": [
    "rating_list_counter = Counter(rating_list)"
   ]
  },
  {
   "cell_type": "code",
   "execution_count": 265,
   "metadata": {},
   "outputs": [],
   "source": [
    "ratings_values, ratings_count = rating_list_counter.keys(), rating_list_counter.values()"
   ]
  },
  {
   "cell_type": "code",
   "execution_count": 277,
   "metadata": {},
   "outputs": [
    {
     "data": {
      "image/png": "[encoded data removed]",
      "text/plain": [
       "<Figure size 432x288 with 1 Axes>"
      ]
     },
     "metadata": {},
     "output_type": "display_data"
    }
   ],
   "source": [
    "sns.set()\n",
    "plt.bar(ratings_values, ratings_count)\n",
    "plt.xlabel('Hike Rating')\n",
    "plt.ylabel('Count')\n",
    "plt.title('Distribution of Hike Ratings');"
   ]
  },
  {
   "cell_type": "markdown",
   "metadata": {},
   "source": [
    "Number of ratings"
   ]
  },
  {
   "cell_type": "code",
   "execution_count": 240,
   "metadata": {},
   "outputs": [],
   "source": [
    "rated_or_not = convert_to_binary(hike_user_rating_matrix, 0.5)"
   ]
  },
  {
   "cell_type": "code",
   "execution_count": 246,
   "metadata": {},
   "outputs": [
    {
     "name": "stdout",
     "output_type": "stream",
     "text": [
      "Number of ratings: 222987.\n",
      "Number of no-ratings 552755043.\n"
     ]
    }
   ],
   "source": [
    "rated = rated_or_not.values.sum()\n",
    "not_rated = rated_or_not.shape[0] * rated_or_not.shape[1] - rated\n",
    "\n",
    "print('Number of ratings: ' + str(int(rated)) + '.')\n",
    "print('Number of no-ratings ' + str(int(not_rated)) + '.')"
   ]
  },
  {
   "cell_type": "code",
   "execution_count": 1110,
   "metadata": {},
   "outputs": [],
   "source": [
    "num_ratings_per_hike = hike_user_rating_matrix_bool.apply(sum)"
   ]
  },
  {
   "cell_type": "code",
   "execution_count": 1111,
   "metadata": {},
   "outputs": [],
   "source": [
    "x=[]\n",
    "y=[]\n",
    "for number in range(100):\n",
    "    count = 0\n",
    "    for num_hikes in num_ratings_per_hike.values:\n",
    "        if num_hikes > number:\n",
    "            count += 1\n",
    "    x.append(number)\n",
    "    y.append(count)"
   ]
  },
  {
   "cell_type": "code",
   "execution_count": 1115,
   "metadata": {},
   "outputs": [
    {
     "data": {
      "image/png": "[encoded data removed]",
      "text/plain": [
       "<Figure size 432x288 with 1 Axes>"
      ]
     },
     "metadata": {},
     "output_type": "display_data"
    }
   ],
   "source": [
    "plt.plot(x, y)\n",
    "plt.xlabel('Number of Hikes')\n",
    "plt.ylabel('Number of Reviews')\n",
    "plt.title('Number of hikes with at least number of reviews')\n",
    "plt.savefig('NumReviews vs. NumHikes.png', dpi=300, bbox_inches='tight')"
   ]
  },
  {
   "cell_type": "code",
   "execution_count": 1116,
   "metadata": {},
   "outputs": [],
   "source": [
    "num_ratings_per_user = hike_user_rating_matrix_bool.apply(sum, axis=1)"
   ]
  },
  {
   "cell_type": "code",
   "execution_count": 1117,
   "metadata": {},
   "outputs": [],
   "source": [
    "x=[]\n",
    "y=[]\n",
    "for number in range(100):\n",
    "    count = 0\n",
    "    for num_rating in num_ratings_per_user.values:\n",
    "        if num_rating > number:\n",
    "            count += 1\n",
    "    x.append(number)\n",
    "    y.append(count)"
   ]
  },
  {
   "cell_type": "code",
   "execution_count": 1118,
   "metadata": {},
   "outputs": [
    {
     "data": {
      "image/png": "[encoded data removed]",
      "text/plain": [
       "<Figure size 432x288 with 1 Axes>"
      ]
     },
     "metadata": {},
     "output_type": "display_data"
    }
   ],
   "source": [
    "plt.plot(x, y)\n",
    "plt.xlabel('Number of Users')\n",
    "plt.ylabel('Number of Reviews')\n",
    "plt.title('Number of users with at least number of reviews')\n",
    "plt.savefig('NumReviews vs. NumUsers.png', dpi=300, bbox_inches='tight')"
   ]
  },
  {
   "cell_type": "markdown",
   "metadata": {},
   "source": [
    "# NLP"
   ]
  },
  {
   "cell_type": "code",
   "execution_count": 442,
   "metadata": {},
   "outputs": [
    {
     "name": "stdout",
     "output_type": "stream",
     "text": [
      "[nltk_data] Downloading package stopwords to\n",
      "[nltk_data]     /Users/stefanheinze/nltk_data...\n",
      "[nltk_data]   Package stopwords is already up-to-date!\n"
     ]
    }
   ],
   "source": [
    "import string\n",
    "import re\n",
    "import spacy\n",
    "import gensim\n",
    "from gensim.utils import simple_preprocess\n",
    "from gensim.models import Word2Vec\n",
    "\n",
    "import nltk\n",
    "nltk.download('stopwords')\n",
    "from nltk.corpus import stopwords\n",
    "\n",
    "stop_words = stopwords.words('english')\n",
    "punctuation = string.punctuation"
   ]
  },
  {
   "cell_type": "code",
   "execution_count": 410,
   "metadata": {},
   "outputs": [],
   "source": [
    "example = ' '.join(hike_data.loc[0, 'user_texts'])\n",
    "example = re.sub(\"\"\"[{}]\"\"\".format(punctuation), '', example) # get rid of punctuation\n",
    "example = re.sub('\\s{2,10}', ' ', example) # remove extra whitespace\n",
    "example = example.lower() # make lower case"
   ]
  },
  {
   "cell_type": "code",
   "execution_count": 412,
   "metadata": {},
   "outputs": [
    {
     "data": {
      "text/plain": [
       "'incredible hike i would do this again although i wouldnt try to be daring due to the recent death th'"
      ]
     },
     "execution_count": 412,
     "metadata": {},
     "output_type": "execute_result"
    }
   ],
   "source": [
    "example[:100]"
   ]
  },
  {
   "cell_type": "code",
   "execution_count": 414,
   "metadata": {},
   "outputs": [],
   "source": [
    "example_words = gensim.utils.simple_preprocess(example, deacc=True)"
   ]
  },
  {
   "cell_type": "code",
   "execution_count": 417,
   "metadata": {},
   "outputs": [],
   "source": [
    "def remove_stopwords(word_list):\n",
    "    #return [[word for word in example_words if word not in stop_words] for doc in texts]\n",
    "    return [ word for word in word_list if word not in stop_words ]"
   ]
  },
  {
   "cell_type": "code",
   "execution_count": 418,
   "metadata": {},
   "outputs": [],
   "source": [
    "example_words_filt = remove_stopwords(example_words)"
   ]
  },
  {
   "cell_type": "code",
   "execution_count": 438,
   "metadata": {},
   "outputs": [],
   "source": [
    "nlp = spacy.load('en', disable=['parser', 'ner'])\n",
    "\n",
    "def lemmatization(string, allowed_postags=['NOUN', 'ADJ', 'VERB', 'ADV']):\n",
    "    \"\"\"https://spacy.io/api/annotation\"\"\"\n",
    "    texts_out = [] \n",
    "    texts_out.append([token.lemma_ for token in nlp(string) if token.pos_ in allowed_postags])\n",
    "    \n",
    "    return texts_out"
   ]
  },
  {
   "cell_type": "code",
   "execution_count": 440,
   "metadata": {},
   "outputs": [],
   "source": [
    "lemmatized = lemmatization(' '.join(example_words_filt))"
   ]
  },
  {
   "cell_type": "code",
   "execution_count": 441,
   "metadata": {},
   "outputs": [
    {
     "data": {
      "text/plain": [
       "[['incredible',\n",
       "  'hike',\n",
       "  'would',\n",
       "  'would',\n",
       "  'not',\n",
       "  'try',\n",
       "  'dare',\n",
       "  'due',\n",
       "  'recent',\n",
       "  'death',\n",
       "  'news',\n",
       "  'indian',\n",
       "  'couple',\n",
       "  'vishnu',\n",
       "  'viswanath',\n",
       "  'meenakshi',\n",
       "  'moorthy',\n",
       "  'october',\n",
       "  'think',\n",
       "  'back',\n",
       "  'even',\n",
       "  'walk',\n",
       "  'fissure',\n",
       "  'seem',\n",
       "  'solid',\n",
       "  'grounding',\n",
       "  'rock',\n",
       "  'would',\n",
       "  'attempt',\n",
       "  'place',\n",
       "  'remarkable',\n",
       "  'spend',\n",
       "  'hour',\n",
       "  'take',\n",
       "  'photo',\n",
       "  'nice',\n",
       "  'little',\n",
       "  'hike',\n",
       "  'road',\n",
       "  'first',\n",
       "  'drive',\n",
       "  'hour',\n",
       "  'yosemite',\n",
       "  'good',\n",
       "  'way',\n",
       "  'start',\n",
       "  'great',\n",
       "  'weekend',\n",
       "  'slightly',\n",
       "  'mile',\n",
       "  'way',\n",
       "  'carry',\n",
       "  'bottle',\n",
       "  'water',\n",
       "  'really',\n",
       "  'hill',\n",
       "  'hill',\n",
       "  'trail',\n",
       "  'flat',\n",
       "  'small',\n",
       "  'section',\n",
       "  'go',\n",
       "  'slightly',\n",
       "  'get',\n",
       "  'close',\n",
       "  'edge',\n",
       "  'last',\n",
       "  'foot',\n",
       "  'trail',\n",
       "  'downhill',\n",
       "  'get',\n",
       "  'point',\n",
       "  'fissure',\n",
       "  'east',\n",
       "  'right',\n",
       "  'hand',\n",
       "  'side',\n",
       "  'take',\n",
       "  'little',\n",
       "  'time',\n",
       "  'view',\n",
       "  'make',\n",
       "  'way',\n",
       "  'point',\n",
       "  'point',\n",
       "  'find',\n",
       "  'look',\n",
       "  'east',\n",
       "  'old',\n",
       "  'guard',\n",
       "  'rail',\n",
       "  'west',\n",
       "  'guard',\n",
       "  'rail',\n",
       "  'couple',\n",
       "  'fall',\n",
       "  'week',\n",
       "  'ago',\n",
       "  'be',\n",
       "  'group',\n",
       "  'someone',\n",
       "  'stay',\n",
       "  'guard',\n",
       "  'rail',\n",
       "  'overlook',\n",
       "  'camera',\n",
       "  'friend',\n",
       "  'visit',\n",
       "  'overlook',\n",
       "  'will',\n",
       "  'get',\n",
       "  'great',\n",
       "  'photo',\n",
       "  'take',\n",
       "  'turn',\n",
       "  'everyone',\n",
       "  'get',\n",
       "  'photo',\n",
       "  'west',\n",
       "  'overlook',\n",
       "  'course',\n",
       "  'do',\n",
       "  'not',\n",
       "  'fall',\n",
       "  'ruin',\n",
       "  'weekend',\n",
       "  'trail',\n",
       "  'start',\n",
       "  'uphill',\n",
       "  'slight',\n",
       "  'down',\n",
       "  'be',\n",
       "  'back',\n",
       "  'road',\n",
       "  'will',\n",
       "  'not',\n",
       "  'find',\n",
       "  'water',\n",
       "  'find',\n",
       "  'set',\n",
       "  'porta',\n",
       "  'potty',\n",
       "  'need',\n",
       "  'go',\n",
       "  'hike',\n",
       "  'easy',\n",
       "  'enough',\n",
       "  'view',\n",
       "  'amazing',\n",
       "  'stay',\n",
       "  'away',\n",
       "  'edge',\n",
       "  'easy',\n",
       "  'hike',\n",
       "  'view',\n",
       "  'amazing',\n",
       "  'star',\n",
       "  'notice',\n",
       "  'view',\n",
       "  'breath',\n",
       "  'take',\n",
       "  'hike',\n",
       "  'easy',\n",
       "  'star',\n",
       "  'hikebut',\n",
       "  'lose',\n",
       "  'friend',\n",
       "  'edge',\n",
       "  'cliff',\n",
       "  'oct',\n",
       "  'giard',\n",
       "  'rail',\n",
       "  'edge',\n",
       "  'get',\n",
       "  'windy',\n",
       "  'careful',\n",
       "  'guy',\n",
       "  'awesome',\n",
       "  'view',\n",
       "  'easy',\n",
       "  'hike',\n",
       "  'awesome',\n",
       "  'personal',\n",
       "  'favorite',\n",
       "  'friend',\n",
       "  'show',\n",
       "  'better',\n",
       "  'try',\n",
       "  'get',\n",
       "  'away',\n",
       "  'crowd',\n",
       "  'descend',\n",
       "  'road',\n",
       "  'cliff',\n",
       "  'edge',\n",
       "  'different',\n",
       "  'bluff',\n",
       "  'view',\n",
       "  'canyon',\n",
       "  'railing',\n",
       "  'careful',\n",
       "  'give',\n",
       "  'great',\n",
       "  'sense',\n",
       "  'scope',\n",
       "  'park',\n",
       "  'pretty',\n",
       "  'shady',\n",
       "  'get',\n",
       "  'cliff',\n",
       "  'edge',\n",
       "  'decently',\n",
       "  'moderate',\n",
       "  'gain',\n",
       "  'way',\n",
       "  'back',\n",
       "  'fear',\n",
       "  'height',\n",
       "  'awesome',\n",
       "  'view',\n",
       "  'valley',\n",
       "  'bring',\n",
       "  'get',\n",
       "  'close',\n",
       "  'enough',\n",
       "  'edge',\n",
       "  'really',\n",
       "  'get',\n",
       "  'good',\n",
       "  'view',\n",
       "  'railing',\n",
       "  'point',\n",
       "  'large',\n",
       "  'trail',\n",
       "  'pretty',\n",
       "  'easy',\n",
       "  'end',\n",
       "  'elevation',\n",
       "  'change',\n",
       "  'little',\n",
       "  'rough',\n",
       "  'go',\n",
       "  'back',\n",
       "  'finish',\n",
       "  'definitely',\n",
       "  'think',\n",
       "  'sunrise',\n",
       "  'want',\n",
       "  'good',\n",
       "  'view',\n",
       "  'park',\n",
       "  'hike',\n",
       "  'accessible',\n",
       "  'trail',\n",
       "  'take',\n",
       "  'hike',\n",
       "  'view',\n",
       "  'absolutely',\n",
       "  'amazing',\n",
       "  'wantcan',\n",
       "  'handle',\n",
       "  'bit',\n",
       "  'challenge',\n",
       "  'sentinel',\n",
       "  'dome',\n",
       "  'recommendation',\n",
       "  'standing',\n",
       "  'edge',\n",
       "  'cliff',\n",
       "  'beholding',\n",
       "  'fissure',\n",
       "  'valley',\n",
       "  'simply',\n",
       "  'breathtaking',\n",
       "  'sentinel',\n",
       "  'taft',\n",
       "  'make',\n",
       "  'excellent',\n",
       "  'sunset',\n",
       "  'destination',\n",
       "  'former',\n",
       "  'personally',\n",
       "  'attest',\n",
       "  'hike',\n",
       "  'day',\n",
       "  'trip',\n",
       "  'there',\n",
       "  's',\n",
       "  'reason',\n",
       "  'make',\n",
       "  'last',\n",
       "  'activity',\n",
       "  'day',\n",
       "  'sunset',\n",
       "  'perfect',\n",
       "  'bookend',\n",
       "  'visit',\n",
       "  'really',\n",
       "  'great',\n",
       "  'view',\n",
       "  'capitan',\n",
       "  'dawn',\n",
       "  'wall',\n",
       "  'well',\n",
       "  'fissure',\n",
       "  'nice',\n",
       "  'easy',\n",
       "  'mile',\n",
       "  'hike',\n",
       "  'easy',\n",
       "  'child',\n",
       "  'people',\n",
       "  'hike',\n",
       "  'easily',\n",
       "  'super',\n",
       "  'easy',\n",
       "  'follow',\n",
       "  'trail',\n",
       "  'lead',\n",
       "  'directly',\n",
       "  'taft',\n",
       "  'point',\n",
       "  'clearly',\n",
       "  'mark',\n",
       "  'entire',\n",
       "  'way',\n",
       "  'prepare',\n",
       "  'wind',\n",
       "  'use',\n",
       "  'elevation',\n",
       "  'place',\n",
       "  'go',\n",
       "  'yosemite',\n",
       "  'one',\n",
       "  'afraid',\n",
       "  'height',\n",
       "  'railing',\n",
       "  'edge',\n",
       "  'straight',\n",
       "  'breathtaking',\n",
       "  'place',\n",
       "  'opinion',\n",
       "  'good',\n",
       "  'trail',\n",
       "  'entire',\n",
       "  'park',\n",
       "  'incredible',\n",
       "  'view',\n",
       "  'especially',\n",
       "  'sunset',\n",
       "  'quieter',\n",
       "  'place',\n",
       "  'yosemite',\n",
       "  'well',\n",
       "  'arrive',\n",
       "  'early',\n",
       "  'later',\n",
       "  'day',\n",
       "  'hop',\n",
       "  'stay',\n",
       "  'way',\n",
       "  'long',\n",
       "  'day',\n",
       "  'hike',\n",
       "  'little',\n",
       "  'tiring',\n",
       "  'way',\n",
       "  'back',\n",
       "  'incline',\n",
       "  'still',\n",
       "  'favorite',\n",
       "  'hike',\n",
       "  'would',\n",
       "  'easy',\n",
       "  'hike',\n",
       "  'big',\n",
       "  'payoff',\n",
       "  'view',\n",
       "  'great',\n",
       "  'view',\n",
       "  'capitan',\n",
       "  'love',\n",
       "  'hike',\n",
       "  'beautiful',\n",
       "  'view',\n",
       "  'bit',\n",
       "  'rush',\n",
       "  'stand',\n",
       "  'edge',\n",
       "  'may',\n",
       "  'short',\n",
       "  'hike',\n",
       "  'bring',\n",
       "  'water',\n",
       "  'great',\n",
       "  'hike',\n",
       "  'bad',\n",
       "  'much',\n",
       "  'incline',\n",
       "  'take',\n",
       "  'min',\n",
       "  'min',\n",
       "  'get',\n",
       "  'edge',\n",
       "  'amazing',\n",
       "  'view',\n",
       "  'valley',\n",
       "  'capitan',\n",
       "  'forget',\n",
       "  'take',\n",
       "  'picture',\n",
       "  'edge',\n",
       "  'point',\n",
       "  'also',\n",
       "  'aware',\n",
       "  'prepared',\n",
       "  'mosquito',\n",
       "  'hike',\n",
       "  'lotionspray',\n",
       "  'handy',\n",
       "  'wear',\n",
       "  'windbreaker',\n",
       "  'layer',\n",
       "  'clothing',\n",
       "  'great',\n",
       "  'little',\n",
       "  'hike',\n",
       "  'almost',\n",
       "  'year',\n",
       "  'old',\n",
       "  'walk',\n",
       "  'first',\n",
       "  'mile',\n",
       "  'loaded',\n",
       "  'child',\n",
       "  'carrier',\n",
       "  'backpack',\n",
       "  'remainder',\n",
       "  'mostly',\n",
       "  'tired',\n",
       "  'also',\n",
       "  'fissure',\n",
       "  'pose',\n",
       "  'risk',\n",
       "  'fast',\n",
       "  'wander',\n",
       "  'leg',\n",
       "  'point',\n",
       "  'trail',\n",
       "  'become',\n",
       "  'steep',\n",
       "  'rocky',\n",
       "  'short',\n",
       "  'time',\n",
       "  'view',\n",
       "  'spectacular',\n",
       "  'great',\n",
       "  'trail',\n",
       "  'fissure',\n",
       "  'awesome',\n",
       "  'rewarding',\n",
       "  'view',\n",
       "  'end',\n",
       "  'lot',\n",
       "  'mosquito',\n",
       "  'early',\n",
       "  'today',\n",
       "  'bring',\n",
       "  'bug',\n",
       "  'spray',\n",
       "  'hike',\n",
       "  'sunset',\n",
       "  'highlight',\n",
       "  'trip',\n",
       "  'nice',\n",
       "  'easy',\n",
       "  'way',\n",
       "  'get',\n",
       "  'good',\n",
       "  'view',\n",
       "  'valley',\n",
       "  'personnally',\n",
       "  'think',\n",
       "  'lot',\n",
       "  'view',\n",
       "  'point',\n",
       "  'side',\n",
       "  'valley',\n",
       "  'similar',\n",
       "  'taft',\n",
       "  'may',\n",
       "  'easiest',\n",
       "  'probably',\n",
       "  'combine',\n",
       "  'sentinel',\n",
       "  'dome',\n",
       "  'even',\n",
       "  'bite',\n",
       "  'dissappointing',\n",
       "  'whole',\n",
       "  'loop',\n",
       "  'glacier',\n",
       "  'point',\n",
       "  'easy',\n",
       "  'hike',\n",
       "  'huge',\n",
       "  'payoff',\n",
       "  'propose',\n",
       "  'fiance',\n",
       "  'beautiful',\n",
       "  'capitan',\n",
       "  'yosemite',\n",
       "  'fall',\n",
       "  'view',\n",
       "  'damp',\n",
       "  'ground',\n",
       "  'snow',\n",
       "  'melt',\n",
       "  'late',\n",
       "  'april',\n",
       "  'make',\n",
       "  'trail',\n",
       "  'difficultfun',\n",
       "  'navigate',\n",
       "  'great',\n",
       "  'oppurtunity',\n",
       "  'see',\n",
       "  'yosemite',\n",
       "  'valley',\n",
       "  'floor',\n",
       "  'nice',\n",
       "  'easy',\n",
       "  'hike',\n",
       "  'pretty',\n",
       "  'view',\n",
       "  'point',\n",
       "  'great',\n",
       "  'view',\n",
       "  'capitan',\n",
       "  'nice',\n",
       "  'short',\n",
       "  'little',\n",
       "  'easy',\n",
       "  'hike',\n",
       "  'end',\n",
       "  'fairly',\n",
       "  'amazing',\n",
       "  'get',\n",
       "  'see',\n",
       "  'fissure',\n",
       "  'dropoff',\n",
       "  'taft',\n",
       "  'point',\n",
       "  'make',\n",
       "  'hike',\n",
       "  'really',\n",
       "  'easy',\n",
       "  'short',\n",
       "  'hike',\n",
       "  'hike',\n",
       "  'october',\n",
       "  'one',\n",
       "  'trail',\n",
       "  'amazingly',\n",
       "  'wonderful',\n",
       "  'hike',\n",
       "  'great',\n",
       "  'view',\n",
       "  'fairly',\n",
       "  'easymoderate',\n",
       "  'skill',\n",
       "  'level',\n",
       "  'shady',\n",
       "  'tree',\n",
       "  'spot',\n",
       "  'hike',\n",
       "  'yesterday',\n",
       "  'nervous',\n",
       "  'may',\n",
       "  'icy',\n",
       "  'snowy',\n",
       "  'time',\n",
       "  'year',\n",
       "  'lovely',\n",
       "  'hike',\n",
       "  'hike',\n",
       "  'mile',\n",
       "  'trail',\n",
       "  'come',\n",
       "  'trail',\n",
       "  'spectacular',\n",
       "  'day',\n",
       "  'yosemite',\n",
       "  'beautiful',\n",
       "  'view',\n",
       "  'holy',\n",
       "  'anxiety',\n",
       "  'attack',\n",
       "  'fear',\n",
       "  'height',\n",
       "  'skip',\n",
       "  'trail',\n",
       "  'quick',\n",
       "  'peek',\n",
       "  'overlook',\n",
       "  'take',\n",
       "  'drop',\n",
       "  'crazy',\n",
       "  'great',\n",
       "  'walk',\n",
       "  'tie',\n",
       "  'sentinal',\n",
       "  'dome',\n",
       "  'cool',\n",
       "  'place',\n",
       "  'excellent',\n",
       "  'view',\n",
       "  'year',\n",
       "  'old',\n",
       "  'daughter',\n",
       "  'problem',\n",
       "  'great',\n",
       "  'view',\n",
       "  'nice',\n",
       "  'easy',\n",
       "  'hike',\n",
       "  'wood',\n",
       "  'really',\n",
       "  'quick',\n",
       "  'beautiful',\n",
       "  'spot',\n",
       "  'enjoy',\n",
       "  'view',\n",
       "  'valley',\n",
       "  'wheel',\n",
       "  'chair',\n",
       "  'stroller',\n",
       "  'friendly',\n",
       "  'mosquito',\n",
       "  'killer',\n",
       "  'late',\n",
       "  'afternoon',\n",
       "  'overall',\n",
       "  'really',\n",
       "  'enjoy',\n",
       "  'leisurely',\n",
       "  'mile',\n",
       "  'walk',\n",
       "  'mile',\n",
       "  'back',\n",
       "  'especially',\n",
       "  'think',\n",
       "  'go',\n",
       "  'closer',\n",
       "  'sunset',\n",
       "  'worth',\n",
       "  'great',\n",
       "  'way',\n",
       "  'end',\n",
       "  'day',\n",
       "  'great',\n",
       "  'trail',\n",
       "  'beautiful',\n",
       "  'scenery',\n",
       "  'easy',\n",
       "  'basic',\n",
       "  'word',\n",
       "  'caution',\n",
       "  'keep',\n",
       "  'young',\n",
       "  'andor',\n",
       "  'inexperienced',\n",
       "  'hiker',\n",
       "  'control',\n",
       "  'taft',\n",
       "  'point',\n",
       "  'fissure',\n",
       "  'could',\n",
       "  'easily',\n",
       "  'swallow',\n",
       "  'misbehave',\n",
       "  'rambunctious',\n",
       "  'child',\n",
       "  'danger',\n",
       "  'factor',\n",
       "  'rather',\n",
       "  'steep',\n",
       "  'climb',\n",
       "  'back',\n",
       "  'would',\n",
       "  'consider',\n",
       "  'hike',\n",
       "  'moderate',\n",
       "  'easy',\n",
       "  'claim',\n",
       "  'trail',\n",
       "  'also',\n",
       "  'terrific',\n",
       "  'hike',\n",
       "  'combined',\n",
       "  'sentinel',\n",
       "  'dome',\n",
       "  'pohono',\n",
       "  'trail',\n",
       "  'north',\n",
       "  'rim',\n",
       "  'yosemite',\n",
       "  'valley',\n",
       "  'loop',\n",
       "  'push',\n",
       "  'hike',\n",
       "  'mile',\n",
       "  'add',\n",
       "  'couple',\n",
       "  'upanddown',\n",
       "  'vertical',\n",
       "  'foot',\n",
       "  'view',\n",
       "  'sentinel',\n",
       "  'dome',\n",
       "  'taft',\n",
       "  'point',\n",
       "  'pohono',\n",
       "  'trail',\n",
       "  'second',\n",
       "  'none',\n",
       "  'consider',\n",
       "  'mustdo',\n",
       "  'couple',\n",
       "  'day',\n",
       "  'yosemite',\n",
       "  'technically',\n",
       "  'hike',\n",
       "  'easy',\n",
       "  'altitude',\n",
       "  'climb',\n",
       "  'foot',\n",
       "  'cliff',\n",
       "  'get',\n",
       "  'attention',\n",
       "  'pohono',\n",
       "  'basically',\n",
       "  'empty',\n",
       "  'destination',\n",
       "  'probably',\n",
       "  'company',\n",
       "  'end',\n",
       "  'journey',\n",
       "  'great',\n",
       "  'vie',\n",
       "  'usually',\n",
       "  'deal',\n",
       "  'ton',\n",
       "  'smoke',\n",
       "  'fire',\n",
       "  'still',\n",
       "  'amazing',\n",
       "  'hike',\n",
       "  'highly',\n",
       "  'recomend',\n",
       "  'nice',\n",
       "  'hike',\n",
       "  'start',\n",
       "  'stay',\n",
       "  'park',\n",
       "  'last',\n",
       "  'day',\n",
       "  'leg',\n",
       "  'wear',\n",
       "  'trail',\n",
       "  'flat',\n",
       "  'take',\n",
       "  'nice',\n",
       "  'wooded',\n",
       "  'area',\n",
       "  'end',\n",
       "  'open',\n",
       "  'large',\n",
       "  'rock',\n",
       "  'service',\n",
       "  'view',\n",
       "  'valley',\n",
       "  'great',\n",
       "  'place',\n",
       "  'spend',\n",
       "  'time',\n",
       "  'look',\n",
       "  'different',\n",
       "  'view',\n",
       "  'point',\n",
       "  'take',\n",
       "  'trail',\n",
       "  'follow',\n",
       "  'cliff',\n",
       "  'edge',\n",
       "  'sentinel',\n",
       "  'dome',\n",
       "  'instead',\n",
       "  'go',\n",
       "  'back',\n",
       "  'parking',\n",
       "  'area',\n",
       "  'start',\n",
       "  'sentinel',\n",
       "  'do',\n",
       "  'trail',\n",
       "  'great',\n",
       "  'trail',\n",
       "  'be',\n",
       "  'not',\n",
       "  'well',\n",
       "  'mark',\n",
       "  'cross',\n",
       "  'creek',\n",
       "  'turn',\n",
       "  'right',\n",
       "  'stay',\n",
       "  'trail',\n",
       "  'look',\n",
       "  'trail',\n",
       "  'leave',\n",
       "  'actual',\n",
       "  'trail',\n",
       "  'downhill',\n",
       "  'way',\n",
       "  'bit',\n",
       "  'uphill',\n",
       "  'walk',\n",
       "  'way',\n",
       "  'back',\n",
       "  'love',\n",
       "  'go',\n",
       "  'view',\n",
       "  'cap',\n",
       "  'seriously',\n",
       "  'cool',\n",
       "  'place',\n",
       "  'look',\n",
       "  'cap',\n",
       "  'taft',\n",
       "  'also',\n",
       "  'see',\n",
       "  'yosemite',\n",
       "  'fall',\n",
       "  'huge',\n",
       "  'drop',\n",
       "  'foot',\n",
       "  'show',\n",
       "  'extreme',\n",
       "  'caution',\n",
       "  'cliff',\n",
       "  'edge',\n",
       "  'easy',\n",
       "  'beautiful',\n",
       "  'hike',\n",
       "  'go',\n",
       "  'late',\n",
       "  'day',\n",
       "  'parking',\n",
       "  'easy',\n",
       "  'hardly',\n",
       "  'people',\n",
       "  'point',\n",
       "  'beautiful',\n",
       "  'view',\n",
       "  'nice',\n",
       "  'tree',\n",
       "  'way',\n",
       "  'start',\n",
       "  'trail',\n",
       "  'park',\n",
       "  'car',\n",
       "  'already',\n",
       "  'time',\n",
       "  'finish',\n",
       "  'hike',\n",
       "  'parking',\n",
       "  'lot',\n",
       "  'full',\n",
       "  'trail',\n",
       "  'start',\n",
       "  'decline',\n",
       "  'incline',\n",
       "  'way',\n",
       "  'back',\n",
       "  'go',\n",
       "  'shade',\n",
       "  'area',\n",
       "  'beautiful',\n",
       "  'scenery',\n",
       "  'way',\n",
       "  'taft',\n",
       "  'point',\n",
       "  'give',\n",
       "  'trail',\n",
       "  'star',\n",
       "  'fill',\n",
       "  'mud',\n",
       "  'mosquito',\n",
       "  'huge',\n",
       "  'mosquito',\n",
       "  'bug',\n",
       "  'spray',\n",
       "  'work',\n",
       "  'suggest',\n",
       "  'go',\n",
       "  'early',\n",
       "  'take',\n",
       "  'crowd',\n",
       "  'unbelievably',\n",
       "  'gorgeous',\n",
       "  'highlight',\n",
       "  'trip',\n",
       "  'fun',\n",
       "  'hike',\n",
       "  'hard',\n",
       "  'sentinel',\n",
       "  'dome',\n",
       "  'beautiful',\n",
       "  'hike',\n",
       "  'amazing',\n",
       "  'view',\n",
       "  'end',\n",
       "  'pleasant',\n",
       "  'trail',\n",
       "  'get',\n",
       "  'fun',\n",
       "  'combine',\n",
       "  'sentinel',\n",
       "  'dome',\n",
       "  'well',\n",
       "  'trail',\n",
       "  'close',\n",
       "  'due',\n",
       "  'snow',\n",
       "  'may',\n",
       "  'hike',\n",
       "  'sentinel',\n",
       "  'instead',\n",
       "  'look',\n",
       "  'forward',\n",
       "  'chance',\n",
       "  'future',\n",
       "  'good',\n",
       "  'fun',\n",
       "  'easy',\n",
       "  'trail',\n",
       "  'stunning',\n",
       "  'view',\n",
       "  'pleasant',\n",
       "  'stroll',\n",
       "  'hike',\n",
       "  'scenery',\n",
       "  'beautiful',\n",
       "  'payoff',\n",
       "  'end',\n",
       "  'amazing',\n",
       "  'view',\n",
       "  'stunning',\n",
       "  'courage',\n",
       "  'lie',\n",
       "  'stomach',\n",
       "  'look',\n",
       "  'hang',\n",
       "  'straight',\n",
       "  'drop',\n",
       "  'chill',\n",
       "  'definitely',\n",
       "  'worth',\n",
       "  'love',\n",
       "  'trail',\n",
       "  'beautiful',\n",
       "  'long',\n",
       "  'give',\n",
       "  'time',\n",
       "  'thing',\n",
       "  'valley',\n",
       "  'awesome',\n",
       "  'word',\n",
       "  'can',\n",
       "  'not',\n",
       "  'adequately',\n",
       "  'describe',\n",
       "  'view',\n",
       "  'must',\n",
       "  'see',\n",
       "  'favorite',\n",
       "  'hike',\n",
       "  'be',\n",
       "  'feel',\n",
       "  'daring',\n",
       "  'go',\n",
       "  'taft',\n",
       "  'point',\n",
       "  'look',\n",
       "  'cliff',\n",
       "  'bottom',\n",
       "  'valley',\n",
       "  'easy',\n",
       "  'hike',\n",
       "  ...]]"
      ]
     },
     "execution_count": 441,
     "metadata": {},
     "output_type": "execute_result"
    }
   ],
   "source": [
    "lemmatized[:10]"
   ]
  },
  {
   "cell_type": "code",
   "execution_count": null,
   "metadata": {},
   "outputs": [],
   "source": []
  }
 ],
 "metadata": {
  "kernelspec": {
   "display_name": "Python 3",
   "language": "python",
   "name": "python3"
  },
  "language_info": {
   "codemirror_mode": {
    "name": "ipython",
    "version": 3
   },
   "file_extension": ".py",
   "mimetype": "text/x-python",
   "name": "python",
   "nbconvert_exporter": "python",
   "pygments_lexer": "ipython3",
   "version": "3.7.1"
  }
 },
 "nbformat": 4,
 "nbformat_minor": 2
}
