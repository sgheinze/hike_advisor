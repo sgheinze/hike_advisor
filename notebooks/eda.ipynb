{
 "cells": [
  {
   "cell_type": "code",
   "execution_count": 13,
   "metadata": {},
   "outputs": [],
   "source": [
    "import pandas as pd\n",
    "import numpy as np\n",
    "import matplotlib.pyplot as plt\n",
    "import seaborn as sns\n",
    "from lightfm import LightFM\n",
    "from scipy.sparse import coo_matrix\n",
    "from scipy import sparse\n",
    "import matplotlib.pyplot as plt"
   ]
  },
  {
   "cell_type": "markdown",
   "metadata": {},
   "source": [
    "# Read data and basic facts about df"
   ]
  },
  {
   "cell_type": "code",
   "execution_count": 3,
   "metadata": {},
   "outputs": [],
   "source": [
    "hike_data = pd.read_pickle('../data/all_hike_data')"
   ]
  },
  {
   "cell_type": "code",
   "execution_count": 5,
   "metadata": {},
   "outputs": [
    {
     "data": {
      "text/html": [
       "<div>\n",
       "<style scoped>\n",
       "    .dataframe tbody tr th:only-of-type {\n",
       "        vertical-align: middle;\n",
       "    }\n",
       "\n",
       "    .dataframe tbody tr th {\n",
       "        vertical-align: top;\n",
       "    }\n",
       "\n",
       "    .dataframe thead th {\n",
       "        text-align: right;\n",
       "    }\n",
       "</style>\n",
       "<table border=\"1\" class=\"dataframe\">\n",
       "  <thead>\n",
       "    <tr style=\"text-align: right;\">\n",
       "      <th></th>\n",
       "      <th>hike_name</th>\n",
       "      <th>hike_difficulty</th>\n",
       "      <th>hike_distance</th>\n",
       "      <th>hike_elevation</th>\n",
       "      <th>hike_type</th>\n",
       "      <th>hike_tags</th>\n",
       "      <th>hike_description</th>\n",
       "      <th>user_names</th>\n",
       "      <th>user_hrefs</th>\n",
       "      <th>user_texts</th>\n",
       "      <th>user_ratings</th>\n",
       "      <th>user_dates</th>\n",
       "    </tr>\n",
       "  </thead>\n",
       "  <tbody>\n",
       "    <tr>\n",
       "      <th>0</th>\n",
       "      <td>Taft Point and The Fissures - California\\n |...</td>\n",
       "      <td>EASY</td>\n",
       "      <td>2.3 miles</td>\n",
       "      <td>374 feet</td>\n",
       "      <td>Out &amp; Back</td>\n",
       "      <td>[kid friendly, birding, hiking, horseback ridi...</td>\n",
       "      <td>Taft Point and The Fissures is a 2.3 mile mode...</td>\n",
       "      <td>[Soua Lee, Jeff Allen, Nicole Edmonds, Marie K...</td>\n",
       "      <td>[/members/soua-lee-3, /members/jeff-allen-41, ...</td>\n",
       "      <td>[Incredible hike! I would do this again althou...</td>\n",
       "      <td>[5, 4, 5, 4, 1, 5, 5, 4, 5, 5, 5, 5, 5, 5, 5, ...</td>\n",
       "      <td>[2018-11-13 00:00:00, 2018-11-05 00:00:00, 201...</td>\n",
       "    </tr>\n",
       "  </tbody>\n",
       "</table>\n",
       "</div>"
      ],
      "text/plain": [
       "                                           hike_name hike_difficulty  \\\n",
       "0    Taft Point and The Fissures - California\\n |...            EASY   \n",
       "\n",
       "  hike_distance hike_elevation   hike_type  \\\n",
       "0     2.3 miles       374 feet  Out & Back   \n",
       "\n",
       "                                           hike_tags  \\\n",
       "0  [kid friendly, birding, hiking, horseback ridi...   \n",
       "\n",
       "                                    hike_description  \\\n",
       "0  Taft Point and The Fissures is a 2.3 mile mode...   \n",
       "\n",
       "                                          user_names  \\\n",
       "0  [Soua Lee, Jeff Allen, Nicole Edmonds, Marie K...   \n",
       "\n",
       "                                          user_hrefs  \\\n",
       "0  [/members/soua-lee-3, /members/jeff-allen-41, ...   \n",
       "\n",
       "                                          user_texts  \\\n",
       "0  [Incredible hike! I would do this again althou...   \n",
       "\n",
       "                                        user_ratings  \\\n",
       "0  [5, 4, 5, 4, 1, 5, 5, 4, 5, 5, 5, 5, 5, 5, 5, ...   \n",
       "\n",
       "                                          user_dates  \n",
       "0  [2018-11-13 00:00:00, 2018-11-05 00:00:00, 201...  "
      ]
     },
     "execution_count": 5,
     "metadata": {},
     "output_type": "execute_result"
    }
   ],
   "source": [
    "hike_data.head(1)"
   ]
  },
  {
   "cell_type": "code",
   "execution_count": 7,
   "metadata": {},
   "outputs": [],
   "source": [
    "hrefs = pd.Series(hike_data['user_hrefs'].sum())"
   ]
  },
  {
   "cell_type": "code",
   "execution_count": 58,
   "metadata": {},
   "outputs": [
    {
     "name": "stdout",
     "output_type": "stream",
     "text": [
      "5367 hikes\n",
      "105535 unique users\n",
      "226618 text reviews.\n",
      "sparsity = 0.0400097919100818\n"
     ]
    }
   ],
   "source": [
    "print(str(hike_data.shape[0]) + ' hikes')\n",
    "print(str(len(hrefs.unique())) + ' unique users')\n",
    "print(str((hrefs.isnull() == False).sum()) + ' text reviews.')\n",
    "\n",
    "sparsity = 226618 / (5367*105535) * 100\n",
    "print('sparsity = ' + str(sparsity))"
   ]
  },
  {
   "cell_type": "code",
   "execution_count": 451,
   "metadata": {},
   "outputs": [
    {
     "data": {
      "text/plain": [
       "240346"
      ]
     },
     "execution_count": 451,
     "metadata": {},
     "output_type": "execute_result"
    }
   ],
   "source": [
    "len(hrefs)"
   ]
  },
  {
   "cell_type": "markdown",
   "metadata": {},
   "source": [
    "# Correct hike names"
   ]
  },
  {
   "cell_type": "code",
   "execution_count": 4,
   "metadata": {},
   "outputs": [],
   "source": [
    "def correct_hike_names(df):\n",
    "    df['hike_name'] = df['hike_name'].str.replace('\\n', '').str.replace('- California \\| AllTrails', '').str.strip()"
   ]
  },
  {
   "cell_type": "code",
   "execution_count": 5,
   "metadata": {},
   "outputs": [],
   "source": [
    "correct_hike_names(hike_data)"
   ]
  },
  {
   "cell_type": "code",
   "execution_count": 554,
   "metadata": {},
   "outputs": [
    {
     "data": {
      "text/html": [
       "<div>\n",
       "<style scoped>\n",
       "    .dataframe tbody tr th:only-of-type {\n",
       "        vertical-align: middle;\n",
       "    }\n",
       "\n",
       "    .dataframe tbody tr th {\n",
       "        vertical-align: top;\n",
       "    }\n",
       "\n",
       "    .dataframe thead th {\n",
       "        text-align: right;\n",
       "    }\n",
       "</style>\n",
       "<table border=\"1\" class=\"dataframe\">\n",
       "  <thead>\n",
       "    <tr style=\"text-align: right;\">\n",
       "      <th></th>\n",
       "      <th>hike_name</th>\n",
       "      <th>hike_difficulty</th>\n",
       "      <th>hike_distance</th>\n",
       "      <th>hike_elevation</th>\n",
       "      <th>hike_type</th>\n",
       "      <th>hike_tags</th>\n",
       "      <th>hike_description</th>\n",
       "      <th>user_names</th>\n",
       "      <th>user_hrefs</th>\n",
       "      <th>user_texts</th>\n",
       "      <th>user_ratings</th>\n",
       "      <th>user_dates</th>\n",
       "      <th>vect_rev</th>\n",
       "    </tr>\n",
       "  </thead>\n",
       "  <tbody>\n",
       "    <tr>\n",
       "      <th>0</th>\n",
       "      <td>Taft Point and The Fissures</td>\n",
       "      <td>EASY</td>\n",
       "      <td>2.3 miles</td>\n",
       "      <td>374 feet</td>\n",
       "      <td>Out &amp; Back</td>\n",
       "      <td>[kid friendly, birding, hiking, horseback ridi...</td>\n",
       "      <td>Taft Point and The Fissures is a 2.3 mile mode...</td>\n",
       "      <td>[Soua Lee, Jeff Allen, Nicole Edmonds, Marie K...</td>\n",
       "      <td>[/members/soua-lee-3, /members/jeff-allen-41, ...</td>\n",
       "      <td>[Incredible hike! I would do this again althou...</td>\n",
       "      <td>[5, 4, 5, 4, 1, 5, 5, 4, 5, 5, 5, 5, 5, 5, 5, ...</td>\n",
       "      <td>[2018-11-13 00:00:00, 2018-11-05 00:00:00, 201...</td>\n",
       "      <td>[-0.11622179855923885, 0.18857444383948566, 0....</td>\n",
       "    </tr>\n",
       "  </tbody>\n",
       "</table>\n",
       "</div>"
      ],
      "text/plain": [
       "                     hike_name hike_difficulty hike_distance hike_elevation  \\\n",
       "0  Taft Point and The Fissures            EASY     2.3 miles       374 feet   \n",
       "\n",
       "    hike_type                                          hike_tags  \\\n",
       "0  Out & Back  [kid friendly, birding, hiking, horseback ridi...   \n",
       "\n",
       "                                    hike_description  \\\n",
       "0  Taft Point and The Fissures is a 2.3 mile mode...   \n",
       "\n",
       "                                          user_names  \\\n",
       "0  [Soua Lee, Jeff Allen, Nicole Edmonds, Marie K...   \n",
       "\n",
       "                                          user_hrefs  \\\n",
       "0  [/members/soua-lee-3, /members/jeff-allen-41, ...   \n",
       "\n",
       "                                          user_texts  \\\n",
       "0  [Incredible hike! I would do this again althou...   \n",
       "\n",
       "                                        user_ratings  \\\n",
       "0  [5, 4, 5, 4, 1, 5, 5, 4, 5, 5, 5, 5, 5, 5, 5, ...   \n",
       "\n",
       "                                          user_dates  \\\n",
       "0  [2018-11-13 00:00:00, 2018-11-05 00:00:00, 201...   \n",
       "\n",
       "                                            vect_rev  \n",
       "0  [-0.11622179855923885, 0.18857444383948566, 0....  "
      ]
     },
     "execution_count": 554,
     "metadata": {},
     "output_type": "execute_result"
    }
   ],
   "source": [
    "hike_data.head(1)"
   ]
  },
  {
   "cell_type": "markdown",
   "metadata": {},
   "source": [
    "# Hike tags"
   ]
  },
  {
   "cell_type": "code",
   "execution_count": 814,
   "metadata": {},
   "outputs": [],
   "source": [
    "tag_count = dict(collections.Counter(hike_data['hike_tags'].sum()))"
   ]
  },
  {
   "cell_type": "code",
   "execution_count": 815,
   "metadata": {},
   "outputs": [],
   "source": [
    "sorted_by_count = sorted(tag_count.items(), key=lambda x: x[1], reverse=True)"
   ]
  },
  {
   "cell_type": "code",
   "execution_count": 816,
   "metadata": {},
   "outputs": [],
   "source": [
    "sorted_by_alphabet = sorted(tag_count.items(), key=lambda x: x[0])"
   ]
  },
  {
   "cell_type": "code",
   "execution_count": 817,
   "metadata": {},
   "outputs": [
    {
     "data": {
      "text/plain": [
       "[('hiking', 4982),\n",
       " ('views', 4612),\n",
       " ('walking', 4027),\n",
       " ('nature trips', 3919),\n",
       " ('birding', 3362),\n",
       " ('trail running', 3091),\n",
       " ('wild flowers', 2987),\n",
       " ('wildlife', 2689),\n",
       " ('forest', 2305),\n",
       " ('kid friendly', 2170),\n",
       " ('dogs on leash', 2034),\n",
       " ('no dogs', 1640),\n",
       " ('mountain biking', 1212),\n",
       " ('dog friendly', 980),\n",
       " ('lake', 968),\n",
       " ('river', 819),\n",
       " ('camping', 803),\n",
       " ('rocky', 706),\n",
       " ('backpacking', 671),\n",
       " ('horseback riding', 630),\n",
       " ('waterfall', 487),\n",
       " ('beach', 450),\n",
       " ('no shade', 399),\n",
       " ('bugs', 351),\n",
       " ('snow', 331),\n",
       " ('fishing', 268),\n",
       " ('scramble', 254),\n",
       " ('road biking', 252),\n",
       " ('partially paved', 250),\n",
       " ('off road driving', 211),\n",
       " ('over grown', 193),\n",
       " ('wheelchair friendly', 183),\n",
       " ('stroller friendly', 177),\n",
       " ('washed out', 149),\n",
       " ('snowshoeing', 138),\n",
       " ('rock climbing', 132),\n",
       " ('muddy', 130),\n",
       " ('paved', 128),\n",
       " ('historic site', 111),\n",
       " ('cave', 96),\n",
       " ('scenic driving', 92),\n",
       " ('city walk', 81),\n",
       " ('paddle sports', 76),\n",
       " ('closed', 56),\n",
       " ('surfing', 53),\n",
       " ('blowdown', 52),\n",
       " ('off trail', 49),\n",
       " ('hot springs', 43),\n",
       " ('cross country skiing', 42),\n",
       " ('rails trails', 34),\n",
       " ('skiing', 26),\n",
       " ('private property', 23),\n",
       " ('bridge out', 19)]"
      ]
     },
     "execution_count": 817,
     "metadata": {},
     "output_type": "execute_result"
    }
   ],
   "source": [
    "sorted_by_count"
   ]
  },
  {
   "cell_type": "code",
   "execution_count": 818,
   "metadata": {},
   "outputs": [],
   "source": [
    "delete_list = ['blowdown','bridge out', 'closed', 'muddy', 'no dogs', 'no shade', 'off road driving', 'off trail',\n",
    "               'paddle sports', 'paved', 'private property', 'rails trails', 'surfing', 'washed out', 'city walk',\n",
    "              'cross country skiing', 'hiking', 'partially paved', 'road biking', 'skiing', 'nature trips', 'snowshoeing',\n",
    "              'dogs on leash']"
   ]
  },
  {
   "cell_type": "code",
   "execution_count": 819,
   "metadata": {},
   "outputs": [
    {
     "data": {
      "text/plain": [
       "['kid friendly',\n",
       " 'birding',\n",
       " 'horseback riding',\n",
       " 'trail running',\n",
       " 'walking',\n",
       " 'forest',\n",
       " 'views',\n",
       " 'wild flowers',\n",
       " 'wildlife',\n",
       " 'rocky',\n",
       " 'mountain biking',\n",
       " 'cave',\n",
       " 'river',\n",
       " 'wheelchair friendly',\n",
       " 'stroller friendly',\n",
       " 'lake',\n",
       " 'rock climbing',\n",
       " 'waterfall',\n",
       " 'camping',\n",
       " 'scenic driving',\n",
       " 'bugs',\n",
       " 'dog friendly',\n",
       " 'fishing',\n",
       " 'scramble',\n",
       " 'snow',\n",
       " 'backpacking',\n",
       " 'beach',\n",
       " 'historic site',\n",
       " 'over grown',\n",
       " 'hot springs']"
      ]
     },
     "execution_count": 819,
     "metadata": {},
     "output_type": "execute_result"
    }
   ],
   "source": [
    "final_tags = list(tag_count.keys())\n",
    "for item in delete_list:\n",
    "    final_tags.remove(item)\n",
    "final_tags\n",
    "# ADD dog friendly and dog on leash together"
   ]
  },
  {
   "cell_type": "code",
   "execution_count": 867,
   "metadata": {},
   "outputs": [],
   "source": [
    "tag_dict = {}\n",
    "for feature in final_tags:\n",
    "    if feature in hike_data.iloc[0]['hike_tags']:\n",
    "        tag_dict[feature] = 1\n",
    "    else:\n",
    "        tag_dict[feature] = 0\n",
    "if 'dogs on leash' in hike_data.iloc[0]['hike_tags']:\n",
    "    tag_dict['dog friendly'] = 1"
   ]
  },
  {
   "cell_type": "markdown",
   "metadata": {},
   "source": [
    "# Get features of each hike"
   ]
  },
  {
   "cell_type": "code",
   "execution_count": 633,
   "metadata": {},
   "outputs": [],
   "source": [
    "unique_difficulties = hike_data['hike_difficulty'].unique() # unique hike difficulties\n",
    "unique_types = hike_data['hike_type'].unique() # unique hike_types\n",
    "unique_tags = set(hike_data['hike_tags'].sum())"
   ]
  },
  {
   "cell_type": "code",
   "execution_count": 634,
   "metadata": {},
   "outputs": [],
   "source": [
    "hike_feature_df = hike_data.copy()\n",
    "hike_feature_df['hike_distance'] = hike_feature_df['hike_distance'].str.extract('(\\d+.\\d)'); # extract distance\n",
    "hike_feature_df['hike_elevation'] = hike_feature_df['hike_elevation'].str.replace(',', '').str.extract('(\\d+)')"
   ]
  },
  {
   "cell_type": "code",
   "execution_count": 869,
   "metadata": {},
   "outputs": [],
   "source": [
    "def get_hike_features(df, index):\n",
    "\n",
    "    hike_features_dict = {}\n",
    "    easy = 0\n",
    "    moderate = 0\n",
    "    hard = 0\n",
    "    out_and_back = 0\n",
    "    loop = 0\n",
    "    point_to_point = 0\n",
    "\n",
    "    if df.iloc[index]['hike_difficulty'] == 'EASY':\n",
    "        easy = 1\n",
    "    elif df.iloc[index]['hike_difficulty'] == 'MODERATE':\n",
    "        moderate = 1\n",
    "    else:\n",
    "        hard = 1\n",
    "\n",
    "    if df.iloc[index]['hike_type'] == 'Out & Back':\n",
    "        out_and_back = 1\n",
    "    elif df.iloc[index]['hike_type'] == 'Loop':\n",
    "        loop = 1\n",
    "    else:\n",
    "        point_to_point = 1\n",
    "        \n",
    "    tag_dict = {}\n",
    "    for feature in final_tags:\n",
    "        if feature in hike_data.iloc[index]['hike_tags']:\n",
    "            tag_dict[feature] = 1\n",
    "        else:\n",
    "            tag_dict[feature] = 0\n",
    "    if 'dogs on leash' in hike_data.iloc[index]['hike_tags']:\n",
    "        tag_dict['dog friendly'] = 1\n",
    "        \n",
    "    hike_distance = df.iloc[index]['hike_distance']\n",
    "    hike_elevation = df.iloc[index]['hike_elevation']\n",
    "        \n",
    "    hike_features_dict['difficulty_easy'] = easy\n",
    "    hike_features_dict['difficulty_moderate'] = moderate\n",
    "    hike_features_dict['difficulty_hard'] = hard\n",
    "    hike_features_dict['out_and_back'] = out_and_back\n",
    "    hike_features_dict['loop'] = loop\n",
    "    hike_features_dict['point_to_point'] = point_to_point\n",
    "    hike_features_dict['hike_distance'] = float(hike_distance)\n",
    "    hike_features_dict['hike_elevation'] = float(hike_elevation)\n",
    "    for item in tag_dict.items(): # add tags in dict\n",
    "        hike_features_dict[item[0]] = item[1]\n",
    "    \n",
    "    return hike_features_dict"
   ]
  },
  {
   "cell_type": "code",
   "execution_count": 870,
   "metadata": {},
   "outputs": [],
   "source": [
    "hikes_features = {}\n",
    "for index in hike_feature_df.index:\n",
    "    hike_features_dict = get_hike_features(hike_feature_df, index)\n",
    "    hikes_features[hike_feature_df.iloc[index]['hike_name']] = hike_features_dict"
   ]
  },
  {
   "cell_type": "code",
   "execution_count": 871,
   "metadata": {},
   "outputs": [
    {
     "data": {
      "text/html": [
       "<div>\n",
       "<style scoped>\n",
       "    .dataframe tbody tr th:only-of-type {\n",
       "        vertical-align: middle;\n",
       "    }\n",
       "\n",
       "    .dataframe tbody tr th {\n",
       "        vertical-align: top;\n",
       "    }\n",
       "\n",
       "    .dataframe thead th {\n",
       "        text-align: right;\n",
       "    }\n",
       "</style>\n",
       "<table border=\"1\" class=\"dataframe\">\n",
       "  <thead>\n",
       "    <tr style=\"text-align: right;\">\n",
       "      <th></th>\n",
       "      <th>backpacking</th>\n",
       "      <th>beach</th>\n",
       "      <th>birding</th>\n",
       "      <th>bugs</th>\n",
       "      <th>camping</th>\n",
       "      <th>cave</th>\n",
       "      <th>difficulty_easy</th>\n",
       "      <th>difficulty_hard</th>\n",
       "      <th>difficulty_moderate</th>\n",
       "      <th>dog friendly</th>\n",
       "      <th>...</th>\n",
       "      <th>scramble</th>\n",
       "      <th>snow</th>\n",
       "      <th>stroller friendly</th>\n",
       "      <th>trail running</th>\n",
       "      <th>views</th>\n",
       "      <th>walking</th>\n",
       "      <th>waterfall</th>\n",
       "      <th>wheelchair friendly</th>\n",
       "      <th>wild flowers</th>\n",
       "      <th>wildlife</th>\n",
       "    </tr>\n",
       "  </thead>\n",
       "  <tbody>\n",
       "    <tr>\n",
       "      <th>Taft Point and The Fissures</th>\n",
       "      <td>0.0</td>\n",
       "      <td>0.0</td>\n",
       "      <td>1.0</td>\n",
       "      <td>0.0</td>\n",
       "      <td>0.0</td>\n",
       "      <td>0.0</td>\n",
       "      <td>1.0</td>\n",
       "      <td>0.0</td>\n",
       "      <td>0.0</td>\n",
       "      <td>0.0</td>\n",
       "      <td>...</td>\n",
       "      <td>0.0</td>\n",
       "      <td>0.0</td>\n",
       "      <td>0.0</td>\n",
       "      <td>1.0</td>\n",
       "      <td>1.0</td>\n",
       "      <td>1.0</td>\n",
       "      <td>0.0</td>\n",
       "      <td>0.0</td>\n",
       "      <td>1.0</td>\n",
       "      <td>1.0</td>\n",
       "    </tr>\n",
       "    <tr>\n",
       "      <th>Aliso Creek and Wood Canyon Loop Trail</th>\n",
       "      <td>0.0</td>\n",
       "      <td>0.0</td>\n",
       "      <td>1.0</td>\n",
       "      <td>0.0</td>\n",
       "      <td>0.0</td>\n",
       "      <td>1.0</td>\n",
       "      <td>0.0</td>\n",
       "      <td>0.0</td>\n",
       "      <td>1.0</td>\n",
       "      <td>0.0</td>\n",
       "      <td>...</td>\n",
       "      <td>0.0</td>\n",
       "      <td>0.0</td>\n",
       "      <td>0.0</td>\n",
       "      <td>1.0</td>\n",
       "      <td>1.0</td>\n",
       "      <td>1.0</td>\n",
       "      <td>0.0</td>\n",
       "      <td>0.0</td>\n",
       "      <td>1.0</td>\n",
       "      <td>1.0</td>\n",
       "    </tr>\n",
       "    <tr>\n",
       "      <th>Upper Natural Bridge Trail</th>\n",
       "      <td>0.0</td>\n",
       "      <td>0.0</td>\n",
       "      <td>1.0</td>\n",
       "      <td>0.0</td>\n",
       "      <td>0.0</td>\n",
       "      <td>1.0</td>\n",
       "      <td>1.0</td>\n",
       "      <td>0.0</td>\n",
       "      <td>0.0</td>\n",
       "      <td>0.0</td>\n",
       "      <td>...</td>\n",
       "      <td>0.0</td>\n",
       "      <td>0.0</td>\n",
       "      <td>0.0</td>\n",
       "      <td>1.0</td>\n",
       "      <td>1.0</td>\n",
       "      <td>1.0</td>\n",
       "      <td>0.0</td>\n",
       "      <td>0.0</td>\n",
       "      <td>1.0</td>\n",
       "      <td>1.0</td>\n",
       "    </tr>\n",
       "    <tr>\n",
       "      <th>Lake Miramar Trail</th>\n",
       "      <td>0.0</td>\n",
       "      <td>0.0</td>\n",
       "      <td>0.0</td>\n",
       "      <td>0.0</td>\n",
       "      <td>0.0</td>\n",
       "      <td>0.0</td>\n",
       "      <td>1.0</td>\n",
       "      <td>0.0</td>\n",
       "      <td>0.0</td>\n",
       "      <td>1.0</td>\n",
       "      <td>...</td>\n",
       "      <td>0.0</td>\n",
       "      <td>0.0</td>\n",
       "      <td>1.0</td>\n",
       "      <td>1.0</td>\n",
       "      <td>1.0</td>\n",
       "      <td>1.0</td>\n",
       "      <td>0.0</td>\n",
       "      <td>1.0</td>\n",
       "      <td>0.0</td>\n",
       "      <td>0.0</td>\n",
       "    </tr>\n",
       "    <tr>\n",
       "      <th>McGinty Mountain Trail</th>\n",
       "      <td>0.0</td>\n",
       "      <td>0.0</td>\n",
       "      <td>0.0</td>\n",
       "      <td>0.0</td>\n",
       "      <td>0.0</td>\n",
       "      <td>0.0</td>\n",
       "      <td>0.0</td>\n",
       "      <td>1.0</td>\n",
       "      <td>0.0</td>\n",
       "      <td>1.0</td>\n",
       "      <td>...</td>\n",
       "      <td>0.0</td>\n",
       "      <td>0.0</td>\n",
       "      <td>0.0</td>\n",
       "      <td>1.0</td>\n",
       "      <td>1.0</td>\n",
       "      <td>0.0</td>\n",
       "      <td>0.0</td>\n",
       "      <td>0.0</td>\n",
       "      <td>1.0</td>\n",
       "      <td>1.0</td>\n",
       "    </tr>\n",
       "  </tbody>\n",
       "</table>\n",
       "<p>5 rows × 38 columns</p>\n",
       "</div>"
      ],
      "text/plain": [
       "                                        backpacking  beach  birding  bugs  \\\n",
       "Taft Point and The Fissures                     0.0    0.0      1.0   0.0   \n",
       "Aliso Creek and Wood Canyon Loop Trail          0.0    0.0      1.0   0.0   \n",
       "Upper Natural Bridge Trail                      0.0    0.0      1.0   0.0   \n",
       "Lake Miramar Trail                              0.0    0.0      0.0   0.0   \n",
       "McGinty Mountain Trail                          0.0    0.0      0.0   0.0   \n",
       "\n",
       "                                        camping  cave  difficulty_easy  \\\n",
       "Taft Point and The Fissures                 0.0   0.0              1.0   \n",
       "Aliso Creek and Wood Canyon Loop Trail      0.0   1.0              0.0   \n",
       "Upper Natural Bridge Trail                  0.0   1.0              1.0   \n",
       "Lake Miramar Trail                          0.0   0.0              1.0   \n",
       "McGinty Mountain Trail                      0.0   0.0              0.0   \n",
       "\n",
       "                                        difficulty_hard  difficulty_moderate  \\\n",
       "Taft Point and The Fissures                         0.0                  0.0   \n",
       "Aliso Creek and Wood Canyon Loop Trail              0.0                  1.0   \n",
       "Upper Natural Bridge Trail                          0.0                  0.0   \n",
       "Lake Miramar Trail                                  0.0                  0.0   \n",
       "McGinty Mountain Trail                              1.0                  0.0   \n",
       "\n",
       "                                        dog friendly    ...     scramble  \\\n",
       "Taft Point and The Fissures                      0.0    ...          0.0   \n",
       "Aliso Creek and Wood Canyon Loop Trail           0.0    ...          0.0   \n",
       "Upper Natural Bridge Trail                       0.0    ...          0.0   \n",
       "Lake Miramar Trail                               1.0    ...          0.0   \n",
       "McGinty Mountain Trail                           1.0    ...          0.0   \n",
       "\n",
       "                                        snow  stroller friendly  \\\n",
       "Taft Point and The Fissures              0.0                0.0   \n",
       "Aliso Creek and Wood Canyon Loop Trail   0.0                0.0   \n",
       "Upper Natural Bridge Trail               0.0                0.0   \n",
       "Lake Miramar Trail                       0.0                1.0   \n",
       "McGinty Mountain Trail                   0.0                0.0   \n",
       "\n",
       "                                        trail running  views  walking  \\\n",
       "Taft Point and The Fissures                       1.0    1.0      1.0   \n",
       "Aliso Creek and Wood Canyon Loop Trail            1.0    1.0      1.0   \n",
       "Upper Natural Bridge Trail                        1.0    1.0      1.0   \n",
       "Lake Miramar Trail                                1.0    1.0      1.0   \n",
       "McGinty Mountain Trail                            1.0    1.0      0.0   \n",
       "\n",
       "                                        waterfall  wheelchair friendly  \\\n",
       "Taft Point and The Fissures                   0.0                  0.0   \n",
       "Aliso Creek and Wood Canyon Loop Trail        0.0                  0.0   \n",
       "Upper Natural Bridge Trail                    0.0                  0.0   \n",
       "Lake Miramar Trail                            0.0                  1.0   \n",
       "McGinty Mountain Trail                        0.0                  0.0   \n",
       "\n",
       "                                        wild flowers  wildlife  \n",
       "Taft Point and The Fissures                      1.0       1.0  \n",
       "Aliso Creek and Wood Canyon Loop Trail           1.0       1.0  \n",
       "Upper Natural Bridge Trail                       1.0       1.0  \n",
       "Lake Miramar Trail                               0.0       0.0  \n",
       "McGinty Mountain Trail                           1.0       1.0  \n",
       "\n",
       "[5 rows x 38 columns]"
      ]
     },
     "execution_count": 871,
     "metadata": {},
     "output_type": "execute_result"
    }
   ],
   "source": [
    "hikes_features_df = pd.DataFrame(hikes_features).T\n",
    "hikes_features_df.head(5)"
   ]
  },
  {
   "cell_type": "code",
   "execution_count": 873,
   "metadata": {},
   "outputs": [],
   "source": [
    "logmean_hike_distance = np.mean(np.log(hikes_features_df['hike_distance'])) # log distance\n",
    "logstd_hike_distance = np.std(np.log(hikes_features_df['hike_distance'])) # log distance\n",
    "logmean_hike_elevation = np.mean(np.log(hikes_features_df['hike_elevation'][hikes_features_df['hike_elevation'] != 0]))\n",
    "logstd_hike_elevation = np.std(np.log(hikes_features_df['hike_elevation'][hikes_features_df['hike_elevation'] != 0]))"
   ]
  },
  {
   "cell_type": "code",
   "execution_count": 97,
   "metadata": {},
   "outputs": [
    {
     "data": {
      "text/plain": [
       "(6.5567361600991525, 1.4124694061309393)"
      ]
     },
     "execution_count": 97,
     "metadata": {},
     "output_type": "execute_result"
    }
   ],
   "source": [
    "logmean_hike_elevation, logstd_hike_elevation"
   ]
  },
  {
   "cell_type": "code",
   "execution_count": 90,
   "metadata": {},
   "outputs": [
    {
     "data": {
      "image/png": "[encoded data removed]",
      "text/plain": [
       "<Figure size 432x288 with 1 Axes>"
      ]
     },
     "metadata": {
      "needs_background": "light"
     },
     "output_type": "display_data"
    }
   ],
   "source": [
    "# histogram of distance is skewed\n",
    "plt.hist(hikes_features_df['hike_distance'], bins=np.arange(0,110,10));"
   ]
  },
  {
   "cell_type": "code",
   "execution_count": 91,
   "metadata": {},
   "outputs": [
    {
     "data": {
      "image/png": "[encoded data removed]",
      "text/plain": [
       "<Figure size 432x288 with 1 Axes>"
      ]
     },
     "metadata": {
      "needs_background": "light"
     },
     "output_type": "display_data"
    }
   ],
   "source": [
    "# histogram of log distance is more normal\n",
    "plt.hist(np.log(hikes_features_df['hike_distance']), bins=range(10));"
   ]
  },
  {
   "cell_type": "code",
   "execution_count": 92,
   "metadata": {},
   "outputs": [
    {
     "data": {
      "image/png": "[encoded data removed]",
      "text/plain": [
       "<Figure size 432x288 with 1 Axes>"
      ]
     },
     "metadata": {
      "needs_background": "light"
     },
     "output_type": "display_data"
    }
   ],
   "source": [
    "# histogram of distance is skewed\n",
    "plt.hist(hikes_features_df['hike_elevation'], bins=np.arange(0,3000,100));"
   ]
  },
  {
   "cell_type": "code",
   "execution_count": 93,
   "metadata": {},
   "outputs": [
    {
     "data": {
      "image/png": "[encoded data removed]",
      "text/plain": [
       "<Figure size 432x288 with 1 Axes>"
      ]
     },
     "metadata": {
      "needs_background": "light"
     },
     "output_type": "display_data"
    }
   ],
   "source": [
    "# histogram of distance is skewed\n",
    "plt.hist(np.log(hikes_features_df['hike_elevation'][hikes_features_df['hike_elevation'] != 0]), bins=np.arange(0,20,1));"
   ]
  },
  {
   "cell_type": "code",
   "execution_count": 874,
   "metadata": {},
   "outputs": [],
   "source": [
    "def classify_distance(row):\n",
    "    if np.log(row) < logmean_hike_distance-logstd_hike_distance:\n",
    "        return \"Short\"\n",
    "    elif np.log(row) < logmean_hike_distance+logstd_hike_distance and np.log(row) > logmean_hike_distance-logstd_hike_distance:\n",
    "        return \"Medium\"\n",
    "    else:\n",
    "        return \"Long\""
   ]
  },
  {
   "cell_type": "code",
   "execution_count": 875,
   "metadata": {},
   "outputs": [],
   "source": [
    "def classify_elevation(row):\n",
    "    if np.log(row) < logmean_hike_elevation-logstd_hike_elevation:\n",
    "        return \"Easy\"\n",
    "    elif np.log(row) < logmean_hike_elevation+logstd_hike_elevation and np.log(row) > logmean_hike_elevation-logstd_hike_elevation:\n",
    "        return \"Medium\"\n",
    "    else:\n",
    "        return \"Hard\""
   ]
  },
  {
   "cell_type": "code",
   "execution_count": 876,
   "metadata": {},
   "outputs": [],
   "source": [
    "categorized_distances = hikes_features_df['hike_distance'].apply(classify_distance)\n",
    "categorized_elevations = hikes_features_df['hike_elevation'].apply(classify_elevation)"
   ]
  },
  {
   "cell_type": "code",
   "execution_count": 642,
   "metadata": {},
   "outputs": [
    {
     "data": {
      "text/plain": [
       "(Counter({'Medium': 3733, 'Short': 766, 'Long': 796}),\n",
       " Counter({'Medium': 3819, 'Easy': 799, 'Hard': 677}))"
      ]
     },
     "execution_count": 642,
     "metadata": {},
     "output_type": "execute_result"
    }
   ],
   "source": [
    "import collections\n",
    "collections.Counter(categorized_distances), collections.Counter(categorized_elevations)"
   ]
  },
  {
   "cell_type": "code",
   "execution_count": 877,
   "metadata": {},
   "outputs": [],
   "source": [
    "hikes_features_df['hike_elevation'] = categorized_elevations\n",
    "hikes_features_df['hike_distance'] = categorized_distances"
   ]
  },
  {
   "cell_type": "code",
   "execution_count": 878,
   "metadata": {},
   "outputs": [],
   "source": [
    "for index in hikes_features_df.index:\n",
    "    if hikes_features_df.loc[index, 'hike_distance'] == 'Short':\n",
    "        hikes_features_df.loc[index, 'distance_short'] = 1\n",
    "    elif hikes_features_df.loc[index, 'hike_distance'] == 'Medium':\n",
    "        hikes_features_df.loc[index, 'distance_medium'] = 1\n",
    "    else:\n",
    "        hikes_features_df.loc[index, 'distance_long'] = 1\n",
    "        \n",
    "    if hikes_features_df.loc[index, 'hike_elevation'] == 'Easy':\n",
    "        hikes_features_df.loc[index, 'elevation_easy'] = 1\n",
    "    elif hikes_features_df.loc[index, 'hike_elevation'] == 'Medium':\n",
    "        hikes_features_df.loc[index, 'elevation_medium'] = 1\n",
    "    else:\n",
    "        hikes_features_df.loc[index, 'elevation_hard'] = 1\n",
    "\n",
    "    \n",
    "hikes_features_df.drop(labels='hike_distance', axis=1, inplace=True)\n",
    "hikes_features_df.drop(labels='hike_elevation', axis=1, inplace=True)\n",
    "hikes_features_df.fillna(0, inplace=True);"
   ]
  },
  {
   "cell_type": "code",
   "execution_count": 879,
   "metadata": {},
   "outputs": [
    {
     "data": {
      "text/html": [
       "<div>\n",
       "<style scoped>\n",
       "    .dataframe tbody tr th:only-of-type {\n",
       "        vertical-align: middle;\n",
       "    }\n",
       "\n",
       "    .dataframe tbody tr th {\n",
       "        vertical-align: top;\n",
       "    }\n",
       "\n",
       "    .dataframe thead th {\n",
       "        text-align: right;\n",
       "    }\n",
       "</style>\n",
       "<table border=\"1\" class=\"dataframe\">\n",
       "  <thead>\n",
       "    <tr style=\"text-align: right;\">\n",
       "      <th></th>\n",
       "      <th>backpacking</th>\n",
       "      <th>beach</th>\n",
       "      <th>birding</th>\n",
       "      <th>bugs</th>\n",
       "      <th>camping</th>\n",
       "      <th>cave</th>\n",
       "      <th>difficulty_easy</th>\n",
       "      <th>difficulty_hard</th>\n",
       "      <th>difficulty_moderate</th>\n",
       "      <th>dog friendly</th>\n",
       "      <th>...</th>\n",
       "      <th>waterfall</th>\n",
       "      <th>wheelchair friendly</th>\n",
       "      <th>wild flowers</th>\n",
       "      <th>wildlife</th>\n",
       "      <th>distance_medium</th>\n",
       "      <th>elevation_medium</th>\n",
       "      <th>elevation_easy</th>\n",
       "      <th>distance_short</th>\n",
       "      <th>distance_long</th>\n",
       "      <th>elevation_hard</th>\n",
       "    </tr>\n",
       "  </thead>\n",
       "  <tbody>\n",
       "    <tr>\n",
       "      <th>Taft Point and The Fissures</th>\n",
       "      <td>0.0</td>\n",
       "      <td>0.0</td>\n",
       "      <td>1.0</td>\n",
       "      <td>0.0</td>\n",
       "      <td>0.0</td>\n",
       "      <td>0.0</td>\n",
       "      <td>1.0</td>\n",
       "      <td>0.0</td>\n",
       "      <td>0.0</td>\n",
       "      <td>0.0</td>\n",
       "      <td>...</td>\n",
       "      <td>0.0</td>\n",
       "      <td>0.0</td>\n",
       "      <td>1.0</td>\n",
       "      <td>1.0</td>\n",
       "      <td>1.0</td>\n",
       "      <td>1.0</td>\n",
       "      <td>0.0</td>\n",
       "      <td>0.0</td>\n",
       "      <td>0.0</td>\n",
       "      <td>0.0</td>\n",
       "    </tr>\n",
       "    <tr>\n",
       "      <th>Aliso Creek and Wood Canyon Loop Trail</th>\n",
       "      <td>0.0</td>\n",
       "      <td>0.0</td>\n",
       "      <td>1.0</td>\n",
       "      <td>0.0</td>\n",
       "      <td>0.0</td>\n",
       "      <td>1.0</td>\n",
       "      <td>0.0</td>\n",
       "      <td>0.0</td>\n",
       "      <td>1.0</td>\n",
       "      <td>0.0</td>\n",
       "      <td>...</td>\n",
       "      <td>0.0</td>\n",
       "      <td>0.0</td>\n",
       "      <td>1.0</td>\n",
       "      <td>1.0</td>\n",
       "      <td>1.0</td>\n",
       "      <td>1.0</td>\n",
       "      <td>0.0</td>\n",
       "      <td>0.0</td>\n",
       "      <td>0.0</td>\n",
       "      <td>0.0</td>\n",
       "    </tr>\n",
       "    <tr>\n",
       "      <th>Upper Natural Bridge Trail</th>\n",
       "      <td>0.0</td>\n",
       "      <td>0.0</td>\n",
       "      <td>1.0</td>\n",
       "      <td>0.0</td>\n",
       "      <td>0.0</td>\n",
       "      <td>1.0</td>\n",
       "      <td>1.0</td>\n",
       "      <td>0.0</td>\n",
       "      <td>0.0</td>\n",
       "      <td>0.0</td>\n",
       "      <td>...</td>\n",
       "      <td>0.0</td>\n",
       "      <td>0.0</td>\n",
       "      <td>1.0</td>\n",
       "      <td>1.0</td>\n",
       "      <td>1.0</td>\n",
       "      <td>1.0</td>\n",
       "      <td>0.0</td>\n",
       "      <td>0.0</td>\n",
       "      <td>0.0</td>\n",
       "      <td>0.0</td>\n",
       "    </tr>\n",
       "    <tr>\n",
       "      <th>Lake Miramar Trail</th>\n",
       "      <td>0.0</td>\n",
       "      <td>0.0</td>\n",
       "      <td>0.0</td>\n",
       "      <td>0.0</td>\n",
       "      <td>0.0</td>\n",
       "      <td>0.0</td>\n",
       "      <td>1.0</td>\n",
       "      <td>0.0</td>\n",
       "      <td>0.0</td>\n",
       "      <td>1.0</td>\n",
       "      <td>...</td>\n",
       "      <td>0.0</td>\n",
       "      <td>1.0</td>\n",
       "      <td>0.0</td>\n",
       "      <td>0.0</td>\n",
       "      <td>1.0</td>\n",
       "      <td>0.0</td>\n",
       "      <td>1.0</td>\n",
       "      <td>0.0</td>\n",
       "      <td>0.0</td>\n",
       "      <td>0.0</td>\n",
       "    </tr>\n",
       "    <tr>\n",
       "      <th>McGinty Mountain Trail</th>\n",
       "      <td>0.0</td>\n",
       "      <td>0.0</td>\n",
       "      <td>0.0</td>\n",
       "      <td>0.0</td>\n",
       "      <td>0.0</td>\n",
       "      <td>0.0</td>\n",
       "      <td>0.0</td>\n",
       "      <td>1.0</td>\n",
       "      <td>0.0</td>\n",
       "      <td>1.0</td>\n",
       "      <td>...</td>\n",
       "      <td>0.0</td>\n",
       "      <td>0.0</td>\n",
       "      <td>1.0</td>\n",
       "      <td>1.0</td>\n",
       "      <td>1.0</td>\n",
       "      <td>1.0</td>\n",
       "      <td>0.0</td>\n",
       "      <td>0.0</td>\n",
       "      <td>0.0</td>\n",
       "      <td>0.0</td>\n",
       "    </tr>\n",
       "  </tbody>\n",
       "</table>\n",
       "<p>5 rows × 42 columns</p>\n",
       "</div>"
      ],
      "text/plain": [
       "                                        backpacking  beach  birding  bugs  \\\n",
       "Taft Point and The Fissures                     0.0    0.0      1.0   0.0   \n",
       "Aliso Creek and Wood Canyon Loop Trail          0.0    0.0      1.0   0.0   \n",
       "Upper Natural Bridge Trail                      0.0    0.0      1.0   0.0   \n",
       "Lake Miramar Trail                              0.0    0.0      0.0   0.0   \n",
       "McGinty Mountain Trail                          0.0    0.0      0.0   0.0   \n",
       "\n",
       "                                        camping  cave  difficulty_easy  \\\n",
       "Taft Point and The Fissures                 0.0   0.0              1.0   \n",
       "Aliso Creek and Wood Canyon Loop Trail      0.0   1.0              0.0   \n",
       "Upper Natural Bridge Trail                  0.0   1.0              1.0   \n",
       "Lake Miramar Trail                          0.0   0.0              1.0   \n",
       "McGinty Mountain Trail                      0.0   0.0              0.0   \n",
       "\n",
       "                                        difficulty_hard  difficulty_moderate  \\\n",
       "Taft Point and The Fissures                         0.0                  0.0   \n",
       "Aliso Creek and Wood Canyon Loop Trail              0.0                  1.0   \n",
       "Upper Natural Bridge Trail                          0.0                  0.0   \n",
       "Lake Miramar Trail                                  0.0                  0.0   \n",
       "McGinty Mountain Trail                              1.0                  0.0   \n",
       "\n",
       "                                        dog friendly       ...        \\\n",
       "Taft Point and The Fissures                      0.0       ...         \n",
       "Aliso Creek and Wood Canyon Loop Trail           0.0       ...         \n",
       "Upper Natural Bridge Trail                       0.0       ...         \n",
       "Lake Miramar Trail                               1.0       ...         \n",
       "McGinty Mountain Trail                           1.0       ...         \n",
       "\n",
       "                                        waterfall  wheelchair friendly  \\\n",
       "Taft Point and The Fissures                   0.0                  0.0   \n",
       "Aliso Creek and Wood Canyon Loop Trail        0.0                  0.0   \n",
       "Upper Natural Bridge Trail                    0.0                  0.0   \n",
       "Lake Miramar Trail                            0.0                  1.0   \n",
       "McGinty Mountain Trail                        0.0                  0.0   \n",
       "\n",
       "                                        wild flowers  wildlife  \\\n",
       "Taft Point and The Fissures                      1.0       1.0   \n",
       "Aliso Creek and Wood Canyon Loop Trail           1.0       1.0   \n",
       "Upper Natural Bridge Trail                       1.0       1.0   \n",
       "Lake Miramar Trail                               0.0       0.0   \n",
       "McGinty Mountain Trail                           1.0       1.0   \n",
       "\n",
       "                                        distance_medium  elevation_medium  \\\n",
       "Taft Point and The Fissures                         1.0               1.0   \n",
       "Aliso Creek and Wood Canyon Loop Trail              1.0               1.0   \n",
       "Upper Natural Bridge Trail                          1.0               1.0   \n",
       "Lake Miramar Trail                                  1.0               0.0   \n",
       "McGinty Mountain Trail                              1.0               1.0   \n",
       "\n",
       "                                        elevation_easy  distance_short  \\\n",
       "Taft Point and The Fissures                        0.0             0.0   \n",
       "Aliso Creek and Wood Canyon Loop Trail             0.0             0.0   \n",
       "Upper Natural Bridge Trail                         0.0             0.0   \n",
       "Lake Miramar Trail                                 1.0             0.0   \n",
       "McGinty Mountain Trail                             0.0             0.0   \n",
       "\n",
       "                                        distance_long  elevation_hard  \n",
       "Taft Point and The Fissures                       0.0             0.0  \n",
       "Aliso Creek and Wood Canyon Loop Trail            0.0             0.0  \n",
       "Upper Natural Bridge Trail                        0.0             0.0  \n",
       "Lake Miramar Trail                                0.0             0.0  \n",
       "McGinty Mountain Trail                            0.0             0.0  \n",
       "\n",
       "[5 rows x 42 columns]"
      ]
     },
     "execution_count": 879,
     "metadata": {},
     "output_type": "execute_result"
    }
   ],
   "source": [
    "hikes_features_df.head()"
   ]
  },
  {
   "cell_type": "code",
   "execution_count": 880,
   "metadata": {},
   "outputs": [
    {
     "data": {
      "text/plain": [
       "(5295, 42)"
      ]
     },
     "execution_count": 880,
     "metadata": {},
     "output_type": "execute_result"
    }
   ],
   "source": [
    "hikes_features_df.shape"
   ]
  },
  {
   "cell_type": "code",
   "execution_count": 881,
   "metadata": {},
   "outputs": [],
   "source": [
    "df = pd.read_pickle('hike_data_filtered_190124')"
   ]
  },
  {
   "cell_type": "code",
   "execution_count": 882,
   "metadata": {},
   "outputs": [],
   "source": [
    "hikes_features_df = hikes_features_df.loc[df.columns] # limit df to those hikes in interaction matrix"
   ]
  },
  {
   "cell_type": "code",
   "execution_count": 883,
   "metadata": {},
   "outputs": [],
   "source": [
    "hikes_features_df = hikes_features_df[~hikes_features_df.index.duplicated(keep='last')]"
   ]
  },
  {
   "cell_type": "code",
   "execution_count": 884,
   "metadata": {},
   "outputs": [
    {
     "data": {
      "text/plain": [
       "(616, 42)"
      ]
     },
     "execution_count": 884,
     "metadata": {},
     "output_type": "execute_result"
    }
   ],
   "source": [
    "hikes_features_df.shape"
   ]
  },
  {
   "cell_type": "code",
   "execution_count": 885,
   "metadata": {},
   "outputs": [],
   "source": [
    "hikes_features_df.to_pickle('hike_features_190129')"
   ]
  },
  {
   "cell_type": "markdown",
   "metadata": {},
   "source": [
    "## Inputing item_features to LightFM model"
   ]
  },
  {
   "cell_type": "code",
   "execution_count": 886,
   "metadata": {},
   "outputs": [],
   "source": [
    "hikes_features_df = pd.read_pickle('hike_features_190129')\n",
    "df = pd.read_pickle('hike_data_filtered_190124')"
   ]
  },
  {
   "cell_type": "code",
   "execution_count": 887,
   "metadata": {},
   "outputs": [],
   "source": [
    "item_features = hikes_features_df.columns\n",
    "hike_features_dict = {row: column.dropna().to_dict() for row, column in hikes_features_df.T[hikes_features_df.T != 0].T.iterrows()}"
   ]
  },
  {
   "cell_type": "code",
   "execution_count": 888,
   "metadata": {},
   "outputs": [],
   "source": [
    "from lightfm import data\n",
    "from lightfm import cross_validation\n",
    "from lightfm.cross_validation import random_train_test_split\n",
    "from lightfm.evaluation import auc_score\n",
    "from lightfm.evaluation import precision_at_k"
   ]
  },
  {
   "cell_type": "code",
   "execution_count": 914,
   "metadata": {},
   "outputs": [],
   "source": [
    "def lightfm_implicit_matrix(df, hikes_features_df):\n",
    "    dataset = data.Dataset() # Instantiate class\n",
    "    dataset.fit(users=(user for user in df.index),\n",
    "                items=(feature for feature in df.columns),\n",
    "                item_features=(feature for feature in hikes_features_df.columns)) # Create users and items from df\n",
    "    num_users, num_items = dataset.interactions_shape() # Get shape\n",
    "    interaction_list = list(df[df > 0].stack().index) # Get interaction pairs\n",
    "    interactions, weights = dataset.build_interactions((x[0], x[1]) for x in interaction_list) # Build interactions\n",
    "    hike_features_dict = {row: column.dropna().to_dict() for row, column in hikes_features_df.T[hikes_features_df.T != 0].T.iterrows()}\n",
    "    feature_matrix = dataset.build_item_features([ (key, value) for key,value in hike_features_dict.items() ]) # Build item_features matrix\n",
    "    \n",
    "    return dataset, interactions, feature_matrix\n",
    "\n",
    "def lightfm_train(train, item_features, num_components=30, num_epochs=10, learning_rate=0.05):\n",
    "    num_threads = 1\n",
    "    item_alpha = 1e-6\n",
    "    learning_rate = learning_rate\n",
    "\n",
    "    # Let's fit a WARP model: these generally have the best performance.\n",
    "    model = LightFM(loss='warp',\n",
    "                    learning_rate = learning_rate,\n",
    "                    item_alpha=item_alpha,\n",
    "                    no_components=num_components)\n",
    "\n",
    "    model = model.fit(interactions=train, item_features=item_features, epochs=num_epochs, num_threads=num_threads)\n",
    "    \n",
    "    return model\n",
    "\n",
    "def find_item(lfm_map, lfm_index):\n",
    "    return [ key for key in lfm_map.keys() if lfm_map[key] == lfm_index ][0]\n",
    "\n",
    "def return_top_10_new_user(interactions, model, item_map):\n",
    "    predictions = model.predict(interactions._shape[0]-1, np.arange(interactions._shape[1]))\n",
    "    sorted_by_index = (-1*predictions).argsort()\n",
    "    names = []\n",
    "    \n",
    "    for pred_num in range(10):\n",
    "        name = find_item(item_map, sorted_by_index[pred_num])\n",
    "        print('Prediction {} is {}.'.format(pred_num+1, name))\n",
    "        names.append(name)\n",
    "        \n",
    "    return names"
   ]
  },
  {
   "cell_type": "code",
   "execution_count": 916,
   "metadata": {},
   "outputs": [],
   "source": [
    "dataset, interactions, feature_matrix = lightfm_implicit_matrix(df, hikes_features_df)\n",
    "train, test = cross_validation.random_train_test_split(interactions, test_percentage=0.2, random_state=np.random.RandomState(seed=1))\n",
    "model = lightfm_train(train, feature_matrix, 30, 30)"
   ]
  },
  {
   "cell_type": "code",
   "execution_count": 919,
   "metadata": {},
   "outputs": [
    {
     "name": "stdout",
     "output_type": "stream",
     "text": [
      "Collaborative filtering train AUC: 0.84495413\n"
     ]
    }
   ],
   "source": [
    "# Compute and print the AUC score\n",
    "train_auc = auc_score(model=model, test_interactions=train, item_features=feature_matrix, num_threads=30).mean()\n",
    "print('Collaborative filtering train AUC: %s' % train_auc)"
   ]
  },
  {
   "cell_type": "code",
   "execution_count": 920,
   "metadata": {},
   "outputs": [
    {
     "name": "stdout",
     "output_type": "stream",
     "text": [
      "Collaborative filtering test AUC: 0.7433645\n"
     ]
    }
   ],
   "source": [
    "# We pass in the train interactions to exclude them from predictions.\n",
    "# This is to simulate a recommender system where we do not\n",
    "# re-recommend things the user has already interacted with in the train\n",
    "# set.\n",
    "test_auc = auc_score(model=model, test_interactions=test, train_interactions=train, item_features=feature_matrix, num_threads=30).mean()\n",
    "print('Collaborative filtering test AUC: %s' % test_auc)"
   ]
  },
  {
   "cell_type": "code",
   "execution_count": 921,
   "metadata": {},
   "outputs": [
    {
     "name": "stdout",
     "output_type": "stream",
     "text": [
      "Precision at k = 1 is 0.05\n",
      "Precision at k = 2 is 0.05\n",
      "Precision at k = 3 is 0.04\n",
      "Precision at k = 4 is 0.04\n",
      "Precision at k = 5 is 0.04\n",
      "Precision at k = 6 is 0.03\n",
      "Precision at k = 7 is 0.03\n",
      "Precision at k = 8 is 0.03\n",
      "Precision at k = 9 is 0.03\n",
      "Precision at k = 10 is 0.03\n"
     ]
    }
   ],
   "source": [
    "for k in range(1,11):\n",
    "    precision = precision_at_k(model, test_interactions=test, train_interactions=train, item_features=feature_matrix, k=k).mean()\n",
    "    print('Precision at k = {} is {:.2f}'.format(k, precision))"
   ]
  },
  {
   "cell_type": "code",
   "execution_count": 894,
   "metadata": {},
   "outputs": [],
   "source": [
    "grid_search = {}\n",
    "count = 0\n",
    "for learning_rate in [1e-4, 1e-3, 1e-2, 1e-1, 1]:\n",
    "    for num_epochs in [20, 40, 60, 80, 100]:\n",
    "        for num_components in [20, 40, 60, 80, 100]:\n",
    "            dataset, interactions, feature_matrix = lightfm_implicit_matrix(df, hikes_features_df)\n",
    "            train, test = cross_validation.random_train_test_split(interactions, test_percentage=0.2, random_state=np.random.RandomState(seed=1))\n",
    "            model = lightfm_train(train, num_components=num_components, num_epochs=num_epochs, learning_rate=learning_rate)\n",
    "            test_auc = auc_score(model, test, train_interactions=train, num_threads=1).mean()\n",
    "            precision = precision_at_k(model, test, train_interactions=train, k=5).mean()\n",
    "            grid_search[count] = {'lr': learning_rate, 'ne': num_epochs, 'nc': num_components, 'auc': test_auc, 'precision': precision}\n",
    "            count += 1"
   ]
  },
  {
   "cell_type": "code",
   "execution_count": 895,
   "metadata": {},
   "outputs": [
    {
     "data": {
      "text/plain": [
       "[(74,\n",
       "  {'lr': 0.01,\n",
       "   'ne': 100,\n",
       "   'nc': 100,\n",
       "   'auc': 0.86767006,\n",
       "   'precision': 0.07846154}),\n",
       " (68,\n",
       "  {'lr': 0.01, 'ne': 80, 'nc': 80, 'auc': 0.8631809, 'precision': 0.07589744}),\n",
       " (73,\n",
       "  {'lr': 0.01,\n",
       "   'ne': 100,\n",
       "   'nc': 80,\n",
       "   'auc': 0.8669553,\n",
       "   'precision': 0.07589744}),\n",
       " (72,\n",
       "  {'lr': 0.01,\n",
       "   'ne': 100,\n",
       "   'nc': 60,\n",
       "   'auc': 0.86098725,\n",
       "   'precision': 0.07435898}),\n",
       " (67,\n",
       "  {'lr': 0.01, 'ne': 80, 'nc': 60, 'auc': 0.8572133, 'precision': 0.07418804})]"
      ]
     },
     "execution_count": 895,
     "metadata": {},
     "output_type": "execute_result"
    }
   ],
   "source": [
    "sorted(grid_search.items(), key=lambda x: x[1]['precision'], reverse=True)[:5]"
   ]
  },
  {
   "cell_type": "code",
   "execution_count": 906,
   "metadata": {},
   "outputs": [
    {
     "ename": "ValueError",
     "evalue": "The item feature matrix specifies more features than there are estimated feature embeddings: 616 vs 658.",
     "output_type": "error",
     "traceback": [
      "\u001b[0;31m---------------------------------------------------------------------------\u001b[0m",
      "\u001b[0;31mValueError\u001b[0m                                Traceback (most recent call last)",
      "\u001b[0;32m<ipython-input-906-c4e91426ea27>\u001b[0m in \u001b[0;36m<module>\u001b[0;34m\u001b[0m\n\u001b[1;32m      2\u001b[0m \u001b[0mtrain\u001b[0m\u001b[0;34m,\u001b[0m \u001b[0mtest\u001b[0m \u001b[0;34m=\u001b[0m \u001b[0mcross_validation\u001b[0m\u001b[0;34m.\u001b[0m\u001b[0mrandom_train_test_split\u001b[0m\u001b[0;34m(\u001b[0m\u001b[0minteractions\u001b[0m\u001b[0;34m,\u001b[0m \u001b[0mtest_percentage\u001b[0m\u001b[0;34m=\u001b[0m\u001b[0;36m0.2\u001b[0m\u001b[0;34m,\u001b[0m \u001b[0mrandom_state\u001b[0m\u001b[0;34m=\u001b[0m\u001b[0mnp\u001b[0m\u001b[0;34m.\u001b[0m\u001b[0mrandom\u001b[0m\u001b[0;34m.\u001b[0m\u001b[0mRandomState\u001b[0m\u001b[0;34m(\u001b[0m\u001b[0mseed\u001b[0m\u001b[0;34m=\u001b[0m\u001b[0;36m1\u001b[0m\u001b[0;34m)\u001b[0m\u001b[0;34m)\u001b[0m\u001b[0;34m\u001b[0m\u001b[0;34m\u001b[0m\u001b[0m\n\u001b[1;32m      3\u001b[0m \u001b[0mmodel\u001b[0m \u001b[0;34m=\u001b[0m \u001b[0mlightfm_train\u001b[0m\u001b[0;34m(\u001b[0m\u001b[0mtrain\u001b[0m\u001b[0;34m,\u001b[0m \u001b[0mnum_components\u001b[0m\u001b[0;34m=\u001b[0m\u001b[0;36m30\u001b[0m\u001b[0;34m,\u001b[0m \u001b[0mnum_epochs\u001b[0m\u001b[0;34m=\u001b[0m\u001b[0;36m30\u001b[0m\u001b[0;34m,\u001b[0m \u001b[0mlearning_rate\u001b[0m\u001b[0;34m=\u001b[0m\u001b[0;36m0.01\u001b[0m\u001b[0;34m)\u001b[0m\u001b[0;34m\u001b[0m\u001b[0;34m\u001b[0m\u001b[0m\n\u001b[0;32m----> 4\u001b[0;31m \u001b[0mtest_auc\u001b[0m \u001b[0;34m=\u001b[0m \u001b[0mauc_score\u001b[0m\u001b[0;34m(\u001b[0m\u001b[0mmodel\u001b[0m\u001b[0;34m,\u001b[0m \u001b[0mtest\u001b[0m\u001b[0;34m,\u001b[0m \u001b[0mtrain_interactions\u001b[0m\u001b[0;34m=\u001b[0m\u001b[0mtrain\u001b[0m\u001b[0;34m,\u001b[0m \u001b[0mitem_features\u001b[0m \u001b[0;34m=\u001b[0m \u001b[0mfeature_matrix\u001b[0m\u001b[0;34m,\u001b[0m \u001b[0mnum_threads\u001b[0m\u001b[0;34m=\u001b[0m\u001b[0;36m1\u001b[0m\u001b[0;34m)\u001b[0m\u001b[0;34m.\u001b[0m\u001b[0mmean\u001b[0m\u001b[0;34m(\u001b[0m\u001b[0;34m)\u001b[0m\u001b[0;34m\u001b[0m\u001b[0;34m\u001b[0m\u001b[0m\n\u001b[0m\u001b[1;32m      5\u001b[0m \u001b[0mprecision\u001b[0m \u001b[0;34m=\u001b[0m \u001b[0mprecision_at_k\u001b[0m\u001b[0;34m(\u001b[0m\u001b[0mmodel\u001b[0m\u001b[0;34m,\u001b[0m \u001b[0mtest\u001b[0m\u001b[0;34m,\u001b[0m \u001b[0mtrain_interactions\u001b[0m\u001b[0;34m=\u001b[0m\u001b[0mtrain\u001b[0m\u001b[0;34m,\u001b[0m \u001b[0mitem_features\u001b[0m \u001b[0;34m=\u001b[0m \u001b[0mfeature_matrix\u001b[0m\u001b[0;34m,\u001b[0m \u001b[0mk\u001b[0m\u001b[0;34m=\u001b[0m\u001b[0;36m5\u001b[0m\u001b[0;34m)\u001b[0m\u001b[0;34m.\u001b[0m\u001b[0mmean\u001b[0m\u001b[0;34m(\u001b[0m\u001b[0;34m)\u001b[0m\u001b[0;34m\u001b[0m\u001b[0;34m\u001b[0m\u001b[0m\n\u001b[1;32m      6\u001b[0m \u001b[0mprint\u001b[0m\u001b[0;34m(\u001b[0m\u001b[0mtest_auc\u001b[0m\u001b[0;34m,\u001b[0m \u001b[0mprecision\u001b[0m\u001b[0;34m)\u001b[0m\u001b[0;34m\u001b[0m\u001b[0;34m\u001b[0m\u001b[0m\n",
      "\u001b[0;32m~/anaconda3/envs/insight/lib/python3.7/site-packages/lightfm/evaluation.py\u001b[0m in \u001b[0;36mauc_score\u001b[0;34m(model, test_interactions, train_interactions, user_features, item_features, preserve_rows, num_threads, check_intersections)\u001b[0m\n\u001b[1;32m    197\u001b[0m                                \u001b[0mitem_features\u001b[0m\u001b[0;34m=\u001b[0m\u001b[0mitem_features\u001b[0m\u001b[0;34m,\u001b[0m\u001b[0;34m\u001b[0m\u001b[0;34m\u001b[0m\u001b[0m\n\u001b[1;32m    198\u001b[0m                                \u001b[0mnum_threads\u001b[0m\u001b[0;34m=\u001b[0m\u001b[0mnum_threads\u001b[0m\u001b[0;34m,\u001b[0m\u001b[0;34m\u001b[0m\u001b[0;34m\u001b[0m\u001b[0m\n\u001b[0;32m--> 199\u001b[0;31m                                \u001b[0mcheck_intersections\u001b[0m\u001b[0;34m=\u001b[0m\u001b[0mcheck_intersections\u001b[0m\u001b[0;34m,\u001b[0m\u001b[0;34m\u001b[0m\u001b[0;34m\u001b[0m\u001b[0m\n\u001b[0m\u001b[1;32m    200\u001b[0m                                )\n\u001b[1;32m    201\u001b[0m \u001b[0;34m\u001b[0m\u001b[0m\n",
      "\u001b[0;32m~/anaconda3/envs/insight/lib/python3.7/site-packages/lightfm/lightfm.py\u001b[0m in \u001b[0;36mpredict_rank\u001b[0;34m(self, test_interactions, train_interactions, item_features, user_features, num_threads, check_intersections)\u001b[0m\n\u001b[1;32m    802\u001b[0m                                                            \u001b[0mn_items\u001b[0m\u001b[0;34m,\u001b[0m\u001b[0;34m\u001b[0m\u001b[0;34m\u001b[0m\u001b[0m\n\u001b[1;32m    803\u001b[0m                                                            \u001b[0muser_features\u001b[0m\u001b[0;34m,\u001b[0m\u001b[0;34m\u001b[0m\u001b[0;34m\u001b[0m\u001b[0m\n\u001b[0;32m--> 804\u001b[0;31m                                                            item_features)\n\u001b[0m\u001b[1;32m    805\u001b[0m \u001b[0;34m\u001b[0m\u001b[0m\n\u001b[1;32m    806\u001b[0m         \u001b[0;32mif\u001b[0m \u001b[0;32mnot\u001b[0m \u001b[0mitem_features\u001b[0m\u001b[0;34m.\u001b[0m\u001b[0mshape\u001b[0m\u001b[0;34m[\u001b[0m\u001b[0;36m1\u001b[0m\u001b[0;34m]\u001b[0m \u001b[0;34m==\u001b[0m \u001b[0mself\u001b[0m\u001b[0;34m.\u001b[0m\u001b[0mitem_embeddings\u001b[0m\u001b[0;34m.\u001b[0m\u001b[0mshape\u001b[0m\u001b[0;34m[\u001b[0m\u001b[0;36m0\u001b[0m\u001b[0;34m]\u001b[0m\u001b[0;34m:\u001b[0m\u001b[0;34m\u001b[0m\u001b[0;34m\u001b[0m\u001b[0m\n",
      "\u001b[0;32m~/anaconda3/envs/insight/lib/python3.7/site-packages/lightfm/lightfm.py\u001b[0m in \u001b[0;36m_construct_feature_matrices\u001b[0;34m(self, n_users, n_items, user_features, item_features)\u001b[0m\n\u001b[1;32m    316\u001b[0m                                  'feature embeddings: {} vs {}.'.format(\n\u001b[1;32m    317\u001b[0m                                      \u001b[0mself\u001b[0m\u001b[0;34m.\u001b[0m\u001b[0mitem_embeddings\u001b[0m\u001b[0;34m.\u001b[0m\u001b[0mshape\u001b[0m\u001b[0;34m[\u001b[0m\u001b[0;36m0\u001b[0m\u001b[0;34m]\u001b[0m\u001b[0;34m,\u001b[0m\u001b[0;34m\u001b[0m\u001b[0;34m\u001b[0m\u001b[0m\n\u001b[0;32m--> 318\u001b[0;31m                                      \u001b[0mitem_features\u001b[0m\u001b[0;34m.\u001b[0m\u001b[0mshape\u001b[0m\u001b[0;34m[\u001b[0m\u001b[0;36m1\u001b[0m\u001b[0;34m]\u001b[0m\u001b[0;34m\u001b[0m\u001b[0;34m\u001b[0m\u001b[0m\n\u001b[0m\u001b[1;32m    319\u001b[0m                                  ))\n\u001b[1;32m    320\u001b[0m \u001b[0;34m\u001b[0m\u001b[0m\n",
      "\u001b[0;31mValueError\u001b[0m: The item feature matrix specifies more features than there are estimated feature embeddings: 616 vs 658."
     ]
    }
   ],
   "source": [
    "dataset, interactions, feature_matrix = lightfm_implicit_matrix(df, hikes_features_df)\n",
    "train, test = cross_validation.random_train_test_split(interactions, test_percentage=0.2, random_state=np.random.RandomState(seed=1))\n",
    "model = lightfm_train(train, num_components=30, num_epochs=30, learning_rate=0.01)\n",
    "test_auc = auc_score(model, test, train_interactions=train, item_features = feature_matrix, num_threads=1).mean()\n",
    "precision = precision_at_k(model, test, train_interactions=train, item_features = feature_matrix, k=5).mean()\n",
    "print(test_auc, precision)"
   ]
  },
  {
   "cell_type": "code",
   "execution_count": 902,
   "metadata": {},
   "outputs": [
    {
     "data": {
      "text/plain": [
       "0.057264958"
      ]
     },
     "execution_count": 902,
     "metadata": {},
     "output_type": "execute_result"
    }
   ],
   "source": [
    "precision_at_k(model, test, train_interactions=train, k=5).mean()"
   ]
  },
  {
   "cell_type": "code",
   "execution_count": 800,
   "metadata": {},
   "outputs": [
    {
     "data": {
      "text/plain": [
       "Icehouse Canyon to Cucamonga Peak Trail        167.0\n",
       "Bridge to Nowhere via East Fork Trail          123.0\n",
       "Vernal and Nevada Falls via the Mist Trail     120.0\n",
       "Vivian Creek Trail to San Gorgonio Peak        119.0\n",
       "Mount San Antonio & Mount Baldy Notch Trail    106.0\n",
       "dtype: float64"
      ]
     },
     "execution_count": 800,
     "metadata": {},
     "output_type": "execute_result"
    }
   ],
   "source": [
    "df.apply(np.sum).sort_values(ascending=False)[:5]"
   ]
  },
  {
   "cell_type": "code",
   "execution_count": 811,
   "metadata": {},
   "outputs": [
    {
     "data": {
      "text/plain": [
       "0.09243085880640466"
      ]
     },
     "execution_count": 811,
     "metadata": {},
     "output_type": "execute_result"
    }
   ],
   "source": [
    "df.apply(np.sum).sort_values(ascending=False)[:5].sum() / (df.shape[0]*5)"
   ]
  },
  {
   "cell_type": "markdown",
   "metadata": {},
   "source": [
    "# Make matrix for collab filt"
   ]
  },
  {
   "cell_type": "code",
   "execution_count": 172,
   "metadata": {},
   "outputs": [],
   "source": [
    "def gen_collabfilt_matrix(df):\n",
    "\n",
    "    hike_user_rating_dict = {}\n",
    "    for hike_index in range(df.shape[0]):\n",
    "        hike_name = df.loc[hike_index, 'hike_name']\n",
    "        user_names = df.loc[hike_index, 'user_names']\n",
    "        user_ratings = df.loc[hike_index, 'user_ratings']\n",
    "        \n",
    "        user_rating_dict = {}\n",
    "        for user_index in range(len(user_names)):\n",
    "            user_rating_dict[user_names[user_index]] = user_ratings[user_index]\n",
    "        \n",
    "        hike_user_rating_dict[hike_name] = user_rating_dict\n",
    "    \n",
    "    return pd.DataFrame(hike_user_rating_dict, dtype='int')"
   ]
  },
  {
   "cell_type": "code",
   "execution_count": 173,
   "metadata": {},
   "outputs": [],
   "source": [
    "hike_user_rating_matrix = gen_collabfilt_matrix(hike_data)"
   ]
  },
  {
   "cell_type": "code",
   "execution_count": 189,
   "metadata": {},
   "outputs": [],
   "source": [
    "def convert_to_binary(df, cutoff):\n",
    "    df = df.fillna(0)\n",
    "    df[df < cutoff] = 0\n",
    "    df[df > cutoff] = 1\n",
    "    \n",
    "    return df"
   ]
  },
  {
   "cell_type": "code",
   "execution_count": 1499,
   "metadata": {},
   "outputs": [],
   "source": [
    "rated_or_not = convert_to_binary(hike_user_rating_matrix, 0.5)"
   ]
  },
  {
   "cell_type": "code",
   "execution_count": 1501,
   "metadata": {},
   "outputs": [],
   "source": [
    "user_rating_counts = rated_or_not.apply(np.sum, axis=1)"
   ]
  },
  {
   "cell_type": "code",
   "execution_count": null,
   "metadata": {},
   "outputs": [],
   "source": [
    "user_rating_counts.plot()"
   ]
  },
  {
   "cell_type": "code",
   "execution_count": 204,
   "metadata": {},
   "outputs": [],
   "source": [
    "hike_user_rating_matrix_bool = convert_to_binary(hike_user_rating_matrix, 3.5)"
   ]
  },
  {
   "cell_type": "code",
   "execution_count": 208,
   "metadata": {},
   "outputs": [],
   "source": [
    "# filter if user has less than 10 reviews\n",
    "hike_user_rating_matrix_bool_filtered = hike_user_rating_matrix_bool[hike_user_rating_matrix_bool.apply(np.sum, axis=1) > 10]"
   ]
  },
  {
   "cell_type": "code",
   "execution_count": 278,
   "metadata": {},
   "outputs": [],
   "source": [
    "def get_basic_stats(df):\n",
    "\n",
    "    num_users = df.shape[0]\n",
    "    num_hikes = df.shape[1]\n",
    "    num_ratings = df.values.sum()\n",
    "    sparsity = num_ratings / (num_hikes * num_users) * 100\n",
    "\n",
    "    print('Number of hikes: ' + str(num_hikes))\n",
    "    print('Number of users: ' + str(num_users))\n",
    "    print('Number of ratings: {:.0f}'.format(num_ratings))\n",
    "    print('Sparsity = {:4.2f}%'.format(sparsity))"
   ]
  },
  {
   "cell_type": "code",
   "execution_count": 279,
   "metadata": {},
   "outputs": [
    {
     "name": "stdout",
     "output_type": "stream",
     "text": [
      "Number of hikes: 5295\n",
      "Number of users: 1374\n",
      "Number of ratings: 24485\n",
      "Sparsity = 0.34%\n"
     ]
    }
   ],
   "source": [
    "get_basic_stats(hike_user_rating_matrix_bool_filtered)"
   ]
  },
  {
   "cell_type": "code",
   "execution_count": 449,
   "metadata": {},
   "outputs": [
    {
     "data": {
      "text/plain": [
       "'10.80%'"
      ]
     },
     "execution_count": 449,
     "metadata": {},
     "output_type": "execute_result"
    }
   ],
   "source": [
    "'{:.2f}%'.format(24485 / 226618 * 100)"
   ]
  },
  {
   "cell_type": "code",
   "execution_count": 228,
   "metadata": {},
   "outputs": [],
   "source": [
    "# filter if hike has no ratings\n",
    "hike_user_rating_matrix_bool_filtered2 = hike_user_rating_matrix_bool_filtered.loc[:, (hike_user_rating_matrix_bool_filtered != 0).any(axis=0)]"
   ]
  },
  {
   "cell_type": "code",
   "execution_count": 280,
   "metadata": {},
   "outputs": [
    {
     "name": "stdout",
     "output_type": "stream",
     "text": [
      "Number of hikes: 3606\n",
      "Number of users: 1374\n",
      "Number of ratings: 24485\n",
      "Sparsity = 0.49%\n"
     ]
    }
   ],
   "source": [
    "get_basic_stats(hike_user_rating_matrix_bool_filtered2)"
   ]
  },
  {
   "cell_type": "code",
   "execution_count": 448,
   "metadata": {},
   "outputs": [
    {
     "data": {
      "text/plain": [
       "'10.80%'"
      ]
     },
     "execution_count": 448,
     "metadata": {},
     "output_type": "execute_result"
    }
   ],
   "source": [
    "'{:.2f}%'.format(24485 / 226618 * 100)"
   ]
  },
  {
   "cell_type": "code",
   "execution_count": null,
   "metadata": {},
   "outputs": [],
   "source": [
    "# filter if hike has less than 10 ratings"
   ]
  },
  {
   "cell_type": "code",
   "execution_count": 238,
   "metadata": {},
   "outputs": [],
   "source": [
    "hike_user_rating_matrix_bool_filtered3 = hike_user_rating_matrix_bool_filtered2.loc[:, hike_user_rating_matrix_bool_filtered2.apply(np.sum, axis=0) > 10]"
   ]
  },
  {
   "cell_type": "code",
   "execution_count": 281,
   "metadata": {},
   "outputs": [
    {
     "name": "stdout",
     "output_type": "stream",
     "text": [
      "Number of hikes: 616\n",
      "Number of users: 1374\n",
      "Number of ratings: 15288\n",
      "Sparsity = 1.81%\n"
     ]
    }
   ],
   "source": [
    "get_basic_stats(hike_user_rating_matrix_bool_filtered3)"
   ]
  },
  {
   "cell_type": "code",
   "execution_count": 447,
   "metadata": {},
   "outputs": [
    {
     "data": {
      "text/plain": [
       "'6.75%'"
      ]
     },
     "execution_count": 447,
     "metadata": {},
     "output_type": "execute_result"
    }
   ],
   "source": [
    "'{:.2f}%'.format(15288 / 226618 * 100)"
   ]
  },
  {
   "cell_type": "code",
   "execution_count": 452,
   "metadata": {},
   "outputs": [
    {
     "data": {
      "text/html": [
       "<div>\n",
       "<style scoped>\n",
       "    .dataframe tbody tr th:only-of-type {\n",
       "        vertical-align: middle;\n",
       "    }\n",
       "\n",
       "    .dataframe tbody tr th {\n",
       "        vertical-align: top;\n",
       "    }\n",
       "\n",
       "    .dataframe thead th {\n",
       "        text-align: right;\n",
       "    }\n",
       "</style>\n",
       "<table border=\"1\" class=\"dataframe\">\n",
       "  <thead>\n",
       "    <tr style=\"text-align: right;\">\n",
       "      <th></th>\n",
       "      <th>Taft Point and The Fissures</th>\n",
       "      <th>Aliso Creek and Wood Canyon Loop Trail</th>\n",
       "      <th>Upper Natural Bridge Trail</th>\n",
       "      <th>Lake Miramar Trail</th>\n",
       "      <th>San Antonio Falls Trail</th>\n",
       "      <th>The Slot</th>\n",
       "      <th>Panoramic Hill - Chaparral Peak - Strawberry Canyon Loop</th>\n",
       "      <th>Lafayette Reservoir Nature Area Rim Trail</th>\n",
       "      <th>Cleo's Bath Trail via Pinecrest Lake Loop</th>\n",
       "      <th>Devil's Slide to Saddle Junction Trail</th>\n",
       "      <th>...</th>\n",
       "      <th>Rae Lakes Trail</th>\n",
       "      <th>Congress Trail</th>\n",
       "      <th>Strawberry Canyon Fire Trail</th>\n",
       "      <th>Annie's Canyon via North Rios Trail</th>\n",
       "      <th>Lake Margaret Trail</th>\n",
       "      <th>Deep Creek Hot Springs Trail</th>\n",
       "      <th>Cougar Crest Trail</th>\n",
       "      <th>Abalone Cove Trail</th>\n",
       "      <th>Torrey Pines - Red Butte, Yucca Point, and Razor Point</th>\n",
       "      <th>Soberanes Canyon Trail</th>\n",
       "    </tr>\n",
       "  </thead>\n",
       "  <tbody>\n",
       "    <tr>\n",
       "      <th>Bill Friedman</th>\n",
       "      <td>0.0</td>\n",
       "      <td>0.0</td>\n",
       "      <td>0.0</td>\n",
       "      <td>0.0</td>\n",
       "      <td>0.0</td>\n",
       "      <td>0.0</td>\n",
       "      <td>0.0</td>\n",
       "      <td>0.0</td>\n",
       "      <td>0.0</td>\n",
       "      <td>0.0</td>\n",
       "      <td>...</td>\n",
       "      <td>0.0</td>\n",
       "      <td>0.0</td>\n",
       "      <td>0.0</td>\n",
       "      <td>0.0</td>\n",
       "      <td>0.0</td>\n",
       "      <td>0.0</td>\n",
       "      <td>0.0</td>\n",
       "      <td>0.0</td>\n",
       "      <td>0.0</td>\n",
       "      <td>0.0</td>\n",
       "    </tr>\n",
       "    <tr>\n",
       "      <th>$15 $40</th>\n",
       "      <td>0.0</td>\n",
       "      <td>0.0</td>\n",
       "      <td>0.0</td>\n",
       "      <td>0.0</td>\n",
       "      <td>0.0</td>\n",
       "      <td>0.0</td>\n",
       "      <td>0.0</td>\n",
       "      <td>0.0</td>\n",
       "      <td>0.0</td>\n",
       "      <td>0.0</td>\n",
       "      <td>...</td>\n",
       "      <td>0.0</td>\n",
       "      <td>0.0</td>\n",
       "      <td>0.0</td>\n",
       "      <td>0.0</td>\n",
       "      <td>0.0</td>\n",
       "      <td>0.0</td>\n",
       "      <td>0.0</td>\n",
       "      <td>0.0</td>\n",
       "      <td>0.0</td>\n",
       "      <td>0.0</td>\n",
       "    </tr>\n",
       "    <tr>\n",
       "      <th>** watson **</th>\n",
       "      <td>0.0</td>\n",
       "      <td>0.0</td>\n",
       "      <td>0.0</td>\n",
       "      <td>0.0</td>\n",
       "      <td>0.0</td>\n",
       "      <td>0.0</td>\n",
       "      <td>0.0</td>\n",
       "      <td>0.0</td>\n",
       "      <td>0.0</td>\n",
       "      <td>0.0</td>\n",
       "      <td>...</td>\n",
       "      <td>0.0</td>\n",
       "      <td>0.0</td>\n",
       "      <td>0.0</td>\n",
       "      <td>0.0</td>\n",
       "      <td>0.0</td>\n",
       "      <td>0.0</td>\n",
       "      <td>0.0</td>\n",
       "      <td>0.0</td>\n",
       "      <td>0.0</td>\n",
       "      <td>0.0</td>\n",
       "    </tr>\n",
       "    <tr>\n",
       "      <th>3IrinaAmira D.</th>\n",
       "      <td>0.0</td>\n",
       "      <td>0.0</td>\n",
       "      <td>0.0</td>\n",
       "      <td>0.0</td>\n",
       "      <td>0.0</td>\n",
       "      <td>0.0</td>\n",
       "      <td>0.0</td>\n",
       "      <td>0.0</td>\n",
       "      <td>0.0</td>\n",
       "      <td>0.0</td>\n",
       "      <td>...</td>\n",
       "      <td>0.0</td>\n",
       "      <td>0.0</td>\n",
       "      <td>0.0</td>\n",
       "      <td>0.0</td>\n",
       "      <td>0.0</td>\n",
       "      <td>0.0</td>\n",
       "      <td>0.0</td>\n",
       "      <td>0.0</td>\n",
       "      <td>0.0</td>\n",
       "      <td>0.0</td>\n",
       "    </tr>\n",
       "    <tr>\n",
       "      <th>@rafiky _resiii</th>\n",
       "      <td>0.0</td>\n",
       "      <td>0.0</td>\n",
       "      <td>0.0</td>\n",
       "      <td>0.0</td>\n",
       "      <td>1.0</td>\n",
       "      <td>0.0</td>\n",
       "      <td>0.0</td>\n",
       "      <td>0.0</td>\n",
       "      <td>0.0</td>\n",
       "      <td>0.0</td>\n",
       "      <td>...</td>\n",
       "      <td>0.0</td>\n",
       "      <td>0.0</td>\n",
       "      <td>0.0</td>\n",
       "      <td>0.0</td>\n",
       "      <td>0.0</td>\n",
       "      <td>0.0</td>\n",
       "      <td>0.0</td>\n",
       "      <td>0.0</td>\n",
       "      <td>0.0</td>\n",
       "      <td>0.0</td>\n",
       "    </tr>\n",
       "  </tbody>\n",
       "</table>\n",
       "<p>5 rows × 616 columns</p>\n",
       "</div>"
      ],
      "text/plain": [
       "                 Taft Point and The Fissures  \\\n",
       " Bill Friedman                           0.0   \n",
       "$15 $40                                  0.0   \n",
       "** watson **                             0.0   \n",
       "3IrinaAmira D.                           0.0   \n",
       "@rafiky _resiii                          0.0   \n",
       "\n",
       "                 Aliso Creek and Wood Canyon Loop Trail  \\\n",
       " Bill Friedman                                      0.0   \n",
       "$15 $40                                             0.0   \n",
       "** watson **                                        0.0   \n",
       "3IrinaAmira D.                                      0.0   \n",
       "@rafiky _resiii                                     0.0   \n",
       "\n",
       "                 Upper Natural Bridge Trail  Lake Miramar Trail  \\\n",
       " Bill Friedman                          0.0                 0.0   \n",
       "$15 $40                                 0.0                 0.0   \n",
       "** watson **                            0.0                 0.0   \n",
       "3IrinaAmira D.                          0.0                 0.0   \n",
       "@rafiky _resiii                         0.0                 0.0   \n",
       "\n",
       "                 San Antonio Falls Trail  The Slot  \\\n",
       " Bill Friedman                       0.0       0.0   \n",
       "$15 $40                              0.0       0.0   \n",
       "** watson **                         0.0       0.0   \n",
       "3IrinaAmira D.                       0.0       0.0   \n",
       "@rafiky _resiii                      1.0       0.0   \n",
       "\n",
       "                 Panoramic Hill - Chaparral Peak - Strawberry Canyon Loop  \\\n",
       " Bill Friedman                                                 0.0          \n",
       "$15 $40                                                        0.0          \n",
       "** watson **                                                   0.0          \n",
       "3IrinaAmira D.                                                 0.0          \n",
       "@rafiky _resiii                                                0.0          \n",
       "\n",
       "                 Lafayette Reservoir Nature Area Rim Trail  \\\n",
       " Bill Friedman                                         0.0   \n",
       "$15 $40                                                0.0   \n",
       "** watson **                                           0.0   \n",
       "3IrinaAmira D.                                         0.0   \n",
       "@rafiky _resiii                                        0.0   \n",
       "\n",
       "                 Cleo's Bath Trail via Pinecrest Lake Loop  \\\n",
       " Bill Friedman                                         0.0   \n",
       "$15 $40                                                0.0   \n",
       "** watson **                                           0.0   \n",
       "3IrinaAmira D.                                         0.0   \n",
       "@rafiky _resiii                                        0.0   \n",
       "\n",
       "                 Devil's Slide to Saddle Junction Trail  \\\n",
       " Bill Friedman                                      0.0   \n",
       "$15 $40                                             0.0   \n",
       "** watson **                                        0.0   \n",
       "3IrinaAmira D.                                      0.0   \n",
       "@rafiky _resiii                                     0.0   \n",
       "\n",
       "                          ...            Rae Lakes Trail  Congress Trail  \\\n",
       " Bill Friedman            ...                        0.0             0.0   \n",
       "$15 $40                   ...                        0.0             0.0   \n",
       "** watson **              ...                        0.0             0.0   \n",
       "3IrinaAmira D.            ...                        0.0             0.0   \n",
       "@rafiky _resiii           ...                        0.0             0.0   \n",
       "\n",
       "                 Strawberry Canyon Fire Trail  \\\n",
       " Bill Friedman                            0.0   \n",
       "$15 $40                                   0.0   \n",
       "** watson **                              0.0   \n",
       "3IrinaAmira D.                            0.0   \n",
       "@rafiky _resiii                           0.0   \n",
       "\n",
       "                 Annie's Canyon via North Rios Trail  Lake Margaret Trail  \\\n",
       " Bill Friedman                                   0.0                  0.0   \n",
       "$15 $40                                          0.0                  0.0   \n",
       "** watson **                                     0.0                  0.0   \n",
       "3IrinaAmira D.                                   0.0                  0.0   \n",
       "@rafiky _resiii                                  0.0                  0.0   \n",
       "\n",
       "                 Deep Creek Hot Springs Trail  Cougar Crest Trail  \\\n",
       " Bill Friedman                            0.0                 0.0   \n",
       "$15 $40                                   0.0                 0.0   \n",
       "** watson **                              0.0                 0.0   \n",
       "3IrinaAmira D.                            0.0                 0.0   \n",
       "@rafiky _resiii                           0.0                 0.0   \n",
       "\n",
       "                 Abalone Cove Trail  \\\n",
       " Bill Friedman                  0.0   \n",
       "$15 $40                         0.0   \n",
       "** watson **                    0.0   \n",
       "3IrinaAmira D.                  0.0   \n",
       "@rafiky _resiii                 0.0   \n",
       "\n",
       "                 Torrey Pines - Red Butte, Yucca Point, and Razor Point  \\\n",
       " Bill Friedman                                                 0.0        \n",
       "$15 $40                                                        0.0        \n",
       "** watson **                                                   0.0        \n",
       "3IrinaAmira D.                                                 0.0        \n",
       "@rafiky _resiii                                                0.0        \n",
       "\n",
       "                 Soberanes Canyon Trail  \n",
       " Bill Friedman                      0.0  \n",
       "$15 $40                             0.0  \n",
       "** watson **                        0.0  \n",
       "3IrinaAmira D.                      0.0  \n",
       "@rafiky _resiii                     0.0  \n",
       "\n",
       "[5 rows x 616 columns]"
      ]
     },
     "execution_count": 452,
     "metadata": {},
     "output_type": "execute_result"
    }
   ],
   "source": [
    "hike_user_rating_matrix_bool_filtered3.head(5)"
   ]
  },
  {
   "cell_type": "code",
   "execution_count": 927,
   "metadata": {},
   "outputs": [],
   "source": [
    "pd.Series(hike_user_rating_matrix_bool_filtered3.columns).to_pickle('column_names')"
   ]
  },
  {
   "cell_type": "code",
   "execution_count": 1486,
   "metadata": {},
   "outputs": [],
   "source": [
    "hike_user_rating_matrix_bool_filtered3.to_pickle('hike_data_filtered_190124')"
   ]
  },
  {
   "cell_type": "code",
   "execution_count": 942,
   "metadata": {},
   "outputs": [],
   "source": [
    "hike_list = list(hike_user_rating_matrix_bool_filtered3.columns)"
   ]
  },
  {
   "cell_type": "code",
   "execution_count": null,
   "metadata": {},
   "outputs": [],
   "source": []
  },
  {
   "cell_type": "markdown",
   "metadata": {},
   "source": [
    "# Fit model using LightFM"
   ]
  },
  {
   "cell_type": "markdown",
   "metadata": {},
   "source": [
    "## Automatic"
   ]
  },
  {
   "cell_type": "code",
   "execution_count": 365,
   "metadata": {},
   "outputs": [],
   "source": [
    "from lightfm import data\n",
    "from lightfm import cross_validation\n",
    "from lightfm.cross_validation import random_train_test_split\n",
    "from lightfm.evaluation import auc_score\n",
    "from lightfm.evaluation import precision_at_k"
   ]
  },
  {
   "cell_type": "code",
   "execution_count": 366,
   "metadata": {},
   "outputs": [],
   "source": [
    "def lightfm_implicit_matrix(df):\n",
    "    dataset = data.Dataset() # Instantiate class\n",
    "    dataset.fit((user for user in df.index),\n",
    "                (feature for feature in df.columns)) # Create users and items from df\n",
    "    num_users, num_items = dataset.interactions_shape() # Get shape\n",
    "    interaction_list = list(df[df > 0].stack().index) # Get interaction pairs\n",
    "    interactions, weights = dataset.build_interactions((x[0], x[1]) for x in interaction_list) # Build interactions\n",
    "    \n",
    "    return dataset, interactions\n",
    "\n",
    "def lightfm_train(train, num_components, num_epochs):\n",
    "    NUM_THREADS = 1\n",
    "    NUM_COMPONENTS = num_components\n",
    "    NUM_EPOCHS = num_epochs\n",
    "    ITEM_ALPHA = 1e-6\n",
    "\n",
    "    # Let's fit a WARP model: these generally have the best performance.\n",
    "    model = LightFM(loss='warp',\n",
    "                    item_alpha=ITEM_ALPHA,\n",
    "                   no_components=NUM_COMPONENTS)\n",
    "\n",
    "    # Run 3 epochs and time it.\n",
    "    model = model.fit(train, epochs=NUM_EPOCHS, num_threads=NUM_THREADS)\n",
    "    \n",
    "    return model\n",
    "\n",
    "def find_item(lfm_map, lfm_index):\n",
    "    return [ key for key in lfm_map.keys() if lfm_map[key] == lfm_index ][0]\n",
    "\n",
    "def return_top_10_new_user(interactions, model, item_map):\n",
    "    predictions = model.predict(interactions._shape[0]-1, np.arange(interactions._shape[1]))\n",
    "    sorted_by_index = (-1*predictions).argsort()\n",
    "    names = []\n",
    "    \n",
    "    for pred_num in range(10):\n",
    "        name = find_item(item_map, sorted_by_index[pred_num])\n",
    "        print('Prediction {} is {}.'.format(pred_num+1, name))\n",
    "        names.append(name)\n",
    "        \n",
    "    return names"
   ]
  },
  {
   "cell_type": "code",
   "execution_count": 367,
   "metadata": {},
   "outputs": [],
   "source": [
    "interaction_matrix = pd.read_pickle('hike_data_filtered_190124')"
   ]
  },
  {
   "cell_type": "code",
   "execution_count": 370,
   "metadata": {},
   "outputs": [
    {
     "name": "stdout",
     "output_type": "stream",
     "text": [
      "Prediction 1 is Berry Creek Falls Loop.\n",
      "Prediction 2 is Strawberry Canyon Fire Trail.\n",
      "Prediction 3 is Whittemore Gulch and Harkins Ridge Loop Trail.\n",
      "Prediction 4 is Castle Rock Trail to Saratoga Gap Trail and Ridge Trail Loop.\n",
      "Prediction 5 is Lexington Reservoir Trail.\n",
      "Prediction 6 is Cataract Falls Trail, High Marsh, Kent Trail, and Helen Market Trail.\n",
      "Prediction 7 is Mission Peak Loop from Stanford Avenue Staging Area.\n",
      "Prediction 8 is Baltimore Canyon Via Dawn Falls Trail Loop.\n",
      "Prediction 9 is Dunn, Graham and West Ridge Trail Loop.\n",
      "Prediction 10 is East Ridge Trail to West Ridge Trail Loop from Skyline Blvd.\n"
     ]
    }
   ],
   "source": [
    "# Code to quickly instantiate class and train model\n",
    "\n",
    "dataset, interactions = lightfm_implicit_matrix(interaction_matrix)\n",
    "train, test = cross_validation.random_train_test_split(interactions, test_percentage=0.2, random_state=np.random.RandomState(seed=1))\n",
    "model = lightfm_train(train, 30, 30)\n",
    "\n",
    "item_map = dataset.mapping()[2]\n",
    "recommended_hikes = return_top_10_new_user(interactions, model, item_map)"
   ]
  },
  {
   "cell_type": "code",
   "execution_count": 1492,
   "metadata": {},
   "outputs": [
    {
     "data": {
      "text/plain": [
       "0"
      ]
     },
     "execution_count": 1492,
     "metadata": {},
     "output_type": "execute_result"
    }
   ],
   "source": [
    "item_map['Taft Point and The Fissures']"
   ]
  },
  {
   "cell_type": "code",
   "execution_count": 1377,
   "metadata": {},
   "outputs": [],
   "source": [
    "def time_func():\n",
    "\n",
    "    dataset, interactions = lightfm_implicit_matrix(hike_user_rating_matrix_bool_filtered3)\n",
    "    lighfm_train = lightfm_train(interactions, 30, 5)\n",
    "\n",
    "    item_mapping = dataset.mapping()[2]\n",
    "    return_top_10_new_user(interactions, item_mapping)"
   ]
  },
  {
   "cell_type": "code",
   "execution_count": 1378,
   "metadata": {},
   "outputs": [
    {
     "name": "stdout",
     "output_type": "stream",
     "text": [
      "28.1 ns ± 0.448 ns per loop (mean ± std. dev. of 7 runs, 10000000 loops each)\n"
     ]
    }
   ],
   "source": [
    "%timeit time_func"
   ]
  },
  {
   "cell_type": "code",
   "execution_count": 1295,
   "metadata": {},
   "outputs": [
    {
     "data": {
      "text/plain": [
       "(616, 30)"
      ]
     },
     "execution_count": 1295,
     "metadata": {},
     "output_type": "execute_result"
    }
   ],
   "source": [
    "model.get_item_representations()[1].shape # item embeddings"
   ]
  },
  {
   "cell_type": "code",
   "execution_count": 1488,
   "metadata": {},
   "outputs": [],
   "source": [
    "from numpy import dot\n",
    "from numpy.linalg import norm\n",
    "\n",
    "def cos_sim(a, b):\n",
    "    cos_sim = dot(a, b)/(norm(a)*norm(b))\n",
    "    return cos_sim\n",
    "\n",
    "def calculate_similarities(model, hike_index_of_interest):\n",
    "    item_embeddings = model.get_item_representations()[1]\n",
    "    sim_scores = []\n",
    "    for item_index in range(item_embeddings.shape[0]):\n",
    "        sim_scores.append(cos_sim(item_embeddings[item_index, :], item_embeddings[hike_index_of_interest, :]))\n",
    "        \n",
    "    return sim_scores\n",
    "\n",
    "def get_top_hikes_by_similarity(sim_scores, item_map):\n",
    "    top_items = (-1*np.array(sim_scores)).argsort()\n",
    "    names = []\n",
    "    for pred_num in range(10):\n",
    "        name = find_item(item_map, top_items[pred_num])\n",
    "        names.append(name)\n",
    "    \n",
    "    return names"
   ]
  },
  {
   "cell_type": "code",
   "execution_count": 1490,
   "metadata": {},
   "outputs": [
    {
     "data": {
      "text/plain": [
       "['Klondike and Portuguese Canyon Trails',\n",
       " 'Venice Canals Trail',\n",
       " 'La Canada Teepee via Crosstown Trail',\n",
       " 'Paintbrush Trail to Portugese Bend',\n",
       " 'Old Zoo Trail',\n",
       " 'Inspiration Point Trail',\n",
       " 'Santa Paula Canyon and Punch Bowls Trail',\n",
       " 'Abalone Cove Trail',\n",
       " 'Corral Canyon Loop Trail [CLOSED]',\n",
       " 'Escondido Falls Trail [CLOSED]']"
      ]
     },
     "execution_count": 1490,
     "metadata": {},
     "output_type": "execute_result"
    }
   ],
   "source": [
    "sim_scores = calculate_similarities(model, 100)\n",
    "top_hikes = get_top_hikes_by_similarity(sim_scores, item_map)\n",
    "top_hikes"
   ]
  },
  {
   "cell_type": "markdown",
   "metadata": {},
   "source": [
    "## Single model validation"
   ]
  },
  {
   "cell_type": "markdown",
   "metadata": {},
   "source": [
    "Without the function, first try to validate model"
   ]
  },
  {
   "cell_type": "code",
   "execution_count": 1179,
   "metadata": {},
   "outputs": [],
   "source": [
    "test_dataset = data.Dataset()"
   ]
  },
  {
   "cell_type": "code",
   "execution_count": 1180,
   "metadata": {},
   "outputs": [],
   "source": [
    "test_dataset.fit((user for user in hike_user_rating_matrix_bool_filtered3.index),\n",
    "                 (feature for feature in hike_user_rating_matrix_bool_filtered3.columns))"
   ]
  },
  {
   "cell_type": "code",
   "execution_count": 1181,
   "metadata": {},
   "outputs": [],
   "source": [
    "num_users, num_items = test_dataset.interactions_shape()"
   ]
  },
  {
   "cell_type": "code",
   "execution_count": 1182,
   "metadata": {},
   "outputs": [],
   "source": [
    "interaction_list = list(hike_user_rating_matrix_bool_filtered3[hike_user_rating_matrix_bool_filtered3 > 0].stack().index)"
   ]
  },
  {
   "cell_type": "code",
   "execution_count": 1183,
   "metadata": {},
   "outputs": [],
   "source": [
    "interactions, weights = test_dataset.build_interactions((x[0], x[1]) for x in interaction_list)"
   ]
  },
  {
   "cell_type": "code",
   "execution_count": 1184,
   "metadata": {},
   "outputs": [
    {
     "name": "stdout",
     "output_type": "stream",
     "text": [
      "<1374x616 sparse matrix of type '<class 'numpy.int32'>'\n",
      "\twith 15288 stored elements in COOrdinate format>\n"
     ]
    }
   ],
   "source": [
    "print(repr(interactions))"
   ]
  },
  {
   "cell_type": "code",
   "execution_count": 1194,
   "metadata": {},
   "outputs": [],
   "source": [
    "train, test = cross_validation.random_train_test_split(interactions, test_percentage=0.2)"
   ]
  },
  {
   "cell_type": "code",
   "execution_count": 1195,
   "metadata": {},
   "outputs": [
    {
     "name": "stdout",
     "output_type": "stream",
     "text": [
      "CPU times: user 149 ms, sys: 3.75 ms, total: 153 ms\n",
      "Wall time: 153 ms\n"
     ]
    }
   ],
   "source": [
    "# Set the number of threads; you can increase this\n",
    "# ify you have more physical cores available.\n",
    "NUM_THREADS = 1\n",
    "NUM_COMPONENTS = 30\n",
    "NUM_EPOCHS = 5\n",
    "ITEM_ALPHA = 1e-6\n",
    "\n",
    "# Let's fit a WARP model: these generally have the best performance.\n",
    "model = LightFM(loss='warp',\n",
    "                item_alpha=ITEM_ALPHA,\n",
    "               no_components=NUM_COMPONENTS)\n",
    "\n",
    "# Run 3 epochs and time it.\n",
    "%time model = model.fit(train, epochs=NUM_EPOCHS, num_threads=NUM_THREADS)"
   ]
  },
  {
   "cell_type": "code",
   "execution_count": 1196,
   "metadata": {},
   "outputs": [
    {
     "name": "stdout",
     "output_type": "stream",
     "text": [
      "Collaborative filtering train AUC: 0.89639276\n"
     ]
    }
   ],
   "source": [
    "# Compute and print the AUC score\n",
    "train_auc = auc_score(model, train, num_threads=NUM_THREADS).mean()\n",
    "print('Collaborative filtering train AUC: %s' % train_auc)"
   ]
  },
  {
   "cell_type": "code",
   "execution_count": 1197,
   "metadata": {},
   "outputs": [
    {
     "name": "stdout",
     "output_type": "stream",
     "text": [
      "Collaborative filtering test AUC: 0.82041705\n"
     ]
    }
   ],
   "source": [
    "# We pass in the train interactions to exclude them from predictions.\n",
    "# This is to simulate a recommender system where we do not\n",
    "# re-recommend things the user has already interacted with in the train\n",
    "# set.\n",
    "test_auc = auc_score(model, test, train_interactions=train, num_threads=NUM_THREADS).mean()\n",
    "print('Collaborative filtering test AUC: %s' % test_auc)"
   ]
  },
  {
   "cell_type": "code",
   "execution_count": 1198,
   "metadata": {},
   "outputs": [
    {
     "name": "stdout",
     "output_type": "stream",
     "text": [
      "Precision at k = 1 is 0.09\n",
      "Precision at k = 2 is 0.08\n",
      "Precision at k = 3 is 0.07\n",
      "Precision at k = 4 is 0.07\n",
      "Precision at k = 5 is 0.06\n",
      "Precision at k = 6 is 0.06\n",
      "Precision at k = 7 is 0.06\n",
      "Precision at k = 8 is 0.05\n",
      "Precision at k = 9 is 0.05\n",
      "Precision at k = 10 is 0.05\n"
     ]
    }
   ],
   "source": [
    "for k in range(1,11):\n",
    "    precision = precision_at_k(model, test, train_interactions=train, k=k).mean()\n",
    "    print('Precision at k = {} is {:.2f}'.format(k, precision))"
   ]
  },
  {
   "cell_type": "code",
   "execution_count": 1200,
   "metadata": {},
   "outputs": [
    {
     "name": "stdout",
     "output_type": "stream",
     "text": [
      "Prediction 1 is Upper Rustic Garapito Loop Trail.\n",
      "Prediction 2 is Los Penasquitos Canyon Trail.\n",
      "Prediction 3 is Homestead-Blue Ridge Trail.\n",
      "Prediction 4 is Sierra Buttes Lookout Trail.\n",
      "Prediction 5 is Weaver Lake Trail.\n",
      "Prediction 6 is Golden Gate Bridge from Baker Beach Trail.\n",
      "Prediction 7 is Montara Mountain Trail.\n",
      "Prediction 8 is Sage Trail to Cougar Ridge Trail to Boulder Loop.\n",
      "Prediction 9 is Smith Mountain Trail.\n",
      "Prediction 10 is Stout Memorial Grove Trail.\n"
     ]
    }
   ],
   "source": [
    "return_top_10_new_user(interactions, model, item_mapping)"
   ]
  },
  {
   "cell_type": "markdown",
   "metadata": {},
   "source": [
    "Expected precision at k from hypergeometric distribution"
   ]
  },
  {
   "cell_type": "code",
   "execution_count": 3,
   "metadata": {},
   "outputs": [],
   "source": [
    "hike_data_filt = pd.read_pickle('hike_data_filtered_190124')"
   ]
  },
  {
   "cell_type": "code",
   "execution_count": 47,
   "metadata": {},
   "outputs": [
    {
     "name": "stdout",
     "output_type": "stream",
     "text": [
      "Number of hikes: 616, Average number of interactions per user: 11.126638\n"
     ]
    }
   ],
   "source": [
    "num_interactions = hike_data_filt.apply(np.sum).sum()\n",
    "num_users = hike_data_filt.shape[0]\n",
    "num_hikes = hike_data_filt.shape[1]\n",
    "print('Number of hikes: {}, Average number of interactions per user: {:2f}'.format(num_hikes, average_interactions_per_user))"
   ]
  },
  {
   "cell_type": "code",
   "execution_count": 48,
   "metadata": {},
   "outputs": [],
   "source": [
    "def random_precision_at_k(num_hikes, num_users, num_interactions):\n",
    "    '''Calculates the expected precision-at-k for random guessing. The expected fraction of recommended hikes that are\n",
    "    true positives in the interaction matrix is given by the mean of the hypergeometric distribution with population\n",
    "    size num_hikes, number of successess num_interactions / num_users, and number of draws num_recommendations. \n",
    "    The expected fraction of recommended hikes that are true positives in the interaction matrix is given by that mean\n",
    "    divided by the numer of recommendations.\n",
    "    \n",
    "    Returns: expected fraction of recommended hikes that are true positives in interaction matrix. '''\n",
    "    \n",
    "    num_hikes_expected = num_recommendations * (num_interactions / num_users) / num_hikes\n",
    "    return num_hikes_expected / num_recommendations"
   ]
  },
  {
   "cell_type": "code",
   "execution_count": 69,
   "metadata": {},
   "outputs": [
    {
     "name": "stdout",
     "output_type": "stream",
     "text": [
      "Random precision-at-10 is: 0.018\n",
      "Random precision-at-1 is: 0.018\n"
     ]
    }
   ],
   "source": [
    "random_precision_at_10 = random_precision_at_k(num_hikes, num_users, num_interactions, 10)\n",
    "random_precision_at_1 = random_precision_at_k(num_hikes, num_users, num_interactions, 1)\n",
    "print('Random precision-at-10 is: {:.3f}'.format(random_precision_at_10))\n",
    "print('Random precision-at-1 is: {:.3f}'.format(random_precision_at_1))"
   ]
  },
  {
   "cell_type": "code",
   "execution_count": 71,
   "metadata": {},
   "outputs": [
    {
     "name": "stdout",
     "output_type": "stream",
     "text": [
      "Collaborative filtering model is 277% to 554% better than random guessing\n"
     ]
    }
   ],
   "source": [
    "upper_bound = 0.10 / random_precision_at_1 * 100\n",
    "lower_bound = 0.05 / random_precision_at_10 * 100\n",
    "print('Collaborative filtering model is {:.0f}% to {:.0f}% better than random guessing'.format(lower_bound, upper_bound))"
   ]
  },
  {
   "cell_type": "markdown",
   "metadata": {},
   "source": [
    "# Appending new user to dataframe"
   ]
  },
  {
   "cell_type": "markdown",
   "metadata": {},
   "source": [
    "Appending new item to dataframe"
   ]
  },
  {
   "cell_type": "code",
   "execution_count": 611,
   "metadata": {},
   "outputs": [],
   "source": [
    "def csr_vappend(a,b):\n",
    "    \"\"\" Takes in 2 csr_matrices and appends the second one to the bottom of the first one. \n",
    "    Much faster than scipy.sparse.vstack but assumes the type to be csr and overwrites\n",
    "    the first matrix instead of copying it. The data, indices, and indptr still get copied.\"\"\"\n",
    "\n",
    "    a.data = np.hstack((a.data,b.data))\n",
    "    a.indices = np.hstack((a.indices,b.indices))\n",
    "    a.indptr = np.hstack((a.indptr,(b.indptr + a.nnz)[1:]))\n",
    "    a._shape = (a.shape[0]+b.shape[0],b.shape[1])\n",
    "    return a"
   ]
  },
  {
   "cell_type": "code",
   "execution_count": 631,
   "metadata": {},
   "outputs": [],
   "source": [
    "new_user_hike_dict = {}\n",
    "for hike in hike_user_rating_matrix_bool_filtered3.columns:\n",
    "    new_user_hike_dict[hike] = 0\n",
    "\n",
    "new_user_hike_dict['Taft Point and The Fissures'] = 1.0\n",
    "insert_dict = {'new user': new_user_hike_dict}"
   ]
  },
  {
   "cell_type": "code",
   "execution_count": 716,
   "metadata": {},
   "outputs": [],
   "source": [
    "initial_matrix = sparse.csr_matrix(hike_user_rating_matrix_bool_filtered3)\n",
    "insert_matrix = sparse.csr_matrix(pd.DataFrame(insert_dict).T)"
   ]
  },
  {
   "cell_type": "code",
   "execution_count": 717,
   "metadata": {},
   "outputs": [],
   "source": [
    "test_stack = csr_vappend(initial_matrix, insert_matrix)"
   ]
  },
  {
   "cell_type": "markdown",
   "metadata": {},
   "source": [
    "Note: new_user will have user_index = initial_matrix._shape + 1"
   ]
  },
  {
   "cell_type": "markdown",
   "metadata": {},
   "source": [
    "# Get user features based on hikes rated"
   ]
  },
  {
   "cell_type": "code",
   "execution_count": 134,
   "metadata": {},
   "outputs": [],
   "source": [
    "hike_data = pd.read_pickle('hike_data_filtered_190124')"
   ]
  },
  {
   "cell_type": "code",
   "execution_count": 135,
   "metadata": {},
   "outputs": [],
   "source": [
    "nz_entries = hike_data[hike_data>0].stack()"
   ]
  },
  {
   "cell_type": "code",
   "execution_count": 136,
   "metadata": {},
   "outputs": [],
   "source": [
    "for user in nz_entries.index.get_level_values(0).unique(): # each unique user\n",
    "    rated_hikes = hike_data.loc[user] # dataframe containing rated hikes\n",
    "        "
   ]
  },
  {
   "cell_type": "code",
   "execution_count": 138,
   "metadata": {},
   "outputs": [
    {
     "data": {
      "text/html": [
       "<div>\n",
       "<style scoped>\n",
       "    .dataframe tbody tr th:only-of-type {\n",
       "        vertical-align: middle;\n",
       "    }\n",
       "\n",
       "    .dataframe tbody tr th {\n",
       "        vertical-align: top;\n",
       "    }\n",
       "\n",
       "    .dataframe thead th {\n",
       "        text-align: right;\n",
       "    }\n",
       "</style>\n",
       "<table border=\"1\" class=\"dataframe\">\n",
       "  <thead>\n",
       "    <tr style=\"text-align: right;\">\n",
       "      <th></th>\n",
       "      <th>easy</th>\n",
       "      <th>hard</th>\n",
       "      <th>hike_distance</th>\n",
       "      <th>hike_elevation</th>\n",
       "      <th>loop</th>\n",
       "      <th>moderate</th>\n",
       "      <th>out_and_back</th>\n",
       "      <th>point_to_point</th>\n",
       "    </tr>\n",
       "  </thead>\n",
       "  <tbody>\n",
       "    <tr>\n",
       "      <th>Woods, Winnemucca, and Round Top Lakes</th>\n",
       "      <td>0.0</td>\n",
       "      <td>0.0</td>\n",
       "      <td>4.9</td>\n",
       "      <td>1272.0</td>\n",
       "      <td>1.0</td>\n",
       "      <td>1.0</td>\n",
       "      <td>0.0</td>\n",
       "      <td>0.0</td>\n",
       "    </tr>\n",
       "    <tr>\n",
       "      <th>Canyon View Loop Trail</th>\n",
       "      <td>0.0</td>\n",
       "      <td>0.0</td>\n",
       "      <td>3.6</td>\n",
       "      <td>623.0</td>\n",
       "      <td>1.0</td>\n",
       "      <td>1.0</td>\n",
       "      <td>0.0</td>\n",
       "      <td>0.0</td>\n",
       "    </tr>\n",
       "    <tr>\n",
       "      <th>Big Meadow to Dardanelles Lake via Tahoe Rim Trail</th>\n",
       "      <td>0.0</td>\n",
       "      <td>0.0</td>\n",
       "      <td>7.3</td>\n",
       "      <td>1358.0</td>\n",
       "      <td>0.0</td>\n",
       "      <td>1.0</td>\n",
       "      <td>1.0</td>\n",
       "      <td>0.0</td>\n",
       "    </tr>\n",
       "    <tr>\n",
       "      <th>Bayview Trail to Velma Lakes</th>\n",
       "      <td>0.0</td>\n",
       "      <td>0.0</td>\n",
       "      <td>9.9</td>\n",
       "      <td>2378.0</td>\n",
       "      <td>0.0</td>\n",
       "      <td>1.0</td>\n",
       "      <td>1.0</td>\n",
       "      <td>0.0</td>\n",
       "    </tr>\n",
       "    <tr>\n",
       "      <th>Bump and Grind Trail</th>\n",
       "      <td>0.0</td>\n",
       "      <td>0.0</td>\n",
       "      <td>3.9</td>\n",
       "      <td>1108.0</td>\n",
       "      <td>1.0</td>\n",
       "      <td>1.0</td>\n",
       "      <td>0.0</td>\n",
       "      <td>0.0</td>\n",
       "    </tr>\n",
       "    <tr>\n",
       "      <th>Lost Palms Oasis</th>\n",
       "      <td>0.0</td>\n",
       "      <td>0.0</td>\n",
       "      <td>7.2</td>\n",
       "      <td>1026.0</td>\n",
       "      <td>0.0</td>\n",
       "      <td>1.0</td>\n",
       "      <td>1.0</td>\n",
       "      <td>0.0</td>\n",
       "    </tr>\n",
       "  </tbody>\n",
       "</table>\n",
       "</div>"
      ],
      "text/plain": [
       "                                                    easy  hard  hike_distance  \\\n",
       "Woods, Winnemucca, and Round Top Lakes               0.0   0.0            4.9   \n",
       "Canyon View Loop Trail                               0.0   0.0            3.6   \n",
       "Big Meadow to Dardanelles Lake via Tahoe Rim Trail   0.0   0.0            7.3   \n",
       "Bayview Trail to Velma Lakes                         0.0   0.0            9.9   \n",
       "Bump and Grind Trail                                 0.0   0.0            3.9   \n",
       "Lost Palms Oasis                                     0.0   0.0            7.2   \n",
       "\n",
       "                                                    hike_elevation  loop  \\\n",
       "Woods, Winnemucca, and Round Top Lakes                      1272.0   1.0   \n",
       "Canyon View Loop Trail                                       623.0   1.0   \n",
       "Big Meadow to Dardanelles Lake via Tahoe Rim Trail          1358.0   0.0   \n",
       "Bayview Trail to Velma Lakes                                2378.0   0.0   \n",
       "Bump and Grind Trail                                        1108.0   1.0   \n",
       "Lost Palms Oasis                                            1026.0   0.0   \n",
       "\n",
       "                                                    moderate  out_and_back  \\\n",
       "Woods, Winnemucca, and Round Top Lakes                   1.0           0.0   \n",
       "Canyon View Loop Trail                                   1.0           0.0   \n",
       "Big Meadow to Dardanelles Lake via Tahoe Rim Trail       1.0           1.0   \n",
       "Bayview Trail to Velma Lakes                             1.0           1.0   \n",
       "Bump and Grind Trail                                     1.0           0.0   \n",
       "Lost Palms Oasis                                         1.0           1.0   \n",
       "\n",
       "                                                    point_to_point  \n",
       "Woods, Winnemucca, and Round Top Lakes                         0.0  \n",
       "Canyon View Loop Trail                                         0.0  \n",
       "Big Meadow to Dardanelles Lake via Tahoe Rim Trail             0.0  \n",
       "Bayview Trail to Velma Lakes                                   0.0  \n",
       "Bump and Grind Trail                                           0.0  \n",
       "Lost Palms Oasis                                               0.0  "
      ]
     },
     "execution_count": 138,
     "metadata": {},
     "output_type": "execute_result"
    }
   ],
   "source": [
    "hikes_features_df.loc[nz_entries[' Bill Friedman'].index]"
   ]
  },
  {
   "cell_type": "code",
   "execution_count": 1284,
   "metadata": {},
   "outputs": [],
   "source": [
    "median_dist = hikes_features_df.loc[nz_entries[' Bill Friedman'].index, 'hike_distance'].median()\n",
    "median_elev = hikes_features_df.loc[nz_entries[' Bill Friedman'].index, 'hike_elevation'].median()"
   ]
  },
  {
   "cell_type": "code",
   "execution_count": null,
   "metadata": {},
   "outputs": [],
   "source": []
  },
  {
   "cell_type": "code",
   "execution_count": null,
   "metadata": {},
   "outputs": [],
   "source": []
  },
  {
   "cell_type": "code",
   "execution_count": null,
   "metadata": {},
   "outputs": [],
   "source": []
  },
  {
   "cell_type": "code",
   "execution_count": null,
   "metadata": {},
   "outputs": [],
   "source": []
  },
  {
   "cell_type": "markdown",
   "metadata": {},
   "source": [
    "# Visualizations"
   ]
  },
  {
   "cell_type": "markdown",
   "metadata": {},
   "source": [
    "Distribution of Ratings"
   ]
  },
  {
   "cell_type": "code",
   "execution_count": 252,
   "metadata": {},
   "outputs": [],
   "source": [
    "from collections import Counter"
   ]
  },
  {
   "cell_type": "code",
   "execution_count": 248,
   "metadata": {},
   "outputs": [],
   "source": [
    "rating_list = hike_data['user_ratings'].sum()"
   ]
  },
  {
   "cell_type": "code",
   "execution_count": 257,
   "metadata": {},
   "outputs": [],
   "source": [
    "rating_list_counter = Counter(rating_list)"
   ]
  },
  {
   "cell_type": "code",
   "execution_count": 265,
   "metadata": {},
   "outputs": [],
   "source": [
    "ratings_values, ratings_count = rating_list_counter.keys(), rating_list_counter.values()"
   ]
  },
  {
   "cell_type": "code",
   "execution_count": 1493,
   "metadata": {},
   "outputs": [
    {
     "data": {
      "image/png": "[encoded data removed]",
      "text/plain": [
       "<Figure size 432x288 with 1 Axes>"
      ]
     },
     "metadata": {},
     "output_type": "display_data"
    }
   ],
   "source": [
    "sns.set()\n",
    "plt.bar(ratings_values, ratings_count)\n",
    "plt.xlabel('Hike Rating')\n",
    "plt.ylabel('Count')\n",
    "plt.title('Distribution of Hike Ratings')\n",
    "plt.savefig('Distribution of Hike Ratings.png', dpi=300, bbox_inches='tight');"
   ]
  },
  {
   "cell_type": "markdown",
   "metadata": {},
   "source": [
    "Number of ratings"
   ]
  },
  {
   "cell_type": "code",
   "execution_count": 240,
   "metadata": {},
   "outputs": [],
   "source": [
    "rated_or_not = convert_to_binary(hike_user_rating_matrix, 0.5)"
   ]
  },
  {
   "cell_type": "code",
   "execution_count": 246,
   "metadata": {},
   "outputs": [
    {
     "name": "stdout",
     "output_type": "stream",
     "text": [
      "Number of ratings: 222987.\n",
      "Number of no-ratings 552755043.\n"
     ]
    }
   ],
   "source": [
    "rated = rated_or_not.values.sum()\n",
    "not_rated = rated_or_not.shape[0] * rated_or_not.shape[1] - rated\n",
    "\n",
    "print('Number of ratings: ' + str(int(rated)) + '.')\n",
    "print('Number of no-ratings ' + str(int(not_rated)) + '.')"
   ]
  },
  {
   "cell_type": "code",
   "execution_count": 1110,
   "metadata": {},
   "outputs": [],
   "source": [
    "num_ratings_per_hike = hike_user_rating_matrix_bool.apply(sum)"
   ]
  },
  {
   "cell_type": "code",
   "execution_count": 1111,
   "metadata": {},
   "outputs": [],
   "source": [
    "x=[]\n",
    "y=[]\n",
    "for number in range(100):\n",
    "    count = 0\n",
    "    for num_hikes in num_ratings_per_hike.values:\n",
    "        if num_hikes > number:\n",
    "            count += 1\n",
    "    x.append(number)\n",
    "    y.append(count)"
   ]
  },
  {
   "cell_type": "code",
   "execution_count": 1115,
   "metadata": {},
   "outputs": [
    {
     "data": {
      "image/png": "[encoded data removed]",
      "text/plain": [
       "<Figure size 432x288 with 1 Axes>"
      ]
     },
     "metadata": {},
     "output_type": "display_data"
    }
   ],
   "source": [
    "plt.plot(x, y)\n",
    "plt.xlabel('Number of Hikes')\n",
    "plt.ylabel('Number of Reviews')\n",
    "plt.title('Number of hikes with at least number of reviews')\n",
    "plt.savefig('NumReviews vs. NumHikes.png', dpi=300, bbox_inches='tight')"
   ]
  },
  {
   "cell_type": "code",
   "execution_count": 1116,
   "metadata": {},
   "outputs": [],
   "source": [
    "num_ratings_per_user = hike_user_rating_matrix_bool.apply(sum, axis=1)"
   ]
  },
  {
   "cell_type": "code",
   "execution_count": 1117,
   "metadata": {},
   "outputs": [],
   "source": [
    "x=[]\n",
    "y=[]\n",
    "for number in range(100):\n",
    "    count = 0\n",
    "    for num_rating in num_ratings_per_user.values:\n",
    "        if num_rating > number:\n",
    "            count += 1\n",
    "    x.append(number)\n",
    "    y.append(count)"
   ]
  },
  {
   "cell_type": "code",
   "execution_count": 1118,
   "metadata": {},
   "outputs": [
    {
     "data": {
      "image/png": "[encoded data removed]",
      "text/plain": [
       "<Figure size 432x288 with 1 Axes>"
      ]
     },
     "metadata": {},
     "output_type": "display_data"
    }
   ],
   "source": [
    "plt.plot(x, y)\n",
    "plt.xlabel('Number of Users')\n",
    "plt.ylabel('Number of Reviews')\n",
    "plt.title('Number of users with at least number of reviews')\n",
    "plt.savefig('NumReviews vs. NumUsers.png', dpi=300, bbox_inches='tight')"
   ]
  },
  {
   "cell_type": "markdown",
   "metadata": {},
   "source": [
    "# NLP"
   ]
  },
  {
   "cell_type": "code",
   "execution_count": 100,
   "metadata": {},
   "outputs": [
    {
     "name": "stdout",
     "output_type": "stream",
     "text": [
      "[nltk_data] Downloading package stopwords to\n",
      "[nltk_data]     /Users/stefanheinze/nltk_data...\n",
      "[nltk_data]   Package stopwords is already up-to-date!\n"
     ]
    }
   ],
   "source": [
    "import string\n",
    "import re\n",
    "import spacy\n",
    "import gensim\n",
    "from gensim.utils import simple_preprocess\n",
    "from gensim.models import Word2Vec\n",
    "\n",
    "import nltk\n",
    "nltk.download('stopwords')\n",
    "from nltk.corpus import stopwords\n",
    "\n",
    "stop_words = stopwords.words('english')\n",
    "punctuation = string.punctuation"
   ]
  },
  {
   "cell_type": "code",
   "execution_count": 101,
   "metadata": {},
   "outputs": [],
   "source": [
    "example = ' '.join(hike_data.loc[0, 'user_texts'])\n",
    "example = re.sub(\"\"\"[{}]\"\"\".format(punctuation), '', example) # get rid of punctuation\n",
    "example = re.sub('\\s{2,10}', ' ', example) # remove extra whitespace\n",
    "example = example.lower() # make lower case"
   ]
  },
  {
   "cell_type": "code",
   "execution_count": 102,
   "metadata": {},
   "outputs": [
    {
     "data": {
      "text/plain": [
       "'incredible hike i would do this again although i wouldnt try to be daring due to the recent death th'"
      ]
     },
     "execution_count": 102,
     "metadata": {},
     "output_type": "execute_result"
    }
   ],
   "source": [
    "example[:100]"
   ]
  },
  {
   "cell_type": "code",
   "execution_count": 103,
   "metadata": {},
   "outputs": [],
   "source": [
    "example_words = gensim.utils.simple_preprocess(example, deacc=True)"
   ]
  },
  {
   "cell_type": "code",
   "execution_count": 105,
   "metadata": {},
   "outputs": [],
   "source": [
    "def remove_stopwords(word_list):\n",
    "    #return [[word for word in example_words if word not in stop_words] for doc in texts]\n",
    "    return [ word for word in word_list if word not in stop_words ]"
   ]
  },
  {
   "cell_type": "code",
   "execution_count": 106,
   "metadata": {},
   "outputs": [],
   "source": [
    "example_words_filt = remove_stopwords(example_words)"
   ]
  },
  {
   "cell_type": "code",
   "execution_count": 110,
   "metadata": {},
   "outputs": [],
   "source": [
    "nlp = spacy.load('en', disable=['parser', 'ner'])\n",
    "\n",
    "def lemmatization(string, allowed_postags=['NOUN', 'ADJ', 'VERB', 'ADV']):\n",
    "    \"\"\"https://spacy.io/api/annotation\"\"\"\n",
    "    texts_out = [] \n",
    "    texts_out.append([token.lemma_ for token in nlp(string) if token.pos_ in allowed_postags])\n",
    "    \n",
    "    return texts_out"
   ]
  },
  {
   "cell_type": "code",
   "execution_count": 111,
   "metadata": {},
   "outputs": [],
   "source": [
    "lemmatized = lemmatization(' '.join(example_words_filt))"
   ]
  },
  {
   "cell_type": "code",
   "execution_count": 117,
   "metadata": {},
   "outputs": [
    {
     "data": {
      "text/plain": [
       "(400000, 100)"
      ]
     },
     "execution_count": 117,
     "metadata": {},
     "output_type": "execute_result"
    }
   ],
   "source": [
    "from gensim.scripts.glove2word2vec import glove2word2vec\n",
    "glove_input_file = 'glove.6B.100d.txt'\n",
    "word2vec_output_file = 'glove.6B.100d.txt.word2vec'\n",
    "glove2word2vec(glove_input_file, word2vec_output_file)"
   ]
  },
  {
   "cell_type": "code",
   "execution_count": 118,
   "metadata": {},
   "outputs": [],
   "source": [
    "from gensim.models import KeyedVectors\n",
    "# load the Stanford GloVe model\n",
    "filename = 'glove.6B.100d.txt.word2vec'\n",
    "model = KeyedVectors.load_word2vec_format(filename, binary=False)"
   ]
  },
  {
   "cell_type": "markdown",
   "metadata": {},
   "source": [
    "## Reviews to array"
   ]
  },
  {
   "cell_type": "code",
   "execution_count": 181,
   "metadata": {},
   "outputs": [],
   "source": [
    "def review2vec(review):\n",
    "    vec = np.array([0]*100, dtype='float64')\n",
    "    for word in review:\n",
    "        try:\n",
    "            word_vec = model[word]\n",
    "            vec += word_vec\n",
    "        except KeyError:\n",
    "            pass\n",
    "        \n",
    "    av_vec = vec / len(review) \n",
    "    return av_vec"
   ]
  },
  {
   "cell_type": "code",
   "execution_count": 263,
   "metadata": {},
   "outputs": [],
   "source": [
    "def reviews2array(reviews):\n",
    "    num_hikes = len(reviews)\n",
    "    #vectorized_reviews = np.ndarray((num_hikes, 100))\n",
    "    vectorized_reviews = []\n",
    "    for index, review in enumerate(reviews):\n",
    "        #vectorized_reviews[index] = review2vec(review)\n",
    "        vectorized_reviews.append(review2vec(review))\n",
    "    \n",
    "    return vectorized_reviews"
   ]
  },
  {
   "cell_type": "code",
   "execution_count": 218,
   "metadata": {},
   "outputs": [],
   "source": [
    "hike_reviews = hike_data['user_texts'].apply(' '.join)\n",
    "hike_reviews = hike_reviews.str.replace(\"\"\"[{}]\"\"\".format(punctuation), '')\n",
    "hike_reviews = hike_reviews.str.replace('\\s{2,10}', ' ')\n",
    "hike_reviews = hike_reviews.str.lower()\n",
    "hike_reviews = hike_reviews.apply(gensim.utils.simple_preprocess)\n",
    "hike_reviews = hike_reviews.apply(remove_stopwords)"
   ]
  },
  {
   "cell_type": "code",
   "execution_count": 264,
   "metadata": {},
   "outputs": [
    {
     "name": "stderr",
     "output_type": "stream",
     "text": [
      "/Users/stefanheinze/anaconda3/envs/insight/lib/python3.7/site-packages/ipykernel_launcher.py:10: RuntimeWarning: invalid value encountered in true_divide\n",
      "  # Remove the CWD from sys.path while we load stuff.\n"
     ]
    }
   ],
   "source": [
    "reviews_array = reviews2array(hike_reviews)"
   ]
  },
  {
   "cell_type": "code",
   "execution_count": 269,
   "metadata": {},
   "outputs": [],
   "source": [
    "hike_data['vect_rev'] = pd.Series(reviews_array)"
   ]
  },
  {
   "cell_type": "code",
   "execution_count": 293,
   "metadata": {},
   "outputs": [],
   "source": [
    "def find_most_similar(rev_vec_series, item_index):\n",
    "    similarity_list = []\n",
    "    item_vect_rev = rev_vec_series[item_index]\n",
    "    for index in np.delete(np.arange(0, len(hike_data)), item_index):\n",
    "        similarity_list.append((index, rev_vec_series[index].dot(item_vect_rev)))\n",
    "\n",
    "    return similarity_list"
   ]
  },
  {
   "cell_type": "code",
   "execution_count": 307,
   "metadata": {},
   "outputs": [],
   "source": [
    "sim_list_test = find_most_similar(hike_data['vect_rev'], 64)"
   ]
  },
  {
   "cell_type": "code",
   "execution_count": 308,
   "metadata": {},
   "outputs": [
    {
     "data": {
      "text/plain": [
       "(376, 10.856210699569532)"
      ]
     },
     "execution_count": 308,
     "metadata": {},
     "output_type": "execute_result"
    }
   ],
   "source": [
    "sorted(sim_list_test, key=lambda x: x[1], reverse=True)[0]"
   ]
  },
  {
   "cell_type": "code",
   "execution_count": 309,
   "metadata": {},
   "outputs": [
    {
     "data": {
      "text/plain": [
       "hike_name                                            Burma Road Trail\n",
       "hike_difficulty                                              MODERATE\n",
       "hike_distance                                               4.7 miles\n",
       "hike_elevation                                               994 feet\n",
       "hike_type                                                  Out & Back\n",
       "hike_tags           [dogs on leash, kid friendly, birding, hiking,...\n",
       "hike_description    Burma Road Trail  is a 4.7 mile moderately tra...\n",
       "user_names          [Dava Choi, Anthony Myers, Janeece M., Summer ...\n",
       "user_hrefs          [/members/dava-choi, /members/anthony-myers-4,...\n",
       "user_texts          [Great view. Nice hike., Great views, nice hik...\n",
       "user_ratings        [5, 5, 5, 5, 3, 5, 5, 5, 5, 3, 3, 5, 5, 4, 5, ...\n",
       "user_dates          [2019-01-03 00:00:00, 2018-05-26 00:00:00, 201...\n",
       "vect_rev            [-0.13030253938399255, 0.2535805183276534, 0.3...\n",
       "Name: 376, dtype: object"
      ]
     },
     "execution_count": 309,
     "metadata": {},
     "output_type": "execute_result"
    }
   ],
   "source": [
    "hike_data.iloc[376]"
   ]
  },
  {
   "cell_type": "code",
   "execution_count": 360,
   "metadata": {},
   "outputs": [
    {
     "data": {
      "text/html": [
       "<div>\n",
       "<style scoped>\n",
       "    .dataframe tbody tr th:only-of-type {\n",
       "        vertical-align: middle;\n",
       "    }\n",
       "\n",
       "    .dataframe tbody tr th {\n",
       "        vertical-align: top;\n",
       "    }\n",
       "\n",
       "    .dataframe thead th {\n",
       "        text-align: right;\n",
       "    }\n",
       "</style>\n",
       "<table border=\"1\" class=\"dataframe\">\n",
       "  <thead>\n",
       "    <tr style=\"text-align: right;\">\n",
       "      <th></th>\n",
       "      <th>hike_name</th>\n",
       "      <th>hike_difficulty</th>\n",
       "      <th>hike_distance</th>\n",
       "      <th>hike_elevation</th>\n",
       "      <th>hike_type</th>\n",
       "      <th>hike_tags</th>\n",
       "      <th>hike_description</th>\n",
       "      <th>user_names</th>\n",
       "      <th>user_hrefs</th>\n",
       "      <th>user_texts</th>\n",
       "      <th>user_ratings</th>\n",
       "      <th>user_dates</th>\n",
       "      <th>vect_rev</th>\n",
       "    </tr>\n",
       "  </thead>\n",
       "  <tbody>\n",
       "    <tr>\n",
       "      <th>142</th>\n",
       "      <td>General Grant Loop Trail</td>\n",
       "      <td>EASY</td>\n",
       "      <td>0.5 miles</td>\n",
       "      <td>29 feet</td>\n",
       "      <td>Loop</td>\n",
       "      <td>[wheelchair friendly, kid friendly, stroller f...</td>\n",
       "      <td>General Grant Loop Trail is a 0.5 mile heavily...</td>\n",
       "      <td>[Jim F, Shayla S, Sam@ NationalParksTrails, MA...</td>\n",
       "      <td>[/members/calicanes, /members/shayla-brown-5, ...</td>\n",
       "      <td>[Not much of a hike but some amazing Redwoods,...</td>\n",
       "      <td>[5, 4, 4, 5, 5, 5, 5, 5, 5, 5, 5, 5, 5, 5, 3, ...</td>\n",
       "      <td>[2018-11-11 00:00:00, 2018-10-16 00:00:00, 201...</td>\n",
       "      <td>[-0.10695524348130513, 0.3126886366544278, 0.2...</td>\n",
       "    </tr>\n",
       "    <tr>\n",
       "      <th>3878</th>\n",
       "      <td>General Creek</td>\n",
       "      <td>EASY</td>\n",
       "      <td>3.0 miles</td>\n",
       "      <td>150 feet</td>\n",
       "      <td>Out &amp; Back</td>\n",
       "      <td>[hiking, nature trips, trail running, walking]</td>\n",
       "      <td>General Creek is a 3 mile moderately trafficke...</td>\n",
       "      <td>[Brandi McPherson, Rob Cromar, Brian D'Andrea,...</td>\n",
       "      <td>[/members/brandi-mcpherson, /members/rob-croma...</td>\n",
       "      <td>[, , , ]</td>\n",
       "      <td>[3, 5, 5, 4]</td>\n",
       "      <td>[2018-12-28 00:00:00, 2018-11-24 00:00:00, 201...</td>\n",
       "      <td>[nan, nan, nan, nan, nan, nan, nan, nan, nan, ...</td>\n",
       "    </tr>\n",
       "    <tr>\n",
       "      <th>5308</th>\n",
       "      <td>General Sherman Tree Trail</td>\n",
       "      <td>EASY</td>\n",
       "      <td>0.8 miles</td>\n",
       "      <td>154 feet</td>\n",
       "      <td>Out &amp; Back</td>\n",
       "      <td>[wheelchair friendly, kid friendly, stroller f...</td>\n",
       "      <td>General Sherman Tree Trail is a 0.8 mile heavi...</td>\n",
       "      <td>[Sam Kreis, Suzanna Ruelas, Joey Castillo, Geo...</td>\n",
       "      <td>[/members/sam-kreis, /members/suzanna-ruelas-1...</td>\n",
       "      <td>[It was cool to see the biggest tree in the wo...</td>\n",
       "      <td>[2, 5, 1, 5, 2, 4, 4, 4, 4, 4, 5, 4, 4, 5, 4, ...</td>\n",
       "      <td>[2019-01-10 00:00:00, 2018-12-31 00:00:00, 201...</td>\n",
       "      <td>[-0.12752579056722668, 0.29628783964134325, 0....</td>\n",
       "    </tr>\n",
       "  </tbody>\n",
       "</table>\n",
       "</div>"
      ],
      "text/plain": [
       "                       hike_name hike_difficulty hike_distance hike_elevation  \\\n",
       "142     General Grant Loop Trail            EASY     0.5 miles        29 feet   \n",
       "3878               General Creek            EASY     3.0 miles       150 feet   \n",
       "5308  General Sherman Tree Trail            EASY     0.8 miles       154 feet   \n",
       "\n",
       "       hike_type                                          hike_tags  \\\n",
       "142         Loop  [wheelchair friendly, kid friendly, stroller f...   \n",
       "3878  Out & Back     [hiking, nature trips, trail running, walking]   \n",
       "5308  Out & Back  [wheelchair friendly, kid friendly, stroller f...   \n",
       "\n",
       "                                       hike_description  \\\n",
       "142   General Grant Loop Trail is a 0.5 mile heavily...   \n",
       "3878  General Creek is a 3 mile moderately trafficke...   \n",
       "5308  General Sherman Tree Trail is a 0.8 mile heavi...   \n",
       "\n",
       "                                             user_names  \\\n",
       "142   [Jim F, Shayla S, Sam@ NationalParksTrails, MA...   \n",
       "3878  [Brandi McPherson, Rob Cromar, Brian D'Andrea,...   \n",
       "5308  [Sam Kreis, Suzanna Ruelas, Joey Castillo, Geo...   \n",
       "\n",
       "                                             user_hrefs  \\\n",
       "142   [/members/calicanes, /members/shayla-brown-5, ...   \n",
       "3878  [/members/brandi-mcpherson, /members/rob-croma...   \n",
       "5308  [/members/sam-kreis, /members/suzanna-ruelas-1...   \n",
       "\n",
       "                                             user_texts  \\\n",
       "142   [Not much of a hike but some amazing Redwoods,...   \n",
       "3878                                           [, , , ]   \n",
       "5308  [It was cool to see the biggest tree in the wo...   \n",
       "\n",
       "                                           user_ratings  \\\n",
       "142   [5, 4, 4, 5, 5, 5, 5, 5, 5, 5, 5, 5, 5, 5, 3, ...   \n",
       "3878                                       [3, 5, 5, 4]   \n",
       "5308  [2, 5, 1, 5, 2, 4, 4, 4, 4, 4, 5, 4, 4, 5, 4, ...   \n",
       "\n",
       "                                             user_dates  \\\n",
       "142   [2018-11-11 00:00:00, 2018-10-16 00:00:00, 201...   \n",
       "3878  [2018-12-28 00:00:00, 2018-11-24 00:00:00, 201...   \n",
       "5308  [2019-01-10 00:00:00, 2018-12-31 00:00:00, 201...   \n",
       "\n",
       "                                               vect_rev  \n",
       "142   [-0.10695524348130513, 0.3126886366544278, 0.2...  \n",
       "3878  [nan, nan, nan, nan, nan, nan, nan, nan, nan, ...  \n",
       "5308  [-0.12752579056722668, 0.29628783964134325, 0....  "
      ]
     },
     "execution_count": 360,
     "metadata": {},
     "output_type": "execute_result"
    }
   ],
   "source": [
    "hike_data[hike_data['hike_name'].str.contains('General')]"
   ]
  },
  {
   "cell_type": "code",
   "execution_count": 362,
   "metadata": {},
   "outputs": [],
   "source": [
    "word_vec = model['general']\n",
    "similarity_list = []\n",
    "for index in np.arange(0, len(hike_data)):\n",
    "    similarity_list.append((index, hike_data['vect_rev'][index].dot(word_vec)))"
   ]
  },
  {
   "cell_type": "code",
   "execution_count": 363,
   "metadata": {},
   "outputs": [
    {
     "data": {
      "text/plain": [
       "[(694, 9.965930058825501),\n",
       " (1062, 9.599591474957245),\n",
       " (376, 9.530373870153332),\n",
       " (518, 9.473391842386679),\n",
       " (1092, 9.434391302166258),\n",
       " (57, 9.33796626178188),\n",
       " (168, 9.312606189865567),\n",
       " (596, 9.305459514716691),\n",
       " (1086, 9.291528375486656),\n",
       " (450, 9.252814680451166)]"
      ]
     },
     "execution_count": 363,
     "metadata": {},
     "output_type": "execute_result"
    }
   ],
   "source": [
    "sorted(similarity_list, key=lambda x: x[1], reverse=True)[:10]"
   ]
  },
  {
   "cell_type": "code",
   "execution_count": 364,
   "metadata": {},
   "outputs": [
    {
     "name": "stdout",
     "output_type": "stream",
     "text": [
      "South Plateau Trail to Bird Island\n",
      "Glendora Mountain Way Trail\n",
      "Burma Road Trail\n",
      "Castle Rock Peak\n",
      "Crafts Peak Trail\n",
      "Vernal Falls\n",
      "Indian Joe Nature, Indian Joe Creek, Cave Rocks Road, High Valley Road, Flag Hill Road, Flag Hill Trails\n",
      "Twin Peaks Trail\n",
      "Down and Up Trail Loop\n",
      "Coastal and Fox Trails Loop\n"
     ]
    }
   ],
   "source": [
    "for item in sorted(similarity_list, key=lambda x: x[1], reverse=True)[:10]:\n",
    "    print(hike_data.loc[item[0], 'hike_name'])"
   ]
  },
  {
   "cell_type": "markdown",
   "metadata": {},
   "source": [
    "## Inputing item_features to LightFM model"
   ]
  },
  {
   "cell_type": "code",
   "execution_count": 461,
   "metadata": {},
   "outputs": [],
   "source": [
    "df = pd.read_pickle('hike_data_filtered_190124') # get interaction data\n",
    "hike_data_name_index = hike_data.set_index('hike_name') # set index of full dataset to hike name\n",
    "df = hike_data_name_index.loc[df.columns] # limit df to those hikes in interaction matrix\n",
    "df = df[~df.index.duplicated(keep='last')]\n",
    "item_features = df['vect_rev'].to_dict()"
   ]
  },
  {
   "cell_type": "code",
   "execution_count": 462,
   "metadata": {},
   "outputs": [],
   "source": [
    "dataset = data.Dataset() # Instantiate class\n",
    "dataset.fit(users=(user for user in df.index),\n",
    "            items=(item for item in df.columns),\n",
    "            item_features=range(100)) # Create users and items from df\n",
    "num_users, num_items = dataset.interactions_shape() # Get shape\n",
    "interaction_list = list(df[df > 0].stack().index) # Get interaction pairs\n",
    "interactions, weights = dataset.build_interactions((x[0], x[1]) for x in interaction_list) # Build interactions"
   ]
  },
  {
   "cell_type": "code",
   "execution_count": 466,
   "metadata": {},
   "outputs": [],
   "source": [
    "for key, values in item_features.items():\n",
    "    [ key, [ value for value in values ]]\n",
    "    break"
   ]
  },
  {
   "cell_type": "code",
   "execution_count": 395,
   "metadata": {},
   "outputs": [
    {
     "ename": "ValueError",
     "evalue": "Expected tuples of (item_id, features), got Taft Point and The Fissures.",
     "output_type": "error",
     "traceback": [
      "\u001b[0;31m---------------------------------------------------------------------------\u001b[0m",
      "\u001b[0;31mValueError\u001b[0m                                Traceback (most recent call last)",
      "\u001b[0;32m<ipython-input-395-45045f9351a9>\u001b[0m in \u001b[0;36m<module>\u001b[0;34m\u001b[0m\n\u001b[0;32m----> 1\u001b[0;31m \u001b[0mfeature_matrix\u001b[0m \u001b[0;34m=\u001b[0m \u001b[0mdataset\u001b[0m\u001b[0;34m.\u001b[0m\u001b[0mbuild_item_features\u001b[0m\u001b[0;34m(\u001b[0m\u001b[0mitem_features\u001b[0m\u001b[0;34m)\u001b[0m \u001b[0;31m# Build item feature matrix\u001b[0m\u001b[0;34m\u001b[0m\u001b[0;34m\u001b[0m\u001b[0m\n\u001b[0m",
      "\u001b[0;32m~/anaconda3/envs/insight/lib/python3.7/site-packages/lightfm/data.py\u001b[0m in \u001b[0;36mbuild_item_features\u001b[0;34m(self, data, normalize)\u001b[0m\n\u001b[1;32m    399\u001b[0m         )\n\u001b[1;32m    400\u001b[0m \u001b[0;34m\u001b[0m\u001b[0m\n\u001b[0;32m--> 401\u001b[0;31m         \u001b[0;32mreturn\u001b[0m \u001b[0mbuilder\u001b[0m\u001b[0;34m.\u001b[0m\u001b[0mbuild\u001b[0m\u001b[0;34m(\u001b[0m\u001b[0mdata\u001b[0m\u001b[0;34m)\u001b[0m\u001b[0;34m\u001b[0m\u001b[0;34m\u001b[0m\u001b[0m\n\u001b[0m\u001b[1;32m    402\u001b[0m \u001b[0;34m\u001b[0m\u001b[0m\n\u001b[1;32m    403\u001b[0m     \u001b[0;32mdef\u001b[0m \u001b[0mmodel_dimensions\u001b[0m\u001b[0;34m(\u001b[0m\u001b[0mself\u001b[0m\u001b[0;34m)\u001b[0m\u001b[0;34m:\u001b[0m\u001b[0;34m\u001b[0m\u001b[0;34m\u001b[0m\u001b[0m\n",
      "\u001b[0;32m~/anaconda3/envs/insight/lib/python3.7/site-packages/lightfm/data.py\u001b[0m in \u001b[0;36mbuild\u001b[0;34m(self, data)\u001b[0m\n\u001b[1;32m    115\u001b[0m \u001b[0;34m\u001b[0m\u001b[0m\n\u001b[1;32m    116\u001b[0m         \u001b[0;32mfor\u001b[0m \u001b[0mdatum\u001b[0m \u001b[0;32min\u001b[0m \u001b[0mdata\u001b[0m\u001b[0;34m:\u001b[0m\u001b[0;34m\u001b[0m\u001b[0;34m\u001b[0m\u001b[0m\n\u001b[0;32m--> 117\u001b[0;31m             \u001b[0;32mfor\u001b[0m \u001b[0;34m(\u001b[0m\u001b[0mentity_idx\u001b[0m\u001b[0;34m,\u001b[0m \u001b[0mfeature_idx\u001b[0m\u001b[0;34m,\u001b[0m \u001b[0mweight\u001b[0m\u001b[0;34m)\u001b[0m \u001b[0;32min\u001b[0m \u001b[0mself\u001b[0m\u001b[0;34m.\u001b[0m\u001b[0m_process_features\u001b[0m\u001b[0;34m(\u001b[0m\u001b[0mdatum\u001b[0m\u001b[0;34m)\u001b[0m\u001b[0;34m:\u001b[0m\u001b[0;34m\u001b[0m\u001b[0;34m\u001b[0m\u001b[0m\n\u001b[0m\u001b[1;32m    118\u001b[0m                 \u001b[0mfeatures\u001b[0m\u001b[0;34m.\u001b[0m\u001b[0mappend\u001b[0m\u001b[0;34m(\u001b[0m\u001b[0mentity_idx\u001b[0m\u001b[0;34m,\u001b[0m \u001b[0mfeature_idx\u001b[0m\u001b[0;34m,\u001b[0m \u001b[0mweight\u001b[0m\u001b[0;34m)\u001b[0m\u001b[0;34m\u001b[0m\u001b[0;34m\u001b[0m\u001b[0m\n\u001b[1;32m    119\u001b[0m \u001b[0;34m\u001b[0m\u001b[0m\n",
      "\u001b[0;32m~/anaconda3/envs/insight/lib/python3.7/site-packages/lightfm/data.py\u001b[0m in \u001b[0;36m_process_features\u001b[0;34m(self, datum)\u001b[0m\n\u001b[1;32m     82\u001b[0m         \u001b[0;32mif\u001b[0m \u001b[0mlen\u001b[0m\u001b[0;34m(\u001b[0m\u001b[0mdatum\u001b[0m\u001b[0;34m)\u001b[0m \u001b[0;34m!=\u001b[0m \u001b[0;36m2\u001b[0m\u001b[0;34m:\u001b[0m\u001b[0;34m\u001b[0m\u001b[0;34m\u001b[0m\u001b[0m\n\u001b[1;32m     83\u001b[0m             raise ValueError(\n\u001b[0;32m---> 84\u001b[0;31m                 \u001b[0;34m\"Expected tuples of ({}_id, features), \"\u001b[0m \u001b[0;34m\"got {}.\"\u001b[0m\u001b[0;34m.\u001b[0m\u001b[0mformat\u001b[0m\u001b[0;34m(\u001b[0m\u001b[0mself\u001b[0m\u001b[0;34m.\u001b[0m\u001b[0m_entity_type\u001b[0m\u001b[0;34m,\u001b[0m \u001b[0mdatum\u001b[0m\u001b[0;34m)\u001b[0m\u001b[0;34m\u001b[0m\u001b[0;34m\u001b[0m\u001b[0m\n\u001b[0m\u001b[1;32m     85\u001b[0m             )\n\u001b[1;32m     86\u001b[0m \u001b[0;34m\u001b[0m\u001b[0m\n",
      "\u001b[0;31mValueError\u001b[0m: Expected tuples of (item_id, features), got Taft Point and The Fissures."
     ]
    }
   ],
   "source": [
    "feature_matrix = dataset.build_item_features(item_features) # Build item feature matrix"
   ]
  },
  {
   "cell_type": "code",
   "execution_count": 388,
   "metadata": {},
   "outputs": [],
   "source": [
    "item_features = hike_data[['hike_name', 'vect_rev']].set_index('hike_name').to_dict()['vect_rev']"
   ]
  },
  {
   "cell_type": "code",
   "execution_count": 401,
   "metadata": {},
   "outputs": [
    {
     "ename": "TypeError",
     "evalue": "unhashable type: 'numpy.ndarray'",
     "output_type": "error",
     "traceback": [
      "\u001b[0;31m---------------------------------------------------------------------------\u001b[0m",
      "\u001b[0;31mTypeError\u001b[0m                                 Traceback (most recent call last)",
      "\u001b[0;32m<ipython-input-401-6d47d1600861>\u001b[0m in \u001b[0;36m<module>\u001b[0;34m\u001b[0m\n\u001b[0;32m----> 1\u001b[0;31m \u001b[0;34m[\u001b[0m \u001b[0;34m(\u001b[0m\u001b[0mitem_features\u001b[0m\u001b[0;34m[\u001b[0m\u001b[0mkey\u001b[0m\u001b[0;34m]\u001b[0m\u001b[0;34m,\u001b[0m \u001b[0mitem_features\u001b[0m\u001b[0;34m[\u001b[0m\u001b[0mvalue\u001b[0m\u001b[0;34m]\u001b[0m\u001b[0;34m)\u001b[0m \u001b[0;32mfor\u001b[0m \u001b[0mkey\u001b[0m\u001b[0;34m,\u001b[0m \u001b[0mvalue\u001b[0m \u001b[0;32min\u001b[0m \u001b[0mitem_features\u001b[0m\u001b[0;34m.\u001b[0m\u001b[0mitems\u001b[0m\u001b[0;34m(\u001b[0m\u001b[0;34m)\u001b[0m \u001b[0;34m]\u001b[0m\u001b[0;34m\u001b[0m\u001b[0;34m\u001b[0m\u001b[0m\n\u001b[0m",
      "\u001b[0;32m<ipython-input-401-6d47d1600861>\u001b[0m in \u001b[0;36m<listcomp>\u001b[0;34m(.0)\u001b[0m\n\u001b[0;32m----> 1\u001b[0;31m \u001b[0;34m[\u001b[0m \u001b[0;34m(\u001b[0m\u001b[0mitem_features\u001b[0m\u001b[0;34m[\u001b[0m\u001b[0mkey\u001b[0m\u001b[0;34m]\u001b[0m\u001b[0;34m,\u001b[0m \u001b[0mitem_features\u001b[0m\u001b[0;34m[\u001b[0m\u001b[0mvalue\u001b[0m\u001b[0;34m]\u001b[0m\u001b[0;34m)\u001b[0m \u001b[0;32mfor\u001b[0m \u001b[0mkey\u001b[0m\u001b[0;34m,\u001b[0m \u001b[0mvalue\u001b[0m \u001b[0;32min\u001b[0m \u001b[0mitem_features\u001b[0m\u001b[0;34m.\u001b[0m\u001b[0mitems\u001b[0m\u001b[0;34m(\u001b[0m\u001b[0;34m)\u001b[0m \u001b[0;34m]\u001b[0m\u001b[0;34m\u001b[0m\u001b[0;34m\u001b[0m\u001b[0m\n\u001b[0m",
      "\u001b[0;31mTypeError\u001b[0m: unhashable type: 'numpy.ndarray'"
     ]
    }
   ],
   "source": [
    "[ (item_features[key], item_features[value]) for key, value in item_features.items() ]"
   ]
  }
 ],
 "metadata": {
  "kernelspec": {
   "display_name": "Python 3",
   "language": "python",
   "name": "python3"
  },
  "language_info": {
   "codemirror_mode": {
    "name": "ipython",
    "version": 3
   },
   "file_extension": ".py",
   "mimetype": "text/x-python",
   "name": "python",
   "nbconvert_exporter": "python",
   "pygments_lexer": "ipython3",
   "version": "3.7.1"
  }
 },
 "nbformat": 4,
 "nbformat_minor": 2
}
