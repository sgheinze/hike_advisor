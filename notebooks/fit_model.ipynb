{
 "cells": [
  {
   "cell_type": "markdown",
   "metadata": {},
   "source": [
    "<font size=10> **Introduction** </font>\n",
    "\n",
    "The primary function of this notebook was to:\n",
    "\n",
    "-  Clean/preprocess raw data scraped from AllTrails (see scrape_data for details of how the data was scraped)\n",
    "-  Train a collaborative filtering recommendation system\n",
    "-  Train a hybrid collaborative filtering and content-based recommendation system. \n",
    "-  Tune hyperparameters of the models in order to maximize performance.\n",
    "\n",
    "The python module LightFM was utilized to build the recommendation system models. "
   ]
  },
  {
   "cell_type": "markdown",
   "metadata": {},
   "source": [
    "<font size=10> **Import Libraries** </font><"
   ]
  },
  {
   "cell_type": "code",
   "execution_count": 2,
   "metadata": {},
   "outputs": [
    {
     "name": "stderr",
     "output_type": "stream",
     "text": [
      "/Users/stefanheinze/anaconda3/envs/insight/lib/python3.7/site-packages/lightfm/_lightfm_fast.py:9: UserWarning: LightFM was compiled without OpenMP support. Only a single thread will be used.\n",
      "  warnings.warn('LightFM was compiled without OpenMP support. '\n"
     ]
    }
   ],
   "source": [
    "import pandas as pd\n",
    "import numpy as np\n",
    "import matplotlib.pyplot as plt\n",
    "import seaborn as sns\n",
    "from scipy.sparse import coo_matrix\n",
    "from scipy import sparse\n",
    "import collections\n",
    "from lightfm import LightFM\n",
    "from lightfm import data\n",
    "from lightfm import cross_validation\n",
    "from lightfm.cross_validation import random_train_test_split\n",
    "from lightfm.evaluation import auc_score\n",
    "from lightfm.evaluation import precision_at_k\n",
    "from numpy import dot\n",
    "from numpy.linalg import norm\n",
    "\n",
    "%matplotlib inline\n",
    "sns.set()"
   ]
  },
  {
   "cell_type": "markdown",
   "metadata": {},
   "source": [
    "<font size=10> **Import hike data** </font>"
   ]
  },
  {
   "cell_type": "markdown",
   "metadata": {},
   "source": [
    "Here we import the raw data scraped from the AllTrails website."
   ]
  },
  {
   "cell_type": "code",
   "execution_count": 3,
   "metadata": {},
   "outputs": [
    {
     "data": {
      "text/html": [
       "<div>\n",
       "<style scoped>\n",
       "    .dataframe tbody tr th:only-of-type {\n",
       "        vertical-align: middle;\n",
       "    }\n",
       "\n",
       "    .dataframe tbody tr th {\n",
       "        vertical-align: top;\n",
       "    }\n",
       "\n",
       "    .dataframe thead th {\n",
       "        text-align: right;\n",
       "    }\n",
       "</style>\n",
       "<table border=\"1\" class=\"dataframe\">\n",
       "  <thead>\n",
       "    <tr style=\"text-align: right;\">\n",
       "      <th></th>\n",
       "      <th>hike_name</th>\n",
       "      <th>hike_difficulty</th>\n",
       "      <th>hike_distance</th>\n",
       "      <th>hike_elevation</th>\n",
       "      <th>hike_type</th>\n",
       "      <th>hike_tags</th>\n",
       "      <th>hike_description</th>\n",
       "      <th>user_names</th>\n",
       "      <th>user_hrefs</th>\n",
       "      <th>user_texts</th>\n",
       "      <th>user_ratings</th>\n",
       "      <th>user_dates</th>\n",
       "    </tr>\n",
       "  </thead>\n",
       "  <tbody>\n",
       "    <tr>\n",
       "      <th>0</th>\n",
       "      <td>Taft Point and The Fissures - California\\n |...</td>\n",
       "      <td>EASY</td>\n",
       "      <td>2.3 miles</td>\n",
       "      <td>374 feet</td>\n",
       "      <td>Out &amp; Back</td>\n",
       "      <td>[kid friendly, birding, hiking, horseback ridi...</td>\n",
       "      <td>Taft Point and The Fissures is a 2.3 mile mode...</td>\n",
       "      <td>[Soua Lee, Jeff Allen, Nicole Edmonds, Marie K...</td>\n",
       "      <td>[/members/soua-lee-3, /members/jeff-allen-41, ...</td>\n",
       "      <td>[Incredible hike! I would do this again althou...</td>\n",
       "      <td>[5, 4, 5, 4, 1, 5, 5, 4, 5, 5, 5, 5, 5, 5, 5, ...</td>\n",
       "      <td>[2018-11-13 00:00:00, 2018-11-05 00:00:00, 201...</td>\n",
       "    </tr>\n",
       "  </tbody>\n",
       "</table>\n",
       "</div>"
      ],
      "text/plain": [
       "                                           hike_name hike_difficulty  \\\n",
       "0    Taft Point and The Fissures - California\\n |...            EASY   \n",
       "\n",
       "  hike_distance hike_elevation   hike_type  \\\n",
       "0     2.3 miles       374 feet  Out & Back   \n",
       "\n",
       "                                           hike_tags  \\\n",
       "0  [kid friendly, birding, hiking, horseback ridi...   \n",
       "\n",
       "                                    hike_description  \\\n",
       "0  Taft Point and The Fissures is a 2.3 mile mode...   \n",
       "\n",
       "                                          user_names  \\\n",
       "0  [Soua Lee, Jeff Allen, Nicole Edmonds, Marie K...   \n",
       "\n",
       "                                          user_hrefs  \\\n",
       "0  [/members/soua-lee-3, /members/jeff-allen-41, ...   \n",
       "\n",
       "                                          user_texts  \\\n",
       "0  [Incredible hike! I would do this again althou...   \n",
       "\n",
       "                                        user_ratings  \\\n",
       "0  [5, 4, 5, 4, 1, 5, 5, 4, 5, 5, 5, 5, 5, 5, 5, ...   \n",
       "\n",
       "                                          user_dates  \n",
       "0  [2018-11-13 00:00:00, 2018-11-05 00:00:00, 201...  "
      ]
     },
     "execution_count": 3,
     "metadata": {},
     "output_type": "execute_result"
    }
   ],
   "source": [
    "hike_data = pd.read_pickle('../data/all_hike_data')\n",
    "hike_data.head(1)"
   ]
  },
  {
   "cell_type": "code",
   "execution_count": 5,
   "metadata": {},
   "outputs": [
    {
     "name": "stdout",
     "output_type": "stream",
     "text": [
      "The shape of the hike_data dataframe is 5367 (hikes) by 12 (features).\n"
     ]
    }
   ],
   "source": [
    "print('The shape of the hike_data dataframe is {} (hikes) by {} (features).'.format(hike_data.shape[0], hike_data.shape[1]))"
   ]
  },
  {
   "cell_type": "markdown",
   "metadata": {},
   "source": [
    "<font size=6> **Data Wrangling** </u></font>"
   ]
  },
  {
   "cell_type": "markdown",
   "metadata": {},
   "source": [
    "In this section, we convert the raw data into a form that will be useful for our eventual hybrid collaborative filtering and content-based recommendation system. This includes:\n",
    "-  (1) Removing unwanted text from the hike names.\n",
    "-  (2) Building the interactions matrix from the user reviews."
   ]
  },
  {
   "cell_type": "markdown",
   "metadata": {},
   "source": [
    " <font size=6> 1. Correct hike names </font>"
   ]
  },
  {
   "cell_type": "markdown",
   "metadata": {},
   "source": [
    "The hike_name column in the hike_data dataframe contains the text \"California | AllTrails\" appended to the end of the name, as well as some newline characters. We should remove these for clarity."
   ]
  },
  {
   "cell_type": "code",
   "execution_count": 8,
   "metadata": {},
   "outputs": [],
   "source": [
    "def correct_hike_names(df):\n",
    "    '''Removes \"California | AllTrails\" text from hike names, as well as new line characters.\n",
    "    \n",
    "    Returns: Nothing. Replaces the hike_name column with a new column where the strings are fixed.'''\n",
    "    \n",
    "    df['hike_name'] = df['hike_name'].str.replace('\\n', '').str.replace('- California \\| AllTrails', '').str.strip()"
   ]
  },
  {
   "cell_type": "code",
   "execution_count": 9,
   "metadata": {},
   "outputs": [],
   "source": [
    "correct_hike_names(hike_data)"
   ]
  },
  {
   "cell_type": "markdown",
   "metadata": {},
   "source": [
    "Let's print the first five hikes and make sure that the \"California | AllTrails\" text and newline characters are removed. "
   ]
  },
  {
   "cell_type": "code",
   "execution_count": 7,
   "metadata": {},
   "outputs": [
    {
     "data": {
      "text/plain": [
       "0               Taft Point and The Fissures\n",
       "1    Aliso Creek and Wood Canyon Loop Trail\n",
       "2                Upper Natural Bridge Trail\n",
       "3                        Lake Miramar Trail\n",
       "4                    McGinty Mountain Trail\n",
       "5                   San Antonio Falls Trail\n",
       "Name: hike_name, dtype: object"
      ]
     },
     "execution_count": 7,
     "metadata": {},
     "output_type": "execute_result"
    }
   ],
   "source": [
    "hike_data.loc[:5, 'hike_name']"
   ]
  },
  {
   "cell_type": "markdown",
   "metadata": {},
   "source": [
    "All looks good, so let's move on."
   ]
  },
  {
   "cell_type": "markdown",
   "metadata": {},
   "source": [
    "<font size=6> 2. Filter data and build interaction matrix </font>"
   ]
  },
  {
   "cell_type": "code",
   "execution_count": 10,
   "metadata": {},
   "outputs": [],
   "source": [
    "def gen_collabfilt_matrix(df):\n",
    "    '''Generates an interaction matrix for collaborative filtering from the raw AllTrails dataframe (df). \n",
    "    Note that each interaction will be a rating from 1-5.\n",
    "    \n",
    "    Returns: Interaction matrix as pandas DataFrame.'''\n",
    "    \n",
    "    # Initialize dictionary where each key will be the name of a hike and the associated value will itself be a dictionary \n",
    "    # where each key is a user that rated the hike and each value is the associated rating.\n",
    "    hike_user_rating_dict = {} \n",
    "    \n",
    "    # Grab relevant information from each hike, construct the {user_name: user_rating} dictionary, and add it to hike_user_rating_dict.\n",
    "    for hike_index in range(df.shape[0]):\n",
    "        hike_name = df.loc[hike_index, 'hike_name'] \n",
    "        user_names = df.loc[hike_index, 'user_names'] # This is a list\n",
    "        user_ratings = df.loc[hike_index, 'user_ratings'] # This is a list\n",
    "        \n",
    "        # Construct {user_name: user_rating} dictionary by looping through user_names and user_ratings.\n",
    "        user_rating_dict = {} \n",
    "        for user_index in range(len(user_names)): \n",
    "            user_rating_dict[user_names[user_index]] = user_ratings[user_index] \n",
    "        \n",
    "        # Add user_rating_dict to hike_user_rating_dict\n",
    "        hike_user_rating_dict[hike_name] = user_rating_dict\n",
    "    \n",
    "    return pd.DataFrame(hike_user_rating_dict, dtype='int')"
   ]
  },
  {
   "cell_type": "markdown",
   "metadata": {},
   "source": [
    "Now we can generate the interaction matrix using gen_collabfilt_matrix."
   ]
  },
  {
   "cell_type": "code",
   "execution_count": 11,
   "metadata": {},
   "outputs": [],
   "source": [
    "hike_user_rating_matrix = gen_collabfilt_matrix(hike_data)"
   ]
  },
  {
   "cell_type": "markdown",
   "metadata": {},
   "source": [
    "The current interaction matrix has ratings from 1-5, but we would like to convert this to 1 or 0 (interacted with the hike or did not interact with the hike, respectively. We need to create a function to binarize the 1-5 scale to 1 or 0."
   ]
  },
  {
   "cell_type": "code",
   "execution_count": 12,
   "metadata": {},
   "outputs": [],
   "source": [
    "def convert_to_binary(df, cutoff):\n",
    "    '''Threshold an interaction matrix such that if a rating is below a certain value, the value is changed to 0;\n",
    "    otherwise the value is changed to 1. A \"1\" indicates that there is a positive interaction between the user-item pair and\n",
    "    a \"0\" indicates there is no interaction between the user-item pair.\n",
    "    \n",
    "    Returns: Thresholded interaction matrix as pandas DataFrame.'''\n",
    "    \n",
    "    df = df.fillna(0)\n",
    "    df[df < cutoff] = 0\n",
    "    df[df > cutoff] = 1\n",
    "    \n",
    "    return df"
   ]
  },
  {
   "cell_type": "markdown",
   "metadata": {},
   "source": [
    "Now we can binarize the interaction matrix uxing convert_to_binary. We'll use a cutoff of 2.5, meaning that a rating of 3 or above will be considered as a positive interaction for the interaction matrix."
   ]
  },
  {
   "cell_type": "code",
   "execution_count": 13,
   "metadata": {},
   "outputs": [],
   "source": [
    "df = convert_to_binary(hike_user_rating_matrix, 2.5)"
   ]
  },
  {
   "cell_type": "markdown",
   "metadata": {},
   "source": [
    "Now that we have a binarized interaction matrix, we are going to filter out some of our data. For instance, it would not be great to include hikes that have no ratings or users that have only rated a single hike. In order to see what effect this filtering process has on the data, let's construct a function that returns some basic stats about the filtered dataframe."
   ]
  },
  {
   "cell_type": "code",
   "execution_count": 16,
   "metadata": {},
   "outputs": [],
   "source": [
    "def get_basic_stats(df):\n",
    "    '''Prints the number of hikes, number of unique users, number of ratings, and sparsity (percentage of entries that are 1) \n",
    "    of the interaction matrix. Assumes that the matrix has already been binarized (only contains 1s and 0s).'''\n",
    "\n",
    "    num_users = df.shape[0]\n",
    "    num_hikes = df.shape[1]\n",
    "    num_ratings = df.values.sum()\n",
    "    sparsity = num_ratings / (num_hikes * num_users) * 100\n",
    "\n",
    "    print('Number of hikes: ' + str(num_hikes))\n",
    "    print('Number of users: ' + str(num_users))\n",
    "    print('Number of ratings: {:.0f}'.format(num_ratings))\n",
    "    print('Sparsity = {:4.2f}%'.format(sparsity))"
   ]
  },
  {
   "cell_type": "markdown",
   "metadata": {},
   "source": [
    "What are the stats for the interaction matrix before filtering?"
   ]
  },
  {
   "cell_type": "code",
   "execution_count": 15,
   "metadata": {},
   "outputs": [
    {
     "name": "stdout",
     "output_type": "stream",
     "text": [
      "Number of hikes: 5295\n",
      "Number of users: 104434\n",
      "Number of ratings: 217146\n",
      "Sparsity = 0.04%\n"
     ]
    }
   ],
   "source": [
    "get_basic_stats(df)"
   ]
  },
  {
   "cell_type": "markdown",
   "metadata": {},
   "source": [
    "Let's start by filtering any user that has less than 5 reviews."
   ]
  },
  {
   "cell_type": "code",
   "execution_count": 96,
   "metadata": {},
   "outputs": [],
   "source": [
    "df = df[df.apply(np.sum, axis=1) > 4.5]"
   ]
  },
  {
   "cell_type": "code",
   "execution_count": 97,
   "metadata": {},
   "outputs": [
    {
     "name": "stdout",
     "output_type": "stream",
     "text": [
      "Number of hikes: 5295\n",
      "Number of users: 8630\n",
      "Number of ratings: 77481\n",
      "Sparsity = 0.17%\n"
     ]
    }
   ],
   "source": [
    "get_basic_stats(df)"
   ]
  },
  {
   "cell_type": "markdown",
   "metadata": {},
   "source": [
    "Filtering any user with less than 5 reviews removed ~96,000 users (92% of users) and 140,000+ reviews (64% of reviews).\n",
    "Now let's filter any hike that has no ratings."
   ]
  },
  {
   "cell_type": "code",
   "execution_count": 98,
   "metadata": {},
   "outputs": [],
   "source": [
    "df = df.loc[:, (df != 0).any(axis=0)]"
   ]
  },
  {
   "cell_type": "code",
   "execution_count": 130,
   "metadata": {},
   "outputs": [
    {
     "name": "stdout",
     "output_type": "stream",
     "text": [
      "Number of hikes: 4615\n",
      "Number of users: 8630\n",
      "Number of ratings: 77481\n",
      "Sparsity = 0.19%\n"
     ]
    }
   ],
   "source": [
    "get_basic_stats(df)"
   ]
  },
  {
   "cell_type": "markdown",
   "metadata": {},
   "source": [
    "Approximately 700 hikes had no reviews."
   ]
  },
  {
   "cell_type": "markdown",
   "metadata": {},
   "source": [
    "Let's save the column names and filtered interaction matrix for future use."
   ]
  },
  {
   "cell_type": "code",
   "execution_count": 131,
   "metadata": {},
   "outputs": [],
   "source": [
    "pd.Series(df.columns).to_pickle('column_names_190129')\n",
    "df.to_pickle('hike_data_filtered_190129')"
   ]
  },
  {
   "cell_type": "markdown",
   "metadata": {},
   "source": [
    "<font size=10> **Build Collaborative Filtering Model** </font> "
   ]
  },
  {
   "cell_type": "markdown",
   "metadata": {},
   "source": [
    "In this section, we utilize the interaction matrix built in the previous section in order to build a purely collaborative filtering based recommendation system."
   ]
  },
  {
   "cell_type": "markdown",
   "metadata": {},
   "source": [
    "<font size=6> 1. Build model </font>"
   ]
  },
  {
   "cell_type": "code",
   "execution_count": 692,
   "metadata": {},
   "outputs": [],
   "source": [
    "def lightfm_implicit_matrix(df):\n",
    "    '''Utilizes the interaction matrix (df) from the previous section to create Dataset and Interactions LightFM objects, \n",
    "    which are needed to train a recommendation system model.\n",
    "    \n",
    "    Returns: (Dataset, Interactions) tuple, the latter as a sparse matrix (CSR)'''\n",
    "    \n",
    "    dataset = data.Dataset()\n",
    "    dataset.fit((user for user in df.index),\n",
    "                (item for item in df.columns)) # Creates mappings for users and items within LightFM\n",
    "    num_users, num_items = dataset.interactions_shape() \n",
    "    interaction_list = list(df[df > 0].stack().index) # Get user-item pairs for positive interactions\n",
    "    interactions, weights = dataset.build_interactions((x[0], x[1]) for x in interaction_list) # Build Interactions object within LightFM\n",
    "    \n",
    "    return dataset, interactions\n",
    "\n",
    "def lightfm_train(train, num_components, num_epochs):\n",
    "    '''Train a LightFM collaborative filtering model from a training set.\n",
    "    \n",
    "    Returns: LightFM recommendation system model.'''\n",
    "    \n",
    "    # Set parameters for model\n",
    "    NUM_THREADS = 1\n",
    "    NUM_COMPONENTS = num_components\n",
    "    NUM_EPOCHS = num_epochs\n",
    "    ITEM_ALPHA = 1e-6 # Recommended by LightFM\n",
    "\n",
    "    # Let's fit a WARP model: these generally have the best performance.\n",
    "    model = LightFM(loss='warp',\n",
    "                    item_alpha=ITEM_ALPHA,\n",
    "                    no_components=NUM_COMPONENTS)\n",
    "\n",
    "    # Fit model\n",
    "    model = model.fit(train, epochs=NUM_EPOCHS, num_threads=NUM_THREADS)\n",
    "    \n",
    "    return model"
   ]
  },
  {
   "cell_type": "markdown",
   "metadata": {},
   "source": [
    "Load in the saved interaction matrix"
   ]
  },
  {
   "cell_type": "code",
   "execution_count": 693,
   "metadata": {},
   "outputs": [],
   "source": [
    "interaction_matrix = pd.read_pickle('../data/less_filtered/hike_data_filtered_190129')"
   ]
  },
  {
   "cell_type": "markdown",
   "metadata": {},
   "source": [
    "Let's train a LightFM collaborative fitlering model"
   ]
  },
  {
   "cell_type": "code",
   "execution_count": 694,
   "metadata": {},
   "outputs": [],
   "source": [
    "dataset, interactions = lightfm_implicit_matrix(interaction_matrix)\n",
    "train, test = cross_validation.random_train_test_split(interactions, test_percentage=0.2, random_state=np.random.RandomState(seed=1)) # Create train/test set\n",
    "model = lightfm_train(train, 30, 30)"
   ]
  },
  {
   "cell_type": "markdown",
   "metadata": {},
   "source": [
    "Now that we have a model, let's compute and print the AUC score on the training set."
   ]
  },
  {
   "cell_type": "code",
   "execution_count": 159,
   "metadata": {},
   "outputs": [
    {
     "name": "stdout",
     "output_type": "stream",
     "text": [
      "Collaborative filtering train AUC: 0.99702007\n"
     ]
    }
   ],
   "source": [
    "train_auc = auc_score(model=model, test_interactions=train, num_threads=1).mean()\n",
    "print('Collaborative filtering train AUC: %s' % train_auc)"
   ]
  },
  {
   "cell_type": "markdown",
   "metadata": {},
   "source": [
    "Let's compute and print the AUC score on the test set. Note that we pass in the train_interactions to exclude them from the predictions. This is to simulate a recommender system where we do not re-recommend things the user has already interacted with in the training set."
   ]
  },
  {
   "cell_type": "code",
   "execution_count": 160,
   "metadata": {},
   "outputs": [
    {
     "name": "stdout",
     "output_type": "stream",
     "text": [
      "Collaborative filtering test AUC: 0.9138105\n"
     ]
    }
   ],
   "source": [
    "test_auc = auc_score(model=model, test_interactions=test, train_interactions=train, num_threads=1).mean()\n",
    "print('Collaborative filtering test AUC: %s' % test_auc)"
   ]
  },
  {
   "cell_type": "markdown",
   "metadata": {},
   "source": [
    "The AUC suggests that the model is performing well. Another metric that is commonly utilized to validate recommendation systems is precision-at-k, which calculates, on average across all users, the fraction of recommended items that the users have positive interactions with. Note that this excludes items that have been used in the training set."
   ]
  },
  {
   "cell_type": "code",
   "execution_count": 104,
   "metadata": {},
   "outputs": [
    {
     "name": "stdout",
     "output_type": "stream",
     "text": [
      "Precision at k = 1 is 0.074\n",
      "Precision at k = 2 is 0.067\n",
      "Precision at k = 3 is 0.061\n",
      "Precision at k = 4 is 0.056\n",
      "Precision at k = 5 is 0.052\n",
      "Precision at k = 6 is 0.049\n",
      "Precision at k = 7 is 0.047\n",
      "Precision at k = 8 is 0.044\n",
      "Precision at k = 9 is 0.043\n",
      "Precision at k = 10 is 0.041\n"
     ]
    }
   ],
   "source": [
    "for k in range(1,11):\n",
    "    precision = precision_at_k(model, test_interactions=test, train_interactions=train, k=k).mean()\n",
    "    print('Precision at k = {} is {:.3f}'.format(k, precision))"
   ]
  },
  {
   "cell_type": "markdown",
   "metadata": {},
   "source": [
    "The precision-at-k drops monotonically with increasing k, as should be expected. Let's compare the precision-at-5 against two baselines, one where the most popular hikes are predicted and one where hikes are randomly recommended."
   ]
  },
  {
   "cell_type": "markdown",
   "metadata": {},
   "source": [
    "To compute the baseline precision-at-5 where the most popular hikes are recommended we need to know:\n",
    "\n",
    "-  The number of positive interactions for the 5 most popular hikes. (1)\n",
    "-  The number of users in the interaction matrix. (2)   \n",
    "\n",
    "The baseline value will be (1) / ((2) * 5). The 5 in this equations exists since 5 hikes are being recommended to each user."
   ]
  },
  {
   "cell_type": "code",
   "execution_count": 697,
   "metadata": {},
   "outputs": [
    {
     "data": {
      "text/plain": [
       "0.04757821552723059"
      ]
     },
     "execution_count": 697,
     "metadata": {},
     "output_type": "execute_result"
    }
   ],
   "source": [
    "interaction_matrix.apply(np.sum).sort_values(ascending=False)[:5].sum() / (df.shape[0]*5)"
   ]
  },
  {
   "cell_type": "markdown",
   "metadata": {},
   "source": [
    "To compute the baseline where hikes are randomly recommended we need to know:\n",
    "\n",
    "-  The total number of positive interactions in the interactions matrix (1)\n",
    "-  The total number of possible user-item pairs (2)\n",
    "\n",
    "The value (1) / (2) gives the fraction of positive interactions (e.g. 1s) in the interactions matrix (also called the sparsity). This value times 5 should be the expected value for randomly recommending 5 hikes to the users."
   ]
  },
  {
   "cell_type": "code",
   "execution_count": 698,
   "metadata": {},
   "outputs": [
    {
     "data": {
      "text/plain": [
       "0.0019454170427682415"
      ]
     },
     "execution_count": 698,
     "metadata": {},
     "output_type": "execute_result"
    }
   ],
   "source": [
    "interaction_matrix.apply(np.sum).sum() / (interaction_matrix.shape[0] * interaction_matrix.shape[1]) * 5"
   ]
  },
  {
   "cell_type": "markdown",
   "metadata": {},
   "source": [
    "Based on the precision-at-5, our model performs comparably to recommending the most popular hikes to each user and much better than recommending random hikes to each user. "
   ]
  },
  {
   "cell_type": "markdown",
   "metadata": {},
   "source": [
    "<font size=6> 2. Tune hyperparameters </font>"
   ]
  },
  {
   "cell_type": "markdown",
   "metadata": {},
   "source": [
    "In this section we quickly tune the hyperparameters of our model. We optimize the following hyperparameters:\n",
    "-  number of components\n",
    "-  number of epochs\n",
    "-  learning rate"
   ]
  },
  {
   "cell_type": "markdown",
   "metadata": {},
   "source": [
    "We start by tuning the number of components and number of epochs."
   ]
  },
  {
   "cell_type": "code",
   "execution_count": 187,
   "metadata": {},
   "outputs": [
    {
     "name": "stdout",
     "output_type": "stream",
     "text": [
      "Starting components = 10\n",
      "Finished components = 10\n",
      "Starting components = 30\n",
      "Finished components = 30\n",
      "Starting components = 50\n",
      "Finished components = 50\n",
      "Starting components = 75\n",
      "Finished components = 75\n",
      "Starting components = 100\n",
      "Finished components = 100\n"
     ]
    }
   ],
   "source": [
    "# The following code fits a LightFM collaborative filtering model for various combinations of number of components and number of epochs.\n",
    "# The precision-at-5 is calculated for each model and the results are stored in a nested list. The first level will contain 5 lists, \n",
    "# one for each unique value of number of components. The second level contains 5 lists, one for each unique value of number of epochs. \n",
    "# These lists have form [num_epochs, precision-at-5]\n",
    "\n",
    "# First level of list\n",
    "components_k_vs_epochs = []\n",
    "\n",
    "for num_components in [10, 30, 50, 75, 100]: \n",
    "    print('Starting components = {}'.format(num_components)) # For monitoring status\n",
    "    \n",
    "    # Second level of list\n",
    "    k_vs_epochs = [] \n",
    "    for num_epochs in np.arange(0, 55, 5):\n",
    "        # Fit model\n",
    "        dataset, interactions = lightfm_implicit_matrix(interaction_matrix)\n",
    "        train, test = cross_validation.random_train_test_split(interactions, test_percentage=0.2, random_state=np.random.RandomState(seed=1))\n",
    "        model = lightfm_train(train, num_components=num_components, num_epochs=num_epochs)\n",
    "        \n",
    "        # Calculate precision-at-5\n",
    "        precision = precision_at_k(model, test_interactions=test, train_interactions=train, k=5).mean()\n",
    "        \n",
    "        # Add results to first level of list\n",
    "        k_vs_epochs.append([num_epochs, precision])\n",
    "        \n",
    "    print('Finished components = {}'.format(num_components)) # For monitoring status\n",
    "    components_k_vs_epochs.append(k_vs_epochs)"
   ]
  },
  {
   "cell_type": "markdown",
   "metadata": {},
   "source": [
    "Great, it worked! Let's visualize our results on a lineplot."
   ]
  },
  {
   "cell_type": "code",
   "execution_count": 188,
   "metadata": {},
   "outputs": [
    {
     "data": {
      "text/plain": [
       "<matplotlib.legend.Legend at 0x1a2fb0b9b0>"
      ]
     },
     "execution_count": 188,
     "metadata": {},
     "output_type": "execute_result"
    },
    {
     "data": {
      "image/png": "[encoded data removed]",
      "text/plain": [
       "<Figure size 504x360 with 1 Axes>"
      ]
     },
     "metadata": {},
     "output_type": "display_data"
    }
   ],
   "source": [
    "plt.figure(figsize=(7,5))\n",
    "num_components = [10, 30, 50, 75, 100]\n",
    "for index in range(len(components_k_vs_epochs)):\n",
    "    plt.plot([ item[0] for item in components_k_vs_epochs[index]], [ item[1] for item in components_k_vs_epochs[index] ], \n",
    "             label=num_components[index])\n",
    "plt.legend()"
   ]
  },
  {
   "cell_type": "markdown",
   "metadata": {},
   "source": [
    "It looks like 30 components are enough, since adding more components doesn't change the precision-at-5. Furthermore only 10 training epochs are required, since the plots flattern out after 10 training epochs."
   ]
  },
  {
   "cell_type": "markdown",
   "metadata": {},
   "source": [
    "Now we do the same exercise for the learning rate instead of the number of components."
   ]
  },
  {
   "cell_type": "code",
   "execution_count": 185,
   "metadata": {},
   "outputs": [
    {
     "name": "stdout",
     "output_type": "stream",
     "text": [
      "Starting learning rate = 0.0001\n",
      "Finished learning rate = 0.0001\n",
      "Starting learning rate = 0.001\n",
      "Finished learning rate = 0.001\n",
      "Starting learning rate = 0.01\n",
      "Finished learning rate = 0.01\n",
      "Starting learning rate = 0.1\n",
      "Finished learning rate = 0.1\n",
      "Starting learning rate = 1\n",
      "Finished learning rate = 1\n"
     ]
    }
   ],
   "source": [
    "# The following code fits a LightFM collaborative filtering model for various combinations of learning rate and number of epochs.\n",
    "# The precision-at-5 is calculated for each model and the results are stored in a nested list. The first level will contain 5 lists, \n",
    "# one for each unique value of learning rate. The second level contains 5 lists, one for each unique value of number of epochs. \n",
    "# These lists have form [num_epochs, precision-at-5]\n",
    "\n",
    "# First level of list\n",
    "learningrate_k_vs_epochs = []\n",
    "\n",
    "for learning_rate in [1e-4, 1e-3, 1e-2, 1e-1, 1]:\n",
    "    print('Starting learning rate = {}'.format(learning_rate)) # For monitoring purposes\n",
    "    \n",
    "    # Second level of list\n",
    "    k_vs_epochs = []\n",
    "    for num_epochs in [5, 10, 15, 20]:\n",
    "        \n",
    "        # Fit model\n",
    "        dataset, interactions = lightfm_implicit_matrix(interaction_matrix)\n",
    "        train, test = cross_validation.random_train_test_split(interactions, test_percentage=0.2, random_state=np.random.RandomState(seed=1))\n",
    "        model = lightfm_train(train, num_components=30, num_epochs=num_epochs)\n",
    "        \n",
    "        # Calculate precision-at-5\n",
    "        precision = precision_at_k(model, test_interactions=test, train_interactions=train, k=5).mean()\n",
    "        \n",
    "        # Add results to first level of list\n",
    "        k_vs_epochs.append([num_epochs, precision])\n",
    "        \n",
    "    print('Finished learning rate = {}'.format(learning_rate))\n",
    "    learningrate_k_vs_epochs.append(k_vs_epochs)    "
   ]
  },
  {
   "cell_type": "markdown",
   "metadata": {},
   "source": [
    "Great! That worked. Let's visualize our results on a lineplot."
   ]
  },
  {
   "cell_type": "code",
   "execution_count": 186,
   "metadata": {},
   "outputs": [
    {
     "data": {
      "text/plain": [
       "<matplotlib.legend.Legend at 0x1a2fa79320>"
      ]
     },
     "execution_count": 186,
     "metadata": {},
     "output_type": "execute_result"
    },
    {
     "data": {
      "image/png": "[encoded data removed]",
      "text/plain": [
       "<Figure size 504x360 with 1 Axes>"
      ]
     },
     "metadata": {},
     "output_type": "display_data"
    }
   ],
   "source": [
    "plt.figure(figsize=(7,5))\n",
    "learning_rate = [1e-4, 1e-3, 1e-2, 1e-1, 1]\n",
    "for index in range(len(learningrate_k_vs_epochs)):\n",
    "    plt.plot([ item[0] for item in learningrate_k_vs_epochs[index]], [ item[1] for item in learningrate_k_vs_epochs[index] ], \n",
    "             label=learning_rate[index])\n",
    "plt.legend()"
   ]
  },
  {
   "cell_type": "markdown",
   "metadata": {},
   "source": [
    "It doesn't look like the learning rate substantially influences the precision-at-5. Also, the plot shows that we should use at least 15 epochs."
   ]
  },
  {
   "cell_type": "markdown",
   "metadata": {},
   "source": [
    "<font size=6> 3. Analyze diversity of recommendations </font>"
   ]
  },
  {
   "cell_type": "markdown",
   "metadata": {},
   "source": [
    "In this section, we analyze the \"diversity of recommendations\" for our collaborative filtering model. The \"diversity of recommendations\"  is the number of unique hikes recommended to all users when k hikes are recommended to each user."
   ]
  },
  {
   "cell_type": "markdown",
   "metadata": {},
   "source": [
    "Let's start by loading in the data."
   ]
  },
  {
   "cell_type": "code",
   "execution_count": 258,
   "metadata": {},
   "outputs": [],
   "source": [
    "interaction_matrix = pd.read_pickle('../data/less_filtered/hike_data_filtered_190129')\n",
    "top_hikes = interaction_matrix.apply(np.sum).sort_values(ascending=False)[:10]"
   ]
  },
  {
   "cell_type": "markdown",
   "metadata": {},
   "source": [
    "We'll need the LightFM mapping for users and items. This will allow us to know the hike names that are being recommended"
   ]
  },
  {
   "cell_type": "code",
   "execution_count": 233,
   "metadata": {},
   "outputs": [],
   "source": [
    "item_map = dataset.mapping()[2] "
   ]
  },
  {
   "cell_type": "markdown",
   "metadata": {},
   "source": [
    "Now we define a function that will convert the index of a LightFM item (hike) to the actual hike name."
   ]
  },
  {
   "cell_type": "code",
   "execution_count": null,
   "metadata": {},
   "outputs": [],
   "source": [
    "def find_item(lfm_map, lfm_index):\n",
    "    '''Converts the LightFM index of an item (hike) to the actual hike name.\n",
    "    \n",
    "    Returns: name of hike associated with LightFM item index.'''\n",
    "    \n",
    "    return [ key for key in lfm_map.keys() if lfm_map[key] == lfm_index ][0]"
   ]
  },
  {
   "cell_type": "code",
   "execution_count": 259,
   "metadata": {},
   "outputs": [],
   "source": [
    "# Create a list of all unique hikes recommended to 100 users when 10 hikes are recommended to those 100 users. \n",
    "\n",
    "hike_names = []\n",
    "for index in range(100): \n",
    "    predictions = model.predict(index, np.arange(interactions._shape[1])) # Predict ranking of each hike for a user\n",
    "    sorted_by_index = (-1*predictions).argsort() # Sort descending\n",
    "\n",
    "    # For top 10 hikes of each user, convert LightFM hike index to hike name\n",
    "    for pred_num in range(10):\n",
    "        hike_name = find_item(item_map, sorted_by_index[pred_num])\n",
    "        hike_names.append(hike_name)"
   ]
  },
  {
   "cell_type": "code",
   "execution_count": 265,
   "metadata": {},
   "outputs": [
    {
     "name": "stdout",
     "output_type": "stream",
     "text": [
      "Number of hikes recommended is: 408.\n",
      "Number of hikes expected if only using top 10 hikes is: 10\n"
     ]
    }
   ],
   "source": [
    "num_hikes_recommended = len(collections.Counter(hike_names).most_common())\n",
    "print('Number of hikes recommended is: {}.\\nNumber of hikes expected if only using top 10 hikes is: 10'.format(num_hikes_recommended))"
   ]
  },
  {
   "cell_type": "markdown",
   "metadata": {},
   "source": [
    "One of the nice things about the collaborative filtering recommendation system is that a much larger set of hikes are recommended to the user base, presumably as a result of each users' preferences."
   ]
  },
  {
   "cell_type": "markdown",
   "metadata": {},
   "source": [
    "<font size=10> Incorporate item features </font>"
   ]
  },
  {
   "cell_type": "markdown",
   "metadata": {},
   "source": [
    "<font size=6> 1. Get unique hike tags </font>"
   ]
  },
  {
   "cell_type": "code",
   "execution_count": 136,
   "metadata": {},
   "outputs": [
    {
     "data": {
      "text/plain": [
       "(5367, 12)"
      ]
     },
     "execution_count": 136,
     "metadata": {},
     "output_type": "execute_result"
    }
   ],
   "source": [
    "hike_data.shape"
   ]
  },
  {
   "cell_type": "code",
   "execution_count": 111,
   "metadata": {},
   "outputs": [],
   "source": [
    "tag_count = dict(collections.Counter(hike_data['hike_tags'].sum()))"
   ]
  },
  {
   "cell_type": "code",
   "execution_count": 112,
   "metadata": {},
   "outputs": [],
   "source": [
    "sorted_by_count = sorted(tag_count.items(), key=lambda x: x[1], reverse=True)"
   ]
  },
  {
   "cell_type": "code",
   "execution_count": 113,
   "metadata": {},
   "outputs": [
    {
     "data": {
      "text/plain": [
       "[('hiking', 4982),\n",
       " ('views', 4612),\n",
       " ('walking', 4027),\n",
       " ('nature trips', 3919),\n",
       " ('birding', 3362)]"
      ]
     },
     "execution_count": 113,
     "metadata": {},
     "output_type": "execute_result"
    }
   ],
   "source": [
    "sorted_by_count[:5]"
   ]
  },
  {
   "cell_type": "code",
   "execution_count": 114,
   "metadata": {},
   "outputs": [],
   "source": [
    "delete_list = ['blowdown','bridge out', 'closed', 'muddy', 'no dogs', 'no shade', 'off road driving', 'off trail',\n",
    "               'paddle sports', 'paved', 'private property', 'rails trails', 'surfing', 'washed out', 'city walk',\n",
    "              'cross country skiing', 'hiking', 'partially paved', 'road biking', 'skiing', 'nature trips', 'snowshoeing',\n",
    "              'dogs on leash']"
   ]
  },
  {
   "cell_type": "code",
   "execution_count": 115,
   "metadata": {},
   "outputs": [
    {
     "data": {
      "text/plain": [
       "['kid friendly', 'birding', 'horseback riding', 'trail running', 'walking']"
      ]
     },
     "execution_count": 115,
     "metadata": {},
     "output_type": "execute_result"
    }
   ],
   "source": [
    "final_tags = list(tag_count.keys())\n",
    "for item in delete_list:\n",
    "    final_tags.remove(item)\n",
    "final_tags[:5]\n",
    "# ADD dog friendly and dog on leash together"
   ]
  },
  {
   "cell_type": "markdown",
   "metadata": {},
   "source": [
    "<font size=6> 2. Get hike features and build feature matrix </font>"
   ]
  },
  {
   "cell_type": "code",
   "execution_count": 116,
   "metadata": {},
   "outputs": [],
   "source": [
    "unique_difficulties = hike_data['hike_difficulty'].unique() # unique hike difficulties\n",
    "unique_types = hike_data['hike_type'].unique() # unique hike_types\n",
    "unique_tags = set(hike_data['hike_tags'].sum())"
   ]
  },
  {
   "cell_type": "code",
   "execution_count": 117,
   "metadata": {},
   "outputs": [],
   "source": [
    "hike_feature_df = hike_data.copy()\n",
    "hike_feature_df['hike_distance'] = hike_feature_df['hike_distance'].str.extract('(\\d+.\\d)'); # extract distance\n",
    "hike_feature_df['hike_elevation'] = hike_feature_df['hike_elevation'].str.replace(',', '').str.extract('(\\d+)')"
   ]
  },
  {
   "cell_type": "code",
   "execution_count": 118,
   "metadata": {},
   "outputs": [],
   "source": [
    "def get_hike_features(df, index):\n",
    "\n",
    "    hike_features_dict = {}\n",
    "    easy = 0\n",
    "    moderate = 0\n",
    "    hard = 0\n",
    "    out_and_back = 0\n",
    "    loop = 0\n",
    "    point_to_point = 0\n",
    "\n",
    "    if df.iloc[index]['hike_difficulty'] == 'EASY':\n",
    "        easy = 1\n",
    "    elif df.iloc[index]['hike_difficulty'] == 'MODERATE':\n",
    "        moderate = 1\n",
    "    else:\n",
    "        hard = 1\n",
    "\n",
    "    if df.iloc[index]['hike_type'] == 'Out & Back':\n",
    "        out_and_back = 1\n",
    "    elif df.iloc[index]['hike_type'] == 'Loop':\n",
    "        loop = 1\n",
    "    else:\n",
    "        point_to_point = 1\n",
    "        \n",
    "    tag_dict = {}\n",
    "    for feature in final_tags:\n",
    "        if feature in hike_data.iloc[index]['hike_tags']:\n",
    "            tag_dict[feature] = 1\n",
    "        else:\n",
    "            tag_dict[feature] = 0\n",
    "    if 'dogs on leash' in hike_data.iloc[index]['hike_tags']:\n",
    "        tag_dict['dog friendly'] = 1\n",
    "        \n",
    "    hike_distance = df.iloc[index]['hike_distance']\n",
    "    hike_elevation = df.iloc[index]['hike_elevation']\n",
    "        \n",
    "    hike_features_dict['difficulty_easy'] = easy\n",
    "    hike_features_dict['difficulty_moderate'] = moderate\n",
    "    hike_features_dict['difficulty_hard'] = hard\n",
    "    hike_features_dict['out_and_back'] = out_and_back\n",
    "    hike_features_dict['loop'] = loop\n",
    "    hike_features_dict['point_to_point'] = point_to_point\n",
    "    hike_features_dict['hike_distance'] = float(hike_distance)\n",
    "    hike_features_dict['hike_elevation'] = float(hike_elevation)\n",
    "    for item in tag_dict.items(): # add tags in dict\n",
    "        hike_features_dict[item[0]] = item[1]\n",
    "    \n",
    "    return hike_features_dict"
   ]
  },
  {
   "cell_type": "code",
   "execution_count": 119,
   "metadata": {},
   "outputs": [],
   "source": [
    "hikes_features = {}\n",
    "for index in hike_feature_df.index:\n",
    "    hike_features_dict = get_hike_features(hike_feature_df, index)\n",
    "    hikes_features[hike_feature_df.iloc[index]['hike_name']] = hike_features_dict"
   ]
  },
  {
   "cell_type": "code",
   "execution_count": 121,
   "metadata": {},
   "outputs": [
    {
     "data": {
      "text/html": [
       "<div>\n",
       "<style scoped>\n",
       "    .dataframe tbody tr th:only-of-type {\n",
       "        vertical-align: middle;\n",
       "    }\n",
       "\n",
       "    .dataframe tbody tr th {\n",
       "        vertical-align: top;\n",
       "    }\n",
       "\n",
       "    .dataframe thead th {\n",
       "        text-align: right;\n",
       "    }\n",
       "</style>\n",
       "<table border=\"1\" class=\"dataframe\">\n",
       "  <thead>\n",
       "    <tr style=\"text-align: right;\">\n",
       "      <th></th>\n",
       "      <th>backpacking</th>\n",
       "      <th>beach</th>\n",
       "      <th>birding</th>\n",
       "      <th>bugs</th>\n",
       "      <th>camping</th>\n",
       "      <th>cave</th>\n",
       "      <th>difficulty_easy</th>\n",
       "      <th>difficulty_hard</th>\n",
       "      <th>difficulty_moderate</th>\n",
       "      <th>dog friendly</th>\n",
       "      <th>...</th>\n",
       "      <th>scramble</th>\n",
       "      <th>snow</th>\n",
       "      <th>stroller friendly</th>\n",
       "      <th>trail running</th>\n",
       "      <th>views</th>\n",
       "      <th>walking</th>\n",
       "      <th>waterfall</th>\n",
       "      <th>wheelchair friendly</th>\n",
       "      <th>wild flowers</th>\n",
       "      <th>wildlife</th>\n",
       "    </tr>\n",
       "  </thead>\n",
       "  <tbody>\n",
       "    <tr>\n",
       "      <th>Taft Point and The Fissures</th>\n",
       "      <td>0.0</td>\n",
       "      <td>0.0</td>\n",
       "      <td>1.0</td>\n",
       "      <td>0.0</td>\n",
       "      <td>0.0</td>\n",
       "      <td>0.0</td>\n",
       "      <td>1.0</td>\n",
       "      <td>0.0</td>\n",
       "      <td>0.0</td>\n",
       "      <td>0.0</td>\n",
       "      <td>...</td>\n",
       "      <td>0.0</td>\n",
       "      <td>0.0</td>\n",
       "      <td>0.0</td>\n",
       "      <td>1.0</td>\n",
       "      <td>1.0</td>\n",
       "      <td>1.0</td>\n",
       "      <td>0.0</td>\n",
       "      <td>0.0</td>\n",
       "      <td>1.0</td>\n",
       "      <td>1.0</td>\n",
       "    </tr>\n",
       "    <tr>\n",
       "      <th>Aliso Creek and Wood Canyon Loop Trail</th>\n",
       "      <td>0.0</td>\n",
       "      <td>0.0</td>\n",
       "      <td>1.0</td>\n",
       "      <td>0.0</td>\n",
       "      <td>0.0</td>\n",
       "      <td>1.0</td>\n",
       "      <td>0.0</td>\n",
       "      <td>0.0</td>\n",
       "      <td>1.0</td>\n",
       "      <td>0.0</td>\n",
       "      <td>...</td>\n",
       "      <td>0.0</td>\n",
       "      <td>0.0</td>\n",
       "      <td>0.0</td>\n",
       "      <td>1.0</td>\n",
       "      <td>1.0</td>\n",
       "      <td>1.0</td>\n",
       "      <td>0.0</td>\n",
       "      <td>0.0</td>\n",
       "      <td>1.0</td>\n",
       "      <td>1.0</td>\n",
       "    </tr>\n",
       "    <tr>\n",
       "      <th>Upper Natural Bridge Trail</th>\n",
       "      <td>0.0</td>\n",
       "      <td>0.0</td>\n",
       "      <td>1.0</td>\n",
       "      <td>0.0</td>\n",
       "      <td>0.0</td>\n",
       "      <td>1.0</td>\n",
       "      <td>1.0</td>\n",
       "      <td>0.0</td>\n",
       "      <td>0.0</td>\n",
       "      <td>0.0</td>\n",
       "      <td>...</td>\n",
       "      <td>0.0</td>\n",
       "      <td>0.0</td>\n",
       "      <td>0.0</td>\n",
       "      <td>1.0</td>\n",
       "      <td>1.0</td>\n",
       "      <td>1.0</td>\n",
       "      <td>0.0</td>\n",
       "      <td>0.0</td>\n",
       "      <td>1.0</td>\n",
       "      <td>1.0</td>\n",
       "    </tr>\n",
       "    <tr>\n",
       "      <th>Lake Miramar Trail</th>\n",
       "      <td>0.0</td>\n",
       "      <td>0.0</td>\n",
       "      <td>0.0</td>\n",
       "      <td>0.0</td>\n",
       "      <td>0.0</td>\n",
       "      <td>0.0</td>\n",
       "      <td>1.0</td>\n",
       "      <td>0.0</td>\n",
       "      <td>0.0</td>\n",
       "      <td>1.0</td>\n",
       "      <td>...</td>\n",
       "      <td>0.0</td>\n",
       "      <td>0.0</td>\n",
       "      <td>1.0</td>\n",
       "      <td>1.0</td>\n",
       "      <td>1.0</td>\n",
       "      <td>1.0</td>\n",
       "      <td>0.0</td>\n",
       "      <td>1.0</td>\n",
       "      <td>0.0</td>\n",
       "      <td>0.0</td>\n",
       "    </tr>\n",
       "    <tr>\n",
       "      <th>McGinty Mountain Trail</th>\n",
       "      <td>0.0</td>\n",
       "      <td>0.0</td>\n",
       "      <td>0.0</td>\n",
       "      <td>0.0</td>\n",
       "      <td>0.0</td>\n",
       "      <td>0.0</td>\n",
       "      <td>0.0</td>\n",
       "      <td>1.0</td>\n",
       "      <td>0.0</td>\n",
       "      <td>1.0</td>\n",
       "      <td>...</td>\n",
       "      <td>0.0</td>\n",
       "      <td>0.0</td>\n",
       "      <td>0.0</td>\n",
       "      <td>1.0</td>\n",
       "      <td>1.0</td>\n",
       "      <td>0.0</td>\n",
       "      <td>0.0</td>\n",
       "      <td>0.0</td>\n",
       "      <td>1.0</td>\n",
       "      <td>1.0</td>\n",
       "    </tr>\n",
       "  </tbody>\n",
       "</table>\n",
       "<p>5 rows × 38 columns</p>\n",
       "</div>"
      ],
      "text/plain": [
       "                                        backpacking  beach  birding  bugs  \\\n",
       "Taft Point and The Fissures                     0.0    0.0      1.0   0.0   \n",
       "Aliso Creek and Wood Canyon Loop Trail          0.0    0.0      1.0   0.0   \n",
       "Upper Natural Bridge Trail                      0.0    0.0      1.0   0.0   \n",
       "Lake Miramar Trail                              0.0    0.0      0.0   0.0   \n",
       "McGinty Mountain Trail                          0.0    0.0      0.0   0.0   \n",
       "\n",
       "                                        camping  cave  difficulty_easy  \\\n",
       "Taft Point and The Fissures                 0.0   0.0              1.0   \n",
       "Aliso Creek and Wood Canyon Loop Trail      0.0   1.0              0.0   \n",
       "Upper Natural Bridge Trail                  0.0   1.0              1.0   \n",
       "Lake Miramar Trail                          0.0   0.0              1.0   \n",
       "McGinty Mountain Trail                      0.0   0.0              0.0   \n",
       "\n",
       "                                        difficulty_hard  difficulty_moderate  \\\n",
       "Taft Point and The Fissures                         0.0                  0.0   \n",
       "Aliso Creek and Wood Canyon Loop Trail              0.0                  1.0   \n",
       "Upper Natural Bridge Trail                          0.0                  0.0   \n",
       "Lake Miramar Trail                                  0.0                  0.0   \n",
       "McGinty Mountain Trail                              1.0                  0.0   \n",
       "\n",
       "                                        dog friendly    ...     scramble  \\\n",
       "Taft Point and The Fissures                      0.0    ...          0.0   \n",
       "Aliso Creek and Wood Canyon Loop Trail           0.0    ...          0.0   \n",
       "Upper Natural Bridge Trail                       0.0    ...          0.0   \n",
       "Lake Miramar Trail                               1.0    ...          0.0   \n",
       "McGinty Mountain Trail                           1.0    ...          0.0   \n",
       "\n",
       "                                        snow  stroller friendly  \\\n",
       "Taft Point and The Fissures              0.0                0.0   \n",
       "Aliso Creek and Wood Canyon Loop Trail   0.0                0.0   \n",
       "Upper Natural Bridge Trail               0.0                0.0   \n",
       "Lake Miramar Trail                       0.0                1.0   \n",
       "McGinty Mountain Trail                   0.0                0.0   \n",
       "\n",
       "                                        trail running  views  walking  \\\n",
       "Taft Point and The Fissures                       1.0    1.0      1.0   \n",
       "Aliso Creek and Wood Canyon Loop Trail            1.0    1.0      1.0   \n",
       "Upper Natural Bridge Trail                        1.0    1.0      1.0   \n",
       "Lake Miramar Trail                                1.0    1.0      1.0   \n",
       "McGinty Mountain Trail                            1.0    1.0      0.0   \n",
       "\n",
       "                                        waterfall  wheelchair friendly  \\\n",
       "Taft Point and The Fissures                   0.0                  0.0   \n",
       "Aliso Creek and Wood Canyon Loop Trail        0.0                  0.0   \n",
       "Upper Natural Bridge Trail                    0.0                  0.0   \n",
       "Lake Miramar Trail                            0.0                  1.0   \n",
       "McGinty Mountain Trail                        0.0                  0.0   \n",
       "\n",
       "                                        wild flowers  wildlife  \n",
       "Taft Point and The Fissures                      1.0       1.0  \n",
       "Aliso Creek and Wood Canyon Loop Trail           1.0       1.0  \n",
       "Upper Natural Bridge Trail                       1.0       1.0  \n",
       "Lake Miramar Trail                               0.0       0.0  \n",
       "McGinty Mountain Trail                           1.0       1.0  \n",
       "\n",
       "[5 rows x 38 columns]"
      ]
     },
     "execution_count": 121,
     "metadata": {},
     "output_type": "execute_result"
    }
   ],
   "source": [
    "hikes_features_df = pd.DataFrame(hikes_features).T\n",
    "hikes_features_df.head(5)"
   ]
  },
  {
   "cell_type": "code",
   "execution_count": 122,
   "metadata": {},
   "outputs": [],
   "source": [
    "logmean_hike_distance = np.mean(np.log(hikes_features_df['hike_distance'])) # log distance\n",
    "logstd_hike_distance = np.std(np.log(hikes_features_df['hike_distance'])) # log distance\n",
    "logmean_hike_elevation = np.mean(np.log(hikes_features_df['hike_elevation'][hikes_features_df['hike_elevation'] != 0]))\n",
    "logstd_hike_elevation = np.std(np.log(hikes_features_df['hike_elevation'][hikes_features_df['hike_elevation'] != 0]))"
   ]
  },
  {
   "cell_type": "code",
   "execution_count": 123,
   "metadata": {},
   "outputs": [],
   "source": [
    "def classify_distance(row):\n",
    "    if np.log(row) < logmean_hike_distance-logstd_hike_distance:\n",
    "        return \"Short\"\n",
    "    elif np.log(row) < logmean_hike_distance+logstd_hike_distance and np.log(row) > logmean_hike_distance-logstd_hike_distance:\n",
    "        return \"Medium\"\n",
    "    else:\n",
    "        return \"Long\""
   ]
  },
  {
   "cell_type": "code",
   "execution_count": 124,
   "metadata": {},
   "outputs": [],
   "source": [
    "def classify_elevation(row):\n",
    "    if np.log(row) < logmean_hike_elevation-logstd_hike_elevation:\n",
    "        return \"Easy\"\n",
    "    elif np.log(row) < logmean_hike_elevation+logstd_hike_elevation and np.log(row) > logmean_hike_elevation-logstd_hike_elevation:\n",
    "        return \"Medium\"\n",
    "    else:\n",
    "        return \"Hard\""
   ]
  },
  {
   "cell_type": "code",
   "execution_count": 125,
   "metadata": {},
   "outputs": [],
   "source": [
    "categorized_distances = hikes_features_df['hike_distance'].apply(classify_distance)\n",
    "categorized_elevations = hikes_features_df['hike_elevation'].apply(classify_elevation)"
   ]
  },
  {
   "cell_type": "code",
   "execution_count": 126,
   "metadata": {},
   "outputs": [],
   "source": [
    "hikes_features_df['hike_elevation'] = categorized_elevations\n",
    "hikes_features_df['hike_distance'] = categorized_distances"
   ]
  },
  {
   "cell_type": "code",
   "execution_count": 127,
   "metadata": {},
   "outputs": [],
   "source": [
    "for index in hikes_features_df.index:\n",
    "    if hikes_features_df.loc[index, 'hike_distance'] == 'Short':\n",
    "        hikes_features_df.loc[index, 'distance_short'] = 1\n",
    "    elif hikes_features_df.loc[index, 'hike_distance'] == 'Medium':\n",
    "        hikes_features_df.loc[index, 'distance_medium'] = 1\n",
    "    else:\n",
    "        hikes_features_df.loc[index, 'distance_long'] = 1\n",
    "        \n",
    "    if hikes_features_df.loc[index, 'hike_elevation'] == 'Easy':\n",
    "        hikes_features_df.loc[index, 'elevation_easy'] = 1\n",
    "    elif hikes_features_df.loc[index, 'hike_elevation'] == 'Medium':\n",
    "        hikes_features_df.loc[index, 'elevation_medium'] = 1\n",
    "    else:\n",
    "        hikes_features_df.loc[index, 'elevation_hard'] = 1\n",
    "\n",
    "    \n",
    "hikes_features_df.drop(labels='hike_distance', axis=1, inplace=True)\n",
    "hikes_features_df.drop(labels='hike_elevation', axis=1, inplace=True)\n",
    "hikes_features_df.fillna(0, inplace=True);"
   ]
  },
  {
   "cell_type": "code",
   "execution_count": 128,
   "metadata": {},
   "outputs": [
    {
     "data": {
      "text/html": [
       "<div>\n",
       "<style scoped>\n",
       "    .dataframe tbody tr th:only-of-type {\n",
       "        vertical-align: middle;\n",
       "    }\n",
       "\n",
       "    .dataframe tbody tr th {\n",
       "        vertical-align: top;\n",
       "    }\n",
       "\n",
       "    .dataframe thead th {\n",
       "        text-align: right;\n",
       "    }\n",
       "</style>\n",
       "<table border=\"1\" class=\"dataframe\">\n",
       "  <thead>\n",
       "    <tr style=\"text-align: right;\">\n",
       "      <th></th>\n",
       "      <th>backpacking</th>\n",
       "      <th>beach</th>\n",
       "      <th>birding</th>\n",
       "      <th>bugs</th>\n",
       "      <th>camping</th>\n",
       "      <th>cave</th>\n",
       "      <th>difficulty_easy</th>\n",
       "      <th>difficulty_hard</th>\n",
       "      <th>difficulty_moderate</th>\n",
       "      <th>dog friendly</th>\n",
       "      <th>...</th>\n",
       "      <th>waterfall</th>\n",
       "      <th>wheelchair friendly</th>\n",
       "      <th>wild flowers</th>\n",
       "      <th>wildlife</th>\n",
       "      <th>distance_medium</th>\n",
       "      <th>elevation_medium</th>\n",
       "      <th>elevation_easy</th>\n",
       "      <th>distance_short</th>\n",
       "      <th>distance_long</th>\n",
       "      <th>elevation_hard</th>\n",
       "    </tr>\n",
       "  </thead>\n",
       "  <tbody>\n",
       "    <tr>\n",
       "      <th>Taft Point and The Fissures</th>\n",
       "      <td>0.0</td>\n",
       "      <td>0.0</td>\n",
       "      <td>1.0</td>\n",
       "      <td>0.0</td>\n",
       "      <td>0.0</td>\n",
       "      <td>0.0</td>\n",
       "      <td>1.0</td>\n",
       "      <td>0.0</td>\n",
       "      <td>0.0</td>\n",
       "      <td>0.0</td>\n",
       "      <td>...</td>\n",
       "      <td>0.0</td>\n",
       "      <td>0.0</td>\n",
       "      <td>1.0</td>\n",
       "      <td>1.0</td>\n",
       "      <td>1.0</td>\n",
       "      <td>1.0</td>\n",
       "      <td>0.0</td>\n",
       "      <td>0.0</td>\n",
       "      <td>0.0</td>\n",
       "      <td>0.0</td>\n",
       "    </tr>\n",
       "    <tr>\n",
       "      <th>Aliso Creek and Wood Canyon Loop Trail</th>\n",
       "      <td>0.0</td>\n",
       "      <td>0.0</td>\n",
       "      <td>1.0</td>\n",
       "      <td>0.0</td>\n",
       "      <td>0.0</td>\n",
       "      <td>1.0</td>\n",
       "      <td>0.0</td>\n",
       "      <td>0.0</td>\n",
       "      <td>1.0</td>\n",
       "      <td>0.0</td>\n",
       "      <td>...</td>\n",
       "      <td>0.0</td>\n",
       "      <td>0.0</td>\n",
       "      <td>1.0</td>\n",
       "      <td>1.0</td>\n",
       "      <td>1.0</td>\n",
       "      <td>1.0</td>\n",
       "      <td>0.0</td>\n",
       "      <td>0.0</td>\n",
       "      <td>0.0</td>\n",
       "      <td>0.0</td>\n",
       "    </tr>\n",
       "    <tr>\n",
       "      <th>Upper Natural Bridge Trail</th>\n",
       "      <td>0.0</td>\n",
       "      <td>0.0</td>\n",
       "      <td>1.0</td>\n",
       "      <td>0.0</td>\n",
       "      <td>0.0</td>\n",
       "      <td>1.0</td>\n",
       "      <td>1.0</td>\n",
       "      <td>0.0</td>\n",
       "      <td>0.0</td>\n",
       "      <td>0.0</td>\n",
       "      <td>...</td>\n",
       "      <td>0.0</td>\n",
       "      <td>0.0</td>\n",
       "      <td>1.0</td>\n",
       "      <td>1.0</td>\n",
       "      <td>1.0</td>\n",
       "      <td>1.0</td>\n",
       "      <td>0.0</td>\n",
       "      <td>0.0</td>\n",
       "      <td>0.0</td>\n",
       "      <td>0.0</td>\n",
       "    </tr>\n",
       "    <tr>\n",
       "      <th>Lake Miramar Trail</th>\n",
       "      <td>0.0</td>\n",
       "      <td>0.0</td>\n",
       "      <td>0.0</td>\n",
       "      <td>0.0</td>\n",
       "      <td>0.0</td>\n",
       "      <td>0.0</td>\n",
       "      <td>1.0</td>\n",
       "      <td>0.0</td>\n",
       "      <td>0.0</td>\n",
       "      <td>1.0</td>\n",
       "      <td>...</td>\n",
       "      <td>0.0</td>\n",
       "      <td>1.0</td>\n",
       "      <td>0.0</td>\n",
       "      <td>0.0</td>\n",
       "      <td>1.0</td>\n",
       "      <td>0.0</td>\n",
       "      <td>1.0</td>\n",
       "      <td>0.0</td>\n",
       "      <td>0.0</td>\n",
       "      <td>0.0</td>\n",
       "    </tr>\n",
       "    <tr>\n",
       "      <th>McGinty Mountain Trail</th>\n",
       "      <td>0.0</td>\n",
       "      <td>0.0</td>\n",
       "      <td>0.0</td>\n",
       "      <td>0.0</td>\n",
       "      <td>0.0</td>\n",
       "      <td>0.0</td>\n",
       "      <td>0.0</td>\n",
       "      <td>1.0</td>\n",
       "      <td>0.0</td>\n",
       "      <td>1.0</td>\n",
       "      <td>...</td>\n",
       "      <td>0.0</td>\n",
       "      <td>0.0</td>\n",
       "      <td>1.0</td>\n",
       "      <td>1.0</td>\n",
       "      <td>1.0</td>\n",
       "      <td>1.0</td>\n",
       "      <td>0.0</td>\n",
       "      <td>0.0</td>\n",
       "      <td>0.0</td>\n",
       "      <td>0.0</td>\n",
       "    </tr>\n",
       "  </tbody>\n",
       "</table>\n",
       "<p>5 rows × 42 columns</p>\n",
       "</div>"
      ],
      "text/plain": [
       "                                        backpacking  beach  birding  bugs  \\\n",
       "Taft Point and The Fissures                     0.0    0.0      1.0   0.0   \n",
       "Aliso Creek and Wood Canyon Loop Trail          0.0    0.0      1.0   0.0   \n",
       "Upper Natural Bridge Trail                      0.0    0.0      1.0   0.0   \n",
       "Lake Miramar Trail                              0.0    0.0      0.0   0.0   \n",
       "McGinty Mountain Trail                          0.0    0.0      0.0   0.0   \n",
       "\n",
       "                                        camping  cave  difficulty_easy  \\\n",
       "Taft Point and The Fissures                 0.0   0.0              1.0   \n",
       "Aliso Creek and Wood Canyon Loop Trail      0.0   1.0              0.0   \n",
       "Upper Natural Bridge Trail                  0.0   1.0              1.0   \n",
       "Lake Miramar Trail                          0.0   0.0              1.0   \n",
       "McGinty Mountain Trail                      0.0   0.0              0.0   \n",
       "\n",
       "                                        difficulty_hard  difficulty_moderate  \\\n",
       "Taft Point and The Fissures                         0.0                  0.0   \n",
       "Aliso Creek and Wood Canyon Loop Trail              0.0                  1.0   \n",
       "Upper Natural Bridge Trail                          0.0                  0.0   \n",
       "Lake Miramar Trail                                  0.0                  0.0   \n",
       "McGinty Mountain Trail                              1.0                  0.0   \n",
       "\n",
       "                                        dog friendly       ...        \\\n",
       "Taft Point and The Fissures                      0.0       ...         \n",
       "Aliso Creek and Wood Canyon Loop Trail           0.0       ...         \n",
       "Upper Natural Bridge Trail                       0.0       ...         \n",
       "Lake Miramar Trail                               1.0       ...         \n",
       "McGinty Mountain Trail                           1.0       ...         \n",
       "\n",
       "                                        waterfall  wheelchair friendly  \\\n",
       "Taft Point and The Fissures                   0.0                  0.0   \n",
       "Aliso Creek and Wood Canyon Loop Trail        0.0                  0.0   \n",
       "Upper Natural Bridge Trail                    0.0                  0.0   \n",
       "Lake Miramar Trail                            0.0                  1.0   \n",
       "McGinty Mountain Trail                        0.0                  0.0   \n",
       "\n",
       "                                        wild flowers  wildlife  \\\n",
       "Taft Point and The Fissures                      1.0       1.0   \n",
       "Aliso Creek and Wood Canyon Loop Trail           1.0       1.0   \n",
       "Upper Natural Bridge Trail                       1.0       1.0   \n",
       "Lake Miramar Trail                               0.0       0.0   \n",
       "McGinty Mountain Trail                           1.0       1.0   \n",
       "\n",
       "                                        distance_medium  elevation_medium  \\\n",
       "Taft Point and The Fissures                         1.0               1.0   \n",
       "Aliso Creek and Wood Canyon Loop Trail              1.0               1.0   \n",
       "Upper Natural Bridge Trail                          1.0               1.0   \n",
       "Lake Miramar Trail                                  1.0               0.0   \n",
       "McGinty Mountain Trail                              1.0               1.0   \n",
       "\n",
       "                                        elevation_easy  distance_short  \\\n",
       "Taft Point and The Fissures                        0.0             0.0   \n",
       "Aliso Creek and Wood Canyon Loop Trail             0.0             0.0   \n",
       "Upper Natural Bridge Trail                         0.0             0.0   \n",
       "Lake Miramar Trail                                 1.0             0.0   \n",
       "McGinty Mountain Trail                             0.0             0.0   \n",
       "\n",
       "                                        distance_long  elevation_hard  \n",
       "Taft Point and The Fissures                       0.0             0.0  \n",
       "Aliso Creek and Wood Canyon Loop Trail            0.0             0.0  \n",
       "Upper Natural Bridge Trail                        0.0             0.0  \n",
       "Lake Miramar Trail                                0.0             0.0  \n",
       "McGinty Mountain Trail                            0.0             0.0  \n",
       "\n",
       "[5 rows x 42 columns]"
      ]
     },
     "execution_count": 128,
     "metadata": {},
     "output_type": "execute_result"
    }
   ],
   "source": [
    "hikes_features_df.head()"
   ]
  },
  {
   "cell_type": "code",
   "execution_count": 141,
   "metadata": {},
   "outputs": [
    {
     "name": "stdout",
     "output_type": "stream",
     "text": [
      "(8630, 4615)\n"
     ]
    },
    {
     "data": {
      "text/html": [
       "<div>\n",
       "<style scoped>\n",
       "    .dataframe tbody tr th:only-of-type {\n",
       "        vertical-align: middle;\n",
       "    }\n",
       "\n",
       "    .dataframe tbody tr th {\n",
       "        vertical-align: top;\n",
       "    }\n",
       "\n",
       "    .dataframe thead th {\n",
       "        text-align: right;\n",
       "    }\n",
       "</style>\n",
       "<table border=\"1\" class=\"dataframe\">\n",
       "  <thead>\n",
       "    <tr style=\"text-align: right;\">\n",
       "      <th></th>\n",
       "      <th>Taft Point and The Fissures</th>\n",
       "      <th>Aliso Creek and Wood Canyon Loop Trail</th>\n",
       "      <th>Upper Natural Bridge Trail</th>\n",
       "      <th>Lake Miramar Trail</th>\n",
       "      <th>McGinty Mountain Trail</th>\n",
       "      <th>San Antonio Falls Trail</th>\n",
       "      <th>The Slot</th>\n",
       "      <th>Panoramic Hill - Chaparral Peak - Strawberry Canyon Loop</th>\n",
       "      <th>Lafayette Reservoir Nature Area Rim Trail</th>\n",
       "      <th>Cleo's Bath Trail via Pinecrest Lake Loop</th>\n",
       "      <th>...</th>\n",
       "      <th>Rae Lakes Trail</th>\n",
       "      <th>Congress Trail</th>\n",
       "      <th>Strawberry Canyon Fire Trail</th>\n",
       "      <th>Annie's Canyon via North Rios Trail</th>\n",
       "      <th>Lake Margaret Trail</th>\n",
       "      <th>Deep Creek Hot Springs Trail</th>\n",
       "      <th>Cougar Crest Trail</th>\n",
       "      <th>Abalone Cove Trail</th>\n",
       "      <th>Torrey Pines - Red Butte, Yucca Point, and Razor Point</th>\n",
       "      <th>Soberanes Canyon Trail</th>\n",
       "    </tr>\n",
       "  </thead>\n",
       "  <tbody>\n",
       "    <tr>\n",
       "      <th>B B</th>\n",
       "      <td>0.0</td>\n",
       "      <td>0.0</td>\n",
       "      <td>0.0</td>\n",
       "      <td>0.0</td>\n",
       "      <td>0.0</td>\n",
       "      <td>0.0</td>\n",
       "      <td>0.0</td>\n",
       "      <td>0.0</td>\n",
       "      <td>0.0</td>\n",
       "      <td>0.0</td>\n",
       "      <td>...</td>\n",
       "      <td>0.0</td>\n",
       "      <td>0.0</td>\n",
       "      <td>0.0</td>\n",
       "      <td>0.0</td>\n",
       "      <td>0.0</td>\n",
       "      <td>0.0</td>\n",
       "      <td>0.0</td>\n",
       "      <td>0.0</td>\n",
       "      <td>0.0</td>\n",
       "      <td>0.0</td>\n",
       "    </tr>\n",
       "  </tbody>\n",
       "</table>\n",
       "<p>1 rows × 4615 columns</p>\n",
       "</div>"
      ],
      "text/plain": [
       "      Taft Point and The Fissures  Aliso Creek and Wood Canyon Loop Trail  \\\n",
       " B B                          0.0                                     0.0   \n",
       "\n",
       "      Upper Natural Bridge Trail  Lake Miramar Trail  McGinty Mountain Trail  \\\n",
       " B B                         0.0                 0.0                     0.0   \n",
       "\n",
       "      San Antonio Falls Trail  The Slot  \\\n",
       " B B                      0.0       0.0   \n",
       "\n",
       "      Panoramic Hill - Chaparral Peak - Strawberry Canyon Loop  \\\n",
       " B B                                                0.0          \n",
       "\n",
       "      Lafayette Reservoir Nature Area Rim Trail  \\\n",
       " B B                                        0.0   \n",
       "\n",
       "      Cleo's Bath Trail via Pinecrest Lake Loop           ...            \\\n",
       " B B                                        0.0           ...             \n",
       "\n",
       "      Rae Lakes Trail  Congress Trail  Strawberry Canyon Fire Trail  \\\n",
       " B B              0.0             0.0                           0.0   \n",
       "\n",
       "      Annie's Canyon via North Rios Trail  Lake Margaret Trail  \\\n",
       " B B                                  0.0                  0.0   \n",
       "\n",
       "      Deep Creek Hot Springs Trail  Cougar Crest Trail  Abalone Cove Trail  \\\n",
       " B B                           0.0                 0.0                 0.0   \n",
       "\n",
       "      Torrey Pines - Red Butte, Yucca Point, and Razor Point  \\\n",
       " B B                                                0.0        \n",
       "\n",
       "      Soberanes Canyon Trail  \n",
       " B B                     0.0  \n",
       "\n",
       "[1 rows x 4615 columns]"
      ]
     },
     "execution_count": 141,
     "metadata": {},
     "output_type": "execute_result"
    }
   ],
   "source": [
    "df = pd.read_pickle('../data/less_filtered/hike_data_filtered_190129')\n",
    "print(df.shape)\n",
    "df.head(1)"
   ]
  },
  {
   "cell_type": "code",
   "execution_count": 142,
   "metadata": {},
   "outputs": [],
   "source": [
    "hikes_features_df = hikes_features_df.loc[df.columns] # limit df to those hikes in interaction matrix"
   ]
  },
  {
   "cell_type": "code",
   "execution_count": 143,
   "metadata": {},
   "outputs": [],
   "source": [
    "hikes_features_df = hikes_features_df[~hikes_features_df.index.duplicated(keep='last')]"
   ]
  },
  {
   "cell_type": "code",
   "execution_count": 144,
   "metadata": {},
   "outputs": [
    {
     "data": {
      "text/plain": [
       "(4615, 42)"
      ]
     },
     "execution_count": 144,
     "metadata": {},
     "output_type": "execute_result"
    }
   ],
   "source": [
    "hikes_features_df.shape"
   ]
  },
  {
   "cell_type": "code",
   "execution_count": 146,
   "metadata": {},
   "outputs": [],
   "source": [
    "hikes_features_df.to_pickle('hike_features_190129b')"
   ]
  },
  {
   "cell_type": "markdown",
   "metadata": {},
   "source": [
    "<font size=10> Hybrid Recommendation with item features </font>"
   ]
  },
  {
   "cell_type": "markdown",
   "metadata": {},
   "source": [
    "<font size=6> 1. Build model </font>"
   ]
  },
  {
   "cell_type": "code",
   "execution_count": 267,
   "metadata": {},
   "outputs": [],
   "source": [
    "hikes_features_df = pd.read_pickle('../data/less_filtered/hike_features_190129b')\n",
    "df = pd.read_pickle('../data/less_filtered/hike_data_filtered_190129')"
   ]
  },
  {
   "cell_type": "code",
   "execution_count": 268,
   "metadata": {},
   "outputs": [],
   "source": [
    "item_features = hikes_features_df.columns\n",
    "hike_features_dict = {row: column.dropna().to_dict() for row, column in hikes_features_df.T[hikes_features_df.T != 0].T.iterrows()}"
   ]
  },
  {
   "cell_type": "code",
   "execution_count": 277,
   "metadata": {},
   "outputs": [],
   "source": [
    "def lightfm_implicit_matrix(df, hikes_features_df): #df should be pandas interaction matrix\n",
    "    dataset = data.Dataset() # Instantiate class\n",
    "    dataset.fit(users=(user for user in df.index),\n",
    "                items=(item for item in df.columns),\n",
    "                item_features=(feature for feature in hikes_features_df.columns)) # Create users and items from df\n",
    "    num_users, num_items = dataset.interactions_shape() # Get shape\n",
    "    interaction_list = list(df[df > 0].stack().index) # Get interaction pairs\n",
    "    interactions, weights = dataset.build_interactions((x[0], x[1]) for x in interaction_list) # Build interactions\n",
    "    hike_features_dict = {row: column.dropna().to_dict() for row, column in hikes_features_df.T[hikes_features_df.T != 0].T.iterrows()}\n",
    "    feature_matrix = dataset.build_item_features([ (key, value) for key,value in hike_features_dict.items() ]) # Build item_features matrix\n",
    "    \n",
    "    return dataset, interactions, feature_matrix\n",
    "\n",
    "def lightfm_train(train, item_features, num_components=30, num_epochs=10, learning_rate=0.05):\n",
    "    num_threads = 1\n",
    "    item_alpha = 1e-6\n",
    "    learning_rate = learning_rate\n",
    "\n",
    "    # Let's fit a WARP model: these generally have the best performance.\n",
    "    model = LightFM(loss='warp',\n",
    "                    learning_rate = learning_rate,\n",
    "                    item_alpha=item_alpha,\n",
    "                    no_components=num_components)\n",
    "\n",
    "    model = model.fit(interactions=train, item_features=item_features, epochs=num_epochs, num_threads=num_threads)\n",
    "    \n",
    "    return model\n",
    "\n",
    "def find_item(lfm_map, lfm_index):\n",
    "    return [ key for key in lfm_map.keys() if lfm_map[key] == lfm_index ][0]\n",
    "\n",
    "def return_top_10_new_user(interactions, model, item_map, item_features=None):\n",
    "    predictions = model.predict(interactions._shape[0]-1, np.arange(interactions._shape[1]), item_features=item_features)\n",
    "    sorted_by_index = (-1*predictions).argsort()\n",
    "    names = []\n",
    "    \n",
    "    for pred_num in range(10):\n",
    "        name = find_item(item_map, sorted_by_index[pred_num])\n",
    "        print('Prediction {} is {}.'.format(pred_num+1, name))\n",
    "        names.append(name)\n",
    "        \n",
    "    return names"
   ]
  },
  {
   "cell_type": "code",
   "execution_count": 194,
   "metadata": {},
   "outputs": [],
   "source": [
    "dataset, interactions, feature_matrix = lightfm_implicit_matrix(df, hikes_features_df)\n",
    "train, test = cross_validation.random_train_test_split(interactions, test_percentage=0.2, random_state=np.random.RandomState(seed=1))\n",
    "model = lightfm_train(train, feature_matrix, 30, 30)"
   ]
  },
  {
   "cell_type": "code",
   "execution_count": 195,
   "metadata": {},
   "outputs": [
    {
     "name": "stdout",
     "output_type": "stream",
     "text": [
      "Collaborative filtering train AUC: 0.93562055\n"
     ]
    }
   ],
   "source": [
    "# Compute and print the AUC score\n",
    "train_auc = auc_score(model=model, test_interactions=train, item_features=feature_matrix, num_threads=30).mean()\n",
    "print('Collaborative filtering train AUC: %s' % train_auc)"
   ]
  },
  {
   "cell_type": "code",
   "execution_count": 196,
   "metadata": {},
   "outputs": [
    {
     "name": "stdout",
     "output_type": "stream",
     "text": [
      "Collaborative filtering test AUC: 0.8341182\n"
     ]
    }
   ],
   "source": [
    "# We pass in the train interactions to exclude them from predictions.\n",
    "# This is to simulate a recommender system where we do not\n",
    "# re-recommend things the user has already interacted with in the train\n",
    "# set.\n",
    "test_auc = auc_score(model=model, test_interactions=test, train_interactions=train, item_features=feature_matrix, num_threads=30).mean()\n",
    "print('Collaborative filtering test AUC: %s' % test_auc)"
   ]
  },
  {
   "cell_type": "code",
   "execution_count": 154,
   "metadata": {},
   "outputs": [
    {
     "name": "stdout",
     "output_type": "stream",
     "text": [
      "Precision at k = 1 is 0.03\n",
      "Precision at k = 2 is 0.03\n",
      "Precision at k = 3 is 0.03\n",
      "Precision at k = 4 is 0.02\n",
      "Precision at k = 5 is 0.02\n",
      "Precision at k = 6 is 0.02\n",
      "Precision at k = 7 is 0.02\n",
      "Precision at k = 8 is 0.02\n",
      "Precision at k = 9 is 0.02\n",
      "Precision at k = 10 is 0.02\n"
     ]
    }
   ],
   "source": [
    "for k in range(1,11):\n",
    "    precision = precision_at_k(model, test_interactions=test, train_interactions=train, item_features=feature_matrix, k=k).mean()\n",
    "    print('Precision at k = {} is {:.2f}'.format(k, precision))"
   ]
  },
  {
   "cell_type": "markdown",
   "metadata": {},
   "source": [
    "<font size=6> 2. Tune hyperparameters </font>"
   ]
  },
  {
   "cell_type": "code",
   "execution_count": 197,
   "metadata": {},
   "outputs": [],
   "source": [
    "grid_search = {}\n",
    "count = 0\n",
    "for learning_rate in [1e-4, 1e-2, 1]:\n",
    "    for num_epochs in [20, 40]:\n",
    "        for num_components in [20, 40]:\n",
    "            dataset, interactions, feature_matrix = lightfm_implicit_matrix(df, hikes_features_df)\n",
    "            train, test = cross_validation.random_train_test_split(interactions, test_percentage=0.2, random_state=np.random.RandomState(seed=1))\n",
    "            model = lightfm_train(train, item_features=feature_matrix, num_components=num_components, num_epochs=num_epochs, learning_rate=learning_rate)\n",
    "            test_auc = auc_score(model, test, train_interactions=train, item_features=feature_matrix, num_threads=1).mean()\n",
    "            precision = precision_at_k(model, test, train_interactions=train, item_features=feature_matrix, k=5).mean()\n",
    "            grid_search[count] = {'lr': learning_rate, 'ne': num_epochs, 'nc': num_components, 'auc': test_auc, 'precision': precision}\n",
    "            count += 1"
   ]
  },
  {
   "cell_type": "code",
   "execution_count": 198,
   "metadata": {},
   "outputs": [
    {
     "data": {
      "text/plain": [
       "[(10,\n",
       "  {'lr': 1, 'ne': 40, 'nc': 20, 'auc': 0.86745214, 'precision': 0.026680306}),\n",
       " (8, {'lr': 1, 'ne': 20, 'nc': 20, 'auc': 0.858922, 'precision': 0.025160726}),\n",
       " (11,\n",
       "  {'lr': 1, 'ne': 40, 'nc': 40, 'auc': 0.852623, 'precision': 0.024284044}),\n",
       " (9,\n",
       "  {'lr': 1, 'ne': 20, 'nc': 40, 'auc': 0.84576905, 'precision': 0.020777322}),\n",
       " (7,\n",
       "  {'lr': 0.01,\n",
       "   'ne': 40,\n",
       "   'nc': 40,\n",
       "   'auc': 0.7665115,\n",
       "   'precision': 0.009380478})]"
      ]
     },
     "execution_count": 198,
     "metadata": {},
     "output_type": "execute_result"
    }
   ],
   "source": [
    "sorted(grid_search.items(), key=lambda x: x[1]['precision'], reverse=True)[:5]"
   ]
  },
  {
   "cell_type": "code",
   "execution_count": 200,
   "metadata": {},
   "outputs": [],
   "source": [
    "grid_search2 = {}\n",
    "count = 0\n",
    "for learning_rate in [1, 10, 50]:\n",
    "    for num_epochs in [40, 80]:\n",
    "        for num_components in [10, 20]:\n",
    "            dataset, interactions, feature_matrix = lightfm_implicit_matrix(df, hikes_features_df)\n",
    "            train, test = cross_validation.random_train_test_split(interactions, test_percentage=0.2, random_state=np.random.RandomState(seed=1))\n",
    "            model = lightfm_train(train, item_features=feature_matrix, num_components=num_components, num_epochs=num_epochs, learning_rate=learning_rate)\n",
    "            test_auc = auc_score(model, test, train_interactions=train, item_features=feature_matrix, num_threads=1).mean()\n",
    "            precision = precision_at_k(model, test, train_interactions=train, item_features=feature_matrix, k=5).mean()\n",
    "            grid_search2[count] = {'lr': learning_rate, 'ne': num_epochs, 'nc': num_components, 'auc': test_auc, 'precision': precision}\n",
    "            count += 1"
   ]
  },
  {
   "cell_type": "code",
   "execution_count": 210,
   "metadata": {},
   "outputs": [
    {
     "data": {
      "text/plain": [
       "[(2,\n",
       "  {'lr': 1, 'ne': 80, 'nc': 10, 'auc': 0.8935133, 'precision': 0.034307424}),\n",
       " (0,\n",
       "  {'lr': 1, 'ne': 40, 'nc': 10, 'auc': 0.8870859, 'precision': 0.031706605}),\n",
       " (3,\n",
       "  {'lr': 1, 'ne': 80, 'nc': 20, 'auc': 0.87305367, 'precision': 0.029924022}),\n",
       " (1,\n",
       "  {'lr': 1, 'ne': 40, 'nc': 20, 'auc': 0.86913747, 'precision': 0.027352424}),\n",
       " (11,\n",
       "  {'lr': 50, 'ne': 80, 'nc': 20, 'auc': 0.5004089, 'precision': 0.0005844535})]"
      ]
     },
     "execution_count": 210,
     "metadata": {},
     "output_type": "execute_result"
    }
   ],
   "source": [
    "sorted(grid_search2.items(), key=lambda x: x[1]['precision'], reverse=True)[:5]"
   ]
  },
  {
   "cell_type": "code",
   "execution_count": 218,
   "metadata": {},
   "outputs": [],
   "source": [
    "k_vs_epochs = []\n",
    "for num_epochs in [5, 10, 50, 100, 200, 500, 1000, 2000]:\n",
    "    dataset, interactions, feature_matrix = lightfm_implicit_matrix(df, hikes_features_df)\n",
    "    train, test = cross_validation.random_train_test_split(interactions, test_percentage=0.2, random_state=np.random.RandomState(seed=1))\n",
    "    model = lightfm_train(train, item_features=feature_matrix, num_components=10, num_epochs=num_epochs, learning_rate=1)\n",
    "    test_auc = auc_score(model, test, train_interactions=train, item_features=feature_matrix, num_threads=1).mean()\n",
    "    precision = precision_at_k(model, test, train_interactions=train, item_features=feature_matrix, k=5).mean()\n",
    "    k_vs_epochs.append([num_epochs, precision])"
   ]
  },
  {
   "cell_type": "code",
   "execution_count": 222,
   "metadata": {},
   "outputs": [
    {
     "data": {
      "text/plain": [
       "Text(0.5, 1.0, '\"Learning curve\" for Hybrid Recommendation on test set')"
      ]
     },
     "execution_count": 222,
     "metadata": {},
     "output_type": "execute_result"
    },
    {
     "data": {
      "image/png": "[encoded data removed]",
      "text/plain": [
       "<Figure size 504x360 with 1 Axes>"
      ]
     },
     "metadata": {},
     "output_type": "display_data"
    }
   ],
   "source": [
    "plt.figure(figsize=(7,5))\n",
    "num_epochs = [5, 10, 50, 100, 200]\n",
    "plt.plot([ item[0] for item in k_vs_epochs], [ item[1] for item in k_vs_epochs ], \n",
    "             label=num_epochs[index])\n",
    "plt.xlabel('Number of Training Cycles')\n",
    "plt.ylabel('Precision @ 5')\n",
    "plt.title('\"Learning curve\" for Hybrid Recommendation on test set')"
   ]
  },
  {
   "cell_type": "code",
   "execution_count": 318,
   "metadata": {},
   "outputs": [],
   "source": [
    "dataset, interactions, feature_matrix = lightfm_implicit_matrix(df, hikes_features_df)\n",
    "train, test = cross_validation.random_train_test_split(interactions, test_percentage=0.2, random_state=np.random.RandomState(seed=1))\n",
    "model = lightfm_train(train, feature_matrix, num_components=10, num_epochs=1000, learning_rate=1)"
   ]
  },
  {
   "cell_type": "code",
   "execution_count": 319,
   "metadata": {},
   "outputs": [
    {
     "name": "stdout",
     "output_type": "stream",
     "text": [
      "Collaborative filtering train AUC: 0.9951757\n"
     ]
    }
   ],
   "source": [
    "# Compute and print the AUC score\n",
    "train_auc = auc_score(model=model, test_interactions=train, item_features=feature_matrix, num_threads=30).mean()\n",
    "print('Collaborative filtering train AUC: %s' % train_auc)"
   ]
  },
  {
   "cell_type": "code",
   "execution_count": 320,
   "metadata": {},
   "outputs": [
    {
     "name": "stdout",
     "output_type": "stream",
     "text": [
      "Collaborative filtering test AUC: 0.90418285\n"
     ]
    }
   ],
   "source": [
    "# We pass in the train interactions to exclude them from predictions.\n",
    "# This is to simulate a recommender system where we do not\n",
    "# re-recommend things the user has already interacted with in the train\n",
    "# set.\n",
    "test_auc = auc_score(model=model, test_interactions=test, train_interactions=train, item_features=feature_matrix, num_threads=30).mean()\n",
    "print('Collaborative filtering test AUC: %s' % test_auc)"
   ]
  },
  {
   "cell_type": "code",
   "execution_count": 321,
   "metadata": {},
   "outputs": [
    {
     "name": "stdout",
     "output_type": "stream",
     "text": [
      "Precision at k = 1 is 0.049\n",
      "Precision at k = 2 is 0.045\n",
      "Precision at k = 3 is 0.043\n",
      "Precision at k = 4 is 0.040\n",
      "Precision at k = 5 is 0.039\n",
      "Precision at k = 6 is 0.037\n",
      "Precision at k = 7 is 0.035\n",
      "Precision at k = 8 is 0.034\n",
      "Precision at k = 9 is 0.033\n",
      "Precision at k = 10 is 0.032\n"
     ]
    }
   ],
   "source": [
    "for k in range(1,11):\n",
    "    precision = precision_at_k(model, test_interactions=test, train_interactions=train, item_features=feature_matrix, k=k).mean()\n",
    "    print('Precision at k = {} is {:.3f}'.format(k, precision))"
   ]
  },
  {
   "cell_type": "code",
   "execution_count": 323,
   "metadata": {},
   "outputs": [],
   "source": [
    "import pickle\n",
    "\n",
    "with open('../data/less_filtered/lightfm_model.pickle', 'wb') as f:\n",
    "    pickle.dump(model, f, protocol=pickle.HIGHEST_PROTOCOL)"
   ]
  },
  {
   "cell_type": "code",
   "execution_count": 540,
   "metadata": {},
   "outputs": [],
   "source": [
    "with open('../data/less_filtered/lightfm_dataset.pickle', 'wb') as f:\n",
    "    pickle.dump(dataset, f, protocol=pickle.HIGHEST_PROTOCOL)"
   ]
  },
  {
   "cell_type": "code",
   "execution_count": 583,
   "metadata": {},
   "outputs": [],
   "source": [
    "with open('../data/less_filtered/lightfm_featurematrix.pickle', 'wb') as f:\n",
    "    pickle.dump(feature_matrix, f, protocol=pickle.HIGHEST_PROTOCOL)"
   ]
  },
  {
   "cell_type": "markdown",
   "metadata": {},
   "source": [
    "<font size=6> 3. Analyze diversity of recommendations </font>"
   ]
  },
  {
   "cell_type": "code",
   "execution_count": 281,
   "metadata": {},
   "outputs": [],
   "source": [
    "def find_item(lfm_map, lfm_index):\n",
    "    return [ key for key in lfm_map.keys() if lfm_map[key] == lfm_index ][0]\n",
    "\n",
    "names = []\n",
    "for index in range(100):\n",
    "    predictions = model.predict(index, np.arange(interactions._shape[1]), item_features=feature_matrix)\n",
    "    sorted_by_index = (-1*predictions).argsort()\n",
    "\n",
    "    for pred_num in range(10):\n",
    "        name = find_item(item_map, sorted_by_index[pred_num])\n",
    "        # print('Prediction {} is {}.'.format(pred_num+1, name))\n",
    "        names.append(name)"
   ]
  },
  {
   "cell_type": "code",
   "execution_count": 282,
   "metadata": {},
   "outputs": [
    {
     "name": "stdout",
     "output_type": "stream",
     "text": [
      "Number of hikes recommended is: 603.\n",
      "Number of hikes expected if only using top 10 hikes is: 10\n"
     ]
    }
   ],
   "source": [
    "num_hikes_recommended = len(collections.Counter(names).most_common())\n",
    "print('Number of hikes recommended is: {}.\\nNumber of hikes expected if only using top 10 hikes is: 10'.format(num_hikes_recommended))"
   ]
  },
  {
   "cell_type": "code",
   "execution_count": null,
   "metadata": {},
   "outputs": [],
   "source": []
  },
  {
   "cell_type": "code",
   "execution_count": null,
   "metadata": {},
   "outputs": [],
   "source": [
    "item_features_map = dataset.mapping()[3] # get mapping for item features to lightfm indices\n",
    "item_features_embeddings = model.item_embeddings # get item feature embeddings\n",
    "\n",
    "item_map = dataset.mapping()[2]\n",
    "item_embeddings = model.get_item_representations(features=feature_matrix)[1]"
   ]
  },
  {
   "cell_type": "code",
   "execution_count": 563,
   "metadata": {},
   "outputs": [],
   "source": [
    "def get_attributes(tags=None, hike_difficulty=None, hike_distance=None, hike_elevation=None, hike_type=None):\n",
    "    '''Generates a list of hike attributes/tags the user has selected.\n",
    "    \n",
    "    Returns: list of individual hike attributes/tags.'''\n",
    "    \n",
    "    hike_attributes = []\n",
    "    \n",
    "    for tag in tags:\n",
    "        hike_attributes.append(tag)\n",
    "    \n",
    "    if hike_difficulty == 'Easy':\n",
    "        hike_attributes.append('difficulty_easy')\n",
    "    elif hike_difficulty == 'Moderate':\n",
    "        hike_attributes.append('difficulty_moderate')\n",
    "    elif hike_difficulty == 'Hard':\n",
    "        hike_attributes.append('difficulty_hard') \n",
    "        \n",
    "    if hike_distance == 'Short':\n",
    "        hike_attributes.append('distance_short')\n",
    "    elif hike_difficulty == 'Medium':\n",
    "        hike_attributes.append('distance_medium')\n",
    "    elif hike_difficulty == 'Long':\n",
    "        hike_attributes.append('distance_long')\n",
    "        \n",
    "    if hike_elevation == 'Easy':\n",
    "        hike_attributes.append('elevation_easy')\n",
    "    elif hike_elevation == 'Medium':\n",
    "        hike_attributes.append('elevation_medium')\n",
    "    elif hike_elevation == 'Hard':\n",
    "        hike_attributes.append('elevation_hard')\n",
    "        \n",
    "    if hike_type == 'Out-and-Back':\n",
    "        hike_attributes.append('out_and_back')\n",
    "    elif hike_type == 'Point-to-Point':\n",
    "        hike_attributes.append('point_to_point')\n",
    "    elif hike_type == 'Loop':\n",
    "        hike_attributes.append('loop')\n",
    "        \n",
    "    return hike_attributes"
   ]
  },
  {
   "cell_type": "code",
   "execution_count": 564,
   "metadata": {},
   "outputs": [],
   "source": [
    "def get_item_feature_embeddings(hike_attributes, item_features_map, item_features_embeddings):\n",
    "    '''Generate embeddings for selected hike attributes (item features).\n",
    "    \n",
    "    Returns: list of embeddings for each attribute (item feature).'''\n",
    "    \n",
    "    selected_item_features_embeddings = []\n",
    "    for hike_attribute in hike_attributes:\n",
    "        selected_item_features_embeddings.append(item_features_embeddings[item_features_map[hike_attribute]])\n",
    "    \n",
    "    return selected_item_features_embeddings"
   ]
  },
  {
   "cell_type": "code",
   "execution_count": 565,
   "metadata": {},
   "outputs": [],
   "source": [
    "def get_item_embeddings(selected_hikes, item_map, item_embeddings):\n",
    "    '''Generate embeddings for selected hikes (items)\n",
    "    \n",
    "    Returns: list of embeddings for each hike (item)'''\n",
    "    \n",
    "    selected_hike_embeddings = []\n",
    "    for selected_hike in selected_hikes:\n",
    "        selected_hike_embeddings.append(item_embeddings[item_map[selected_hike]])\n",
    "        \n",
    "    return selected_hike_embeddings"
   ]
  },
  {
   "cell_type": "code",
   "execution_count": 566,
   "metadata": {},
   "outputs": [],
   "source": [
    "def get_average_item_embedding(selected_item_embeddings):\n",
    "    '''Calculate the average embedding over all selected hikes (items).\n",
    "    \n",
    "    Returns: np.array of average embedding.'''\n",
    "\n",
    "    av_item_embedding = np.zeros((10,))\n",
    "    for item_embedding in selected_item_embeddings:\n",
    "        av_item_embedding += item_embedding\n",
    "    try:\n",
    "        av_item_embedding = av_item_embedding / len(selected_item_embeddings)\n",
    "        return av_item_embedding\n",
    "    except:\n",
    "        av_item_embedding = 0\n",
    "        return av_item_embedding"
   ]
  },
  {
   "cell_type": "code",
   "execution_count": 567,
   "metadata": {},
   "outputs": [],
   "source": [
    "def get_final_embedding(av_item_embedding, selected_item_features_embeddings):\n",
    "    '''Add all selected item feature embeddings to the average item embedding to produce the final embedding.\n",
    "    \n",
    "    Returns: np.array of final embedding'''\n",
    "    \n",
    "    final_embedding = av_item_embedding.copy()\n",
    "    for item_feature_embedding in selected_item_features_embeddings:\n",
    "        final_embedding += item_feature_embedding\n",
    "        \n",
    "    return final_embedding"
   ]
  },
  {
   "cell_type": "code",
   "execution_count": 619,
   "metadata": {},
   "outputs": [],
   "source": [
    "def find_item(item_map, item_index):\n",
    "    '''Get hike (item) name given a LightFM index.\n",
    "    \n",
    "    Returns: hike name (str)'''\n",
    "    \n",
    "    return [ key for key in item_map.keys() if item_map[key] == item_index ][0]\n",
    "\n",
    "def cos_sim(a, b):\n",
    "    '''Calculate the cosine similarity between two vectors.\n",
    "    \n",
    "    Returns: float'''\n",
    "    \n",
    "    cos_sim = dot(a, b)/(norm(a)*norm(b))\n",
    "    return cos_sim\n",
    "\n",
    "def calculate_similarities(model, embedding, item_embeddings):\n",
    "    '''Calculate the similarity scores for a given embedding and all item embeddings.\n",
    "    \n",
    "    Returns: list of similarities, in order of LightFM index'''\n",
    "    \n",
    "    sim_scores = []\n",
    "    for item_index in range(item_embeddings.shape[0]):\n",
    "        sim_scores.append(cos_sim(item_embeddings[item_index], embedding))\n",
    "        \n",
    "    return sim_scores\n",
    "\n",
    "def get_top_hikes_by_similarity(sim_scores, item_map, num_hikes):\n",
    "    '''Find the top num_hikes hikes given a list of similarity scores.\n",
    "    \n",
    "    Returns: list of hike names.'''\n",
    "    \n",
    "    top_items = (-1*np.array(sim_scores)).argsort()\n",
    "    names = []\n",
    "    for pred_num in range(num_hikes):\n",
    "        name = find_item(item_map, top_items[pred_num])\n",
    "        names.append(name)\n",
    "    \n",
    "    return names"
   ]
  },
  {
   "cell_type": "code",
   "execution_count": 569,
   "metadata": {},
   "outputs": [],
   "source": [
    "item_features_map = dataset.mapping()[3] # get mapping for item features to lightfm indices\n",
    "item_features_embeddings = model.item_embeddings # get item feature embeddings\n",
    "\n",
    "item_map = dataset.mapping()[2]\n",
    "item_embeddings = model.get_item_representations(features=feature_matrix)[1]"
   ]
  },
  {
   "cell_type": "code",
   "execution_count": 570,
   "metadata": {},
   "outputs": [
    {
     "data": {
      "text/plain": [
       "['Vernal and Nevada Falls via the Panorama Trail',\n",
       " 'Rabbit Peak and Villager Peak Trail',\n",
       " 'Vogelsang Lake and Volesang Pass Trail',\n",
       " 'White Mountain Peak Trail',\n",
       " 'Willow Creek Trail, PCT, and San Jacinto Peak Loop',\n",
       " 'Juniper to Eagle Peak to Summit Loop',\n",
       " 'Crag Lake and Rubicon Lake Trail to PCT',\n",
       " 'Rae Lakes Trail',\n",
       " 'Clark Range Circuit',\n",
       " 'John Muir Trail Via Yosemite Valley']"
      ]
     },
     "execution_count": 570,
     "metadata": {},
     "output_type": "execute_result"
    }
   ],
   "source": [
    "hike_attributes = get_attributes(tags=['wildlife', 'wild flowers', 'lake'], hike_difficulty='Hard', hike_distance='Long', hike_elevation='Hard', hike_type='Point-to-Point')\n",
    "selected_item_features_embeddings= get_item_feature_embeddings(hike_attributes, item_features_map, item_features_embeddings)\n",
    "selected_hike_embeddings = get_item_embeddings(selected_hikes=['Inspiration Point'], item_map=item_map, item_embeddings=item_embeddings)\n",
    "av_hike_embedding = get_average_item_embedding(selected_item_embeddings=selected_hike_embeddings)\n",
    "final_embedding = get_final_embedding(av_item_embedding=av_hike_embedding, selected_item_features_embeddings=selected_item_features_embeddings)\n",
    "sim_scores = calculate_similarities(model, final_embedding, item_embeddings)\n",
    "get_top_hikes_by_similarity(sim_scores, item_map, num_hikes=10)"
   ]
  },
  {
   "cell_type": "code",
   "execution_count": 644,
   "metadata": {},
   "outputs": [],
   "source": [
    "def get_hike_features(hike_name):\n",
    "    hike_features = []\n",
    "    for feature in hikes_features_df.columns:\n",
    "        if hikes_features_df.loc[hike_name, feature] == 1.0:\n",
    "            hike_features.append(feature)\n",
    "            \n",
    "    return hike_features"
   ]
  },
  {
   "cell_type": "code",
   "execution_count": 672,
   "metadata": {},
   "outputs": [],
   "source": [
    "def convert_features(hike_features):\n",
    "    converted_features = {}\n",
    "    converted_tags = []\n",
    "    for feature in hike_features:\n",
    "        if feature.startswith('difficulty'):\n",
    "            converted_features['Difficulty'] = feature.split('_')[1].capitalize()\n",
    "        elif feature.startswith('distance'):\n",
    "            converted_features['Distance'] = feature.split('_')[1].capitalize()\n",
    "        elif feature.startswith('elevation'):\n",
    "            converted_features['Elevation'] = feature.split('_')[1].capitalize()\n",
    "        elif feature == 'out_and_back':\n",
    "            converted_features['Type'] = 'Out-and-Back'\n",
    "        elif feature == 'point_to_point':\n",
    "            converted_features['Type'] = 'Point-to-Point'\n",
    "        elif feature == 'loop':\n",
    "            converted_features['Type'] = 'Loop'\n",
    "        else:\n",
    "            converted_tags.append(feature.capitalize())\n",
    "    if converted_tags:\n",
    "        converted_features['tags'] = converted_tags\n",
    "        \n",
    "    return converted_features"
   ]
  },
  {
   "cell_type": "code",
   "execution_count": 670,
   "metadata": {},
   "outputs": [],
   "source": [
    "def get_matched_features(converted_features, hike_difficulty, hike_distance, hike_elevation, hike_type, tags):\n",
    "    matched_features = {}\n",
    "    matched_tags = []\n",
    "    if converted_features['Difficulty'] == hike_difficulty:\n",
    "        matched_features['Difficulty'] = hike_difficulty\n",
    "    if converted_features['Distance'] == hike_distance:\n",
    "        matched_features['Distance'] = hike_distance\n",
    "    if converted_features['Elevation'] == hike_elevation:\n",
    "        matched_features['Elevation'] = hike_elevation\n",
    "    if converted_features['Type'] == hike_type:\n",
    "        matched_features['Type'] = hike_type\n",
    "    if converted_features['tags']:\n",
    "        for tag in converted_features['tags']:\n",
    "            if tag in tags:\n",
    "                matched_tags.append(tag)\n",
    "    if matched_tags:\n",
    "        matched_features['Tags'] = matched_tags\n",
    "    \n",
    "    return matched_features"
   ]
  },
  {
   "cell_type": "code",
   "execution_count": 675,
   "metadata": {},
   "outputs": [],
   "source": [
    "hike_difficulty = 'Easy'\n",
    "hike_distance = 'Short'\n",
    "hike_elevation = 'Medium'\n",
    "hike_type = 'Out-and-Back'\n",
    "tags = ['Walking', 'Dog friendly']"
   ]
  },
  {
   "cell_type": "code",
   "execution_count": 676,
   "metadata": {},
   "outputs": [
    {
     "data": {
      "text/plain": [
       "{'Elevation': 'Medium',\n",
       " 'Type': 'Out-and-Back',\n",
       " 'Tags': ['Dog friendly', 'Walking']}"
      ]
     },
     "execution_count": 676,
     "metadata": {},
     "output_type": "execute_result"
    }
   ],
   "source": [
    "hike_features = get_hike_features('Inspiration Point')\n",
    "convereted_hike_features = convert_features(hike_features)\n",
    "get_matched_features(convereted_hike_features, hike_difficulty=hike_difficulty, hike_distance=hike_distance, hike_elevation=hike_elevation,\n",
    "                    hike_type=hike_type, tags=tags)"
   ]
  },
  {
   "cell_type": "code",
   "execution_count": 674,
   "metadata": {},
   "outputs": [
    {
     "data": {
      "text/plain": [
       "['difficulty_moderate',\n",
       " 'dog friendly',\n",
       " 'mountain biking',\n",
       " 'out_and_back',\n",
       " 'trail running',\n",
       " 'views',\n",
       " 'walking',\n",
       " 'distance_medium',\n",
       " 'elevation_medium']"
      ]
     },
     "execution_count": 674,
     "metadata": {},
     "output_type": "execute_result"
    }
   ],
   "source": [
    "get_hike_features('Inspiration Point')"
   ]
  },
  {
   "cell_type": "markdown",
   "metadata": {},
   "source": [
    "# Create figures"
   ]
  },
  {
   "cell_type": "code",
   "execution_count": 699,
   "metadata": {},
   "outputs": [],
   "source": [
    "sns.set()"
   ]
  },
  {
   "cell_type": "code",
   "execution_count": 700,
   "metadata": {},
   "outputs": [],
   "source": [
    "coll_filt = 0.052\n",
    "coll_filt_plus_atts = 0.041\n",
    "coll_filt_plus_atts_plus_w2v = 0.011\n",
    "baseline_random = 0.0019\n",
    "baseline_top = 0.047"
   ]
  },
  {
   "cell_type": "code",
   "execution_count": 727,
   "metadata": {},
   "outputs": [
    {
     "data": {
      "image/png": "[encoded data removed]",
      "text/plain": [
       "<Figure size 360x360 with 1 Axes>"
      ]
     },
     "metadata": {},
     "output_type": "display_data"
    }
   ],
   "source": [
    "plt.figure(figsize=(5,5))\n",
    "plt.bar(x=[0, 1, 2], height=[coll_filt, coll_filt_plus_atts, coll_filt_plus_atts_plus_w2v], \n",
    "                             color=['#149556', '#149556', '#149556'], edgecolor='k')\n",
    "plt.plot([-0.5, 2.5], [baseline_random, baseline_random], c='r', linestyle='--', linewidth=3)\n",
    "plt.plot([-0.5, 2.5], [baseline_top, baseline_top], c='r', linestyle='--', linewidth=3)\n",
    "plt.ylabel('Precision@5', fontsize=14)\n",
    "plt.xlabel('Recommendation System Type', labelpad=30)\n",
    "plt.tick_params(\n",
    "    axis='x',          # changes apply to the x-axis\n",
    "    which='both',      # both major and minor ticks are affected\n",
    "    bottom=False,      # ticks along the bottom edge are off\n",
    "    top=False,         # ticks along the top edge are off\n",
    "    labelbottom=False)\n",
    "plt.savefig('Precision@5.png', dpi=300, bbox_inches='tight')"
   ]
  },
  {
   "cell_type": "code",
   "execution_count": null,
   "metadata": {},
   "outputs": [],
   "source": [
    "#bdaa69"
   ]
  },
  {
   "cell_type": "code",
   "execution_count": 729,
   "metadata": {},
   "outputs": [],
   "source": [
    "coll_filt = 408\n",
    "coll_filt_plus_atts = 603\n",
    "baseline_top = 5"
   ]
  },
  {
   "cell_type": "code",
   "execution_count": 740,
   "metadata": {},
   "outputs": [
    {
     "data": {
      "image/png": "[encoded data removed]",
      "text/plain": [
       "<Figure size 216x360 with 1 Axes>"
      ]
     },
     "metadata": {},
     "output_type": "display_data"
    }
   ],
   "source": [
    "f = plt.figure(figsize=(3,5))\n",
    "ax= f.add_subplot(111)\n",
    "ax.bar(x=[0, 1], height=[coll_filt, coll_filt_plus_atts], \n",
    "                             color=['#bdaa69', '#bdaa69'], edgecolor='k')\n",
    "ax.plot([-0.5, 1.5], [baseline_top, baseline_top], c='r', linestyle='--', linewidth=3)\n",
    "ax.set_ylabel('# of hikes recommended across all users', fontsize=14)\n",
    "ax.set_xlabel('', labelpad=30)\n",
    "ax.yaxis.tick_right()\n",
    "ax.yaxis.set_label_position(\"right\")\n",
    "ax.tick_params(\n",
    "    axis='x',          # changes apply to the x-axis\n",
    "    which='both',      # both major and minor ticks are affected\n",
    "    bottom=False,      # ticks along the bottom edge are off\n",
    "    top=False,         # ticks along the top edge are off\n",
    "    labelbottom=False)\n",
    "plt.savefig('Number_of_hikes_predicted.png', dpi=300, bbox_inches='tight')"
   ]
  },
  {
   "cell_type": "code",
   "execution_count": null,
   "metadata": {},
   "outputs": [],
   "source": []
  }
 ],
 "metadata": {
  "kernelspec": {
   "display_name": "Python 3",
   "language": "python",
   "name": "python3"
  },
  "language_info": {
   "codemirror_mode": {
    "name": "ipython",
    "version": 3
   },
   "file_extension": ".py",
   "mimetype": "text/x-python",
   "name": "python",
   "nbconvert_exporter": "python",
   "pygments_lexer": "ipython3",
   "version": "3.7.1"
  }
 },
 "nbformat": 4,
 "nbformat_minor": 2
}
